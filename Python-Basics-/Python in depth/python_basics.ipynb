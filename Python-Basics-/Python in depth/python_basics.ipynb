{
 "cells": [
  {
   "cell_type": "code",
   "execution_count": 1,
   "id": "f1cc4008",
   "metadata": {},
   "outputs": [
    {
     "data": {
      "text/plain": [
       "4"
      ]
     },
     "execution_count": 1,
     "metadata": {},
     "output_type": "execute_result"
    }
   ],
   "source": [
    "2+2"
   ]
  },
  {
   "cell_type": "code",
   "execution_count": 2,
   "id": "b5453b54",
   "metadata": {},
   "outputs": [
    {
     "ename": "ValueError",
     "evalue": "invalid literal for int() with base 10: ''",
     "output_type": "error",
     "traceback": [
      "\u001b[0;31m---------------------------------------------------------------------------\u001b[0m",
      "\u001b[0;31mValueError\u001b[0m                                Traceback (most recent call last)",
      "Cell \u001b[0;32mIn[2], line 3\u001b[0m\n\u001b[1;32m      1\u001b[0m \u001b[38;5;66;03m#string replication\u001b[39;00m\n\u001b[1;32m      2\u001b[0m x \u001b[38;5;241m=\u001b[39m \u001b[38;5;28minput\u001b[39m(\u001b[38;5;124m'\u001b[39m\u001b[38;5;124mInput string value: \u001b[39m\u001b[38;5;124m'\u001b[39m)\n\u001b[0;32m----> 3\u001b[0m y \u001b[38;5;241m=\u001b[39m \u001b[38;5;28;43mint\u001b[39;49m\u001b[43m(\u001b[49m\u001b[38;5;28;43minput\u001b[39;49m\u001b[43m(\u001b[49m\u001b[38;5;124;43m'\u001b[39;49m\u001b[38;5;124;43mInput replication value: \u001b[39;49m\u001b[38;5;124;43m'\u001b[39;49m\u001b[43m)\u001b[49m\u001b[43m)\u001b[49m\n\u001b[1;32m      4\u001b[0m \u001b[38;5;28mprint\u001b[39m(x \u001b[38;5;241m*\u001b[39m y )\n",
      "\u001b[0;31mValueError\u001b[0m: invalid literal for int() with base 10: ''"
     ]
    }
   ],
   "source": [
    "#string replication\n",
    "x = input('Input string value: ')\n",
    "y = int(input('Input replication value: '))\n",
    "print(x * y )"
   ]
  },
  {
   "cell_type": "code",
   "execution_count": null,
   "id": "aaba8cb6",
   "metadata": {},
   "outputs": [
    {
     "data": {
      "text/plain": [
       "6"
      ]
     },
     "execution_count": 34,
     "metadata": {},
     "output_type": "execute_result"
    }
   ],
   "source": [
    "len('dasdas')"
   ]
  },
  {
   "cell_type": "code",
   "execution_count": null,
   "id": "f4b9aa73",
   "metadata": {},
   "outputs": [
    {
     "name": "stdout",
     "output_type": "stream",
     "text": [
      "What is your name\n",
      "\n",
      "What is your age\n",
      "\n"
     ]
    },
    {
     "ename": "ValueError",
     "evalue": "invalid literal for int() with base 10: ''",
     "output_type": "error",
     "traceback": [
      "\u001b[0;31m---------------------------------------------------------------------------\u001b[0m",
      "\u001b[0;31mValueError\u001b[0m                                Traceback (most recent call last)",
      "Cell \u001b[0;32mIn[35], line 7\u001b[0m\n\u001b[1;32m      5\u001b[0m \u001b[38;5;28mprint\u001b[39m(\u001b[38;5;124m'\u001b[39m\u001b[38;5;124mWhat is your age\u001b[39m\u001b[38;5;124m'\u001b[39m)\n\u001b[1;32m      6\u001b[0m \u001b[38;5;28mprint\u001b[39m()\n\u001b[0;32m----> 7\u001b[0m age \u001b[38;5;241m=\u001b[39m \u001b[38;5;28;43mint\u001b[39;49m\u001b[43m(\u001b[49m\u001b[38;5;28;43minput\u001b[39;49m\u001b[43m(\u001b[49m\u001b[43m)\u001b[49m\u001b[43m)\u001b[49m\n\u001b[1;32m      8\u001b[0m \u001b[38;5;28mprint\u001b[39m(\u001b[38;5;124m'\u001b[39m\u001b[38;5;124mYour name is \u001b[39m\u001b[38;5;124m'\u001b[39m \u001b[38;5;241m+\u001b[39m name \u001b[38;5;241m+\u001b[39m \u001b[38;5;124m'\u001b[39m\u001b[38;5;124m you are \u001b[39m\u001b[38;5;124m'\u001b[39m \u001b[38;5;241m+\u001b[39m \u001b[38;5;28mstr\u001b[39m(age) \u001b[38;5;241m+\u001b[39m \u001b[38;5;124m'\u001b[39m\u001b[38;5;124m years old \u001b[39m\u001b[38;5;124m'\u001b[39m)\n",
      "\u001b[0;31mValueError\u001b[0m: invalid literal for int() with base 10: ''"
     ]
    }
   ],
   "source": [
    "#Print, input, len\n",
    "print('What is your name')\n",
    "print()\n",
    "name = input()\n",
    "print('What is your age')\n",
    "print()\n",
    "age = int(input())\n",
    "print('Your name is ' + name + ' you are ' + str(age) + ' years old ')\n"
   ]
  },
  {
   "cell_type": "code",
   "execution_count": null,
   "id": "a47ed8ee",
   "metadata": {},
   "outputs": [
    {
     "name": "stdout",
     "output_type": "stream",
     "text": [
      "Your name is Bartek and you are 25 years old\n"
     ]
    }
   ],
   "source": [
    "#f string\n",
    "print(f'Your name is {name} and you are {age} years old')"
   ]
  },
  {
   "cell_type": "code",
   "execution_count": null,
   "id": "2c758d17",
   "metadata": {},
   "outputs": [
    {
     "data": {
      "text/plain": [
       "True"
      ]
     },
     "execution_count": 1,
     "metadata": {},
     "output_type": "execute_result"
    }
   ],
   "source": [
    "#Boolean\n",
    "5<6"
   ]
  },
  {
   "cell_type": "code",
   "execution_count": null,
   "id": "6d58342b",
   "metadata": {},
   "outputs": [
    {
     "data": {
      "text/plain": [
       "True"
      ]
     },
     "execution_count": 2,
     "metadata": {},
     "output_type": "execute_result"
    }
   ],
   "source": [
    "(5<6) and (4>2)"
   ]
  },
  {
   "cell_type": "code",
   "execution_count": null,
   "id": "0c976a95",
   "metadata": {},
   "outputs": [
    {
     "name": "stdout",
     "output_type": "stream",
     "text": [
      "Whoa are you\n"
     ]
    }
   ],
   "source": [
    "#If, elif, else\n",
    "name =input('Write your name: ')\n",
    "if name == 'Bartek':\n",
    "    print('Hi Bartek')\n",
    "else:\n",
    "    name != 'Bartek'\n",
    "    print('Who are you')"
   ]
  },
  {
   "cell_type": "code",
   "execution_count": null,
   "id": "19bb9d1a",
   "metadata": {},
   "outputs": [
    {
     "name": "stdout",
     "output_type": "stream",
     "text": [
      "You can go outside\n"
     ]
    }
   ],
   "source": [
    "#Rainy day\n",
    "\n",
    "weather = input('Is it raining today [Y/N]: ')\n",
    "\n",
    "if weather == 'Y':\n",
    "    umbrella = input('Do you have an umbrella? [Y/N]')\n",
    "    if umbrella == 'Y':\n",
    "        print('You can go outside')\n",
    "    elif umbrella == 'N':\n",
    "        print('Stay home for next 10 minutes')\n",
    "else:\n",
    "    weather != 'Y'\n",
    "    print('You have sunny day')"
   ]
  },
  {
   "cell_type": "code",
   "execution_count": null,
   "id": "d6aeca41",
   "metadata": {},
   "outputs": [
    {
     "name": "stdout",
     "output_type": "stream",
     "text": [
      "Hi\n"
     ]
    }
   ],
   "source": [
    "#If vs while\n",
    "x = 0\n",
    "if x < 5:\n",
    "    print('Hi')\n",
    "    x = x + 1"
   ]
  },
  {
   "cell_type": "code",
   "execution_count": null,
   "id": "4b1269b2",
   "metadata": {},
   "outputs": [
    {
     "name": "stdout",
     "output_type": "stream",
     "text": [
      "Hi\n",
      "Hi\n",
      "Hi\n",
      "Hi\n",
      "Hi\n"
     ]
    }
   ],
   "source": [
    "x = 0\n",
    "while x < 5:\n",
    "    print('Hi')\n",
    "    x = x + 1"
   ]
  },
  {
   "cell_type": "code",
   "execution_count": null,
   "id": "b35947a4",
   "metadata": {},
   "outputs": [
    {
     "name": "stdout",
     "output_type": "stream",
     "text": [
      "Hello, who are you?\n",
      "Hello, who are you?\n",
      "Hello Bart, how old are you?\n",
      "Hello, who are you?\n",
      "Hello, who are you?\n",
      "Hello, who are you?\n",
      "Hello, who are you?\n",
      "Hello, who are you?\n",
      "Hello, who are you?\n",
      "Hello, who are you?\n",
      "Hello, who are you?\n",
      "Hello, who are you?\n",
      "Hello, who are you?\n",
      "Hello Bart, how old are you?\n",
      "Hello, who are you?\n",
      "Hello, who are you?\n",
      "Hello Bart, how old are you?\n",
      "Hello Bart you are 27 years old\n",
      "Hi Bart, its you\n"
     ]
    }
   ],
   "source": [
    "while True:\n",
    "    print('Hello, who are you?')\n",
    "    name = input('>')\n",
    "    if name != 'Bartek':\n",
    "        continue\n",
    "    print('Hello Bart, how old are you?')\n",
    "    age = int(input('>'))\n",
    "    if age != 27:\n",
    "        continue\n",
    "    print('Hello Bart you are 27 years old')\n",
    "    city = input('>')\n",
    "    city != 'Gdynia'\n",
    "    if city == 'Gdynia':\n",
    "        break\n",
    "print('Hi Bart, its you')"
   ]
  },
  {
   "cell_type": "code",
   "execution_count": null,
   "id": "2c809b44",
   "metadata": {},
   "outputs": [
    {
     "name": "stdout",
     "output_type": "stream",
     "text": [
      "Welcome to the number guessing game\n",
      "You have three levels to choose from. One is the easiest, Two is moderate and Three is hard.\n",
      "What do you choose:\n",
      "No chocie go again\n"
     ]
    },
    {
     "ename": "ValueError",
     "evalue": "invalid literal for int() with base 10: 'q'",
     "output_type": "error",
     "traceback": [
      "\u001b[0;31m---------------------------------------------------------------------------\u001b[0m",
      "\u001b[0;31mValueError\u001b[0m                                Traceback (most recent call last)",
      "Cell \u001b[0;32mIn[1], line 19\u001b[0m\n\u001b[1;32m     16\u001b[0m     \u001b[38;5;28mprint\u001b[39m(\u001b[38;5;124m'\u001b[39m\u001b[38;5;124mNo chocie go again\u001b[39m\u001b[38;5;124m'\u001b[39m)\n\u001b[1;32m     17\u001b[0m     \u001b[38;5;28;01mcontinue\u001b[39;00m\n\u001b[0;32m---> 19\u001b[0m level \u001b[38;5;241m=\u001b[39m \u001b[38;5;28;43mint\u001b[39;49m\u001b[43m(\u001b[49m\u001b[43muser_input\u001b[49m\u001b[43m)\u001b[49m\n\u001b[1;32m     21\u001b[0m \u001b[38;5;28;01mif\u001b[39;00m level \u001b[38;5;241m==\u001b[39m \u001b[38;5;241m1\u001b[39m:\n\u001b[1;32m     22\u001b[0m     x \u001b[38;5;241m=\u001b[39m random\u001b[38;5;241m.\u001b[39mrandint(\u001b[38;5;241m1\u001b[39m,\u001b[38;5;241m10\u001b[39m)\n",
      "\u001b[0;31mValueError\u001b[0m: invalid literal for int() with base 10: 'q'"
     ]
    }
   ],
   "source": [
    "#Guess the number game\n",
    "import random\n",
    "import sys\n",
    "\n",
    "\n",
    "print('Welcome to the number guessing game')\n",
    "print('You have three levels to choose from. One is the easiest, Two is moderate and Three is hard.')\n",
    "print('What do you choose:')\n",
    "\n",
    "level_user = []\n",
    "\n",
    "while True:\n",
    "    user_input = input('What is the level (1,2,3): ').strip()\n",
    "    \n",
    "    if not user_input:\n",
    "        print('No chocie go again')\n",
    "        continue\n",
    "    if not user_input.isdigit():\n",
    "        print('It must be number 1, 2 or 3')\n",
    "        continue\n",
    "    \n",
    "    level = int(user_input)\n",
    "    \n",
    "    if level == 1:\n",
    "        x = random.randint(1,10)\n",
    "        print(f'You choosed level {level}')\n",
    "        break\n",
    "    elif level == 2:\n",
    "        x = random.randint(1,50)\n",
    "        print(f'You choosed level {level}')\n",
    "        break\n",
    "    elif level == 3:\n",
    "        x = random.randint(1,100)\n",
    "        print(f'You choosed level {level}')\n",
    "        break\n",
    "    else:\n",
    "        print('Wrong level')\n",
    "        \n",
    "\n",
    "#Guessing\n",
    "while True:\n",
    "    print('Chose your number')\n",
    "    user_number = input('Chose your number: ').strip()\n",
    "    \n",
    "    if not user_number:\n",
    "        print('No chocie go again')\n",
    "        continue\n",
    "    if not user_number.isdigit():\n",
    "        print('It must be number 1, 2 or 3')\n",
    "        continue\n",
    "    \n",
    "    guess = int(user_number)\n",
    "    \n",
    "    if guess > x:\n",
    "        print(f'Wrong number you missed by {guess - x}')\n",
    "        continue\n",
    "    elif guess < x:\n",
    "        print(f'Wrong number you missed by {x - guess}')\n",
    "        continue\n",
    "    else: \n",
    "        print('Correct!')\n",
    "        break\n",
    "        "
   ]
  },
  {
   "cell_type": "code",
   "execution_count": 7,
   "id": "2e592a87",
   "metadata": {},
   "outputs": [
    {
     "name": "stdout",
     "output_type": "stream",
     "text": [
      "1\n",
      "2\n",
      "Fizz\n",
      "4\n",
      "Buzz\n",
      "Fizz\n",
      "7\n",
      "8\n",
      "Fizz\n",
      "Buzz\n",
      "11\n",
      "Fizz\n",
      "13\n",
      "14\n",
      "FizzBuzz\n",
      "16\n",
      "17\n",
      "Fizz\n",
      "19\n",
      "Buzz\n",
      "Fizz\n",
      "22\n",
      "23\n",
      "Fizz\n",
      "Buzz\n",
      "26\n",
      "Fizz\n",
      "28\n",
      "29\n",
      "FizzBuzz\n",
      "31\n",
      "32\n",
      "Fizz\n",
      "34\n",
      "Buzz\n",
      "Fizz\n",
      "37\n",
      "38\n",
      "Fizz\n",
      "Buzz\n",
      "41\n",
      "Fizz\n",
      "43\n",
      "44\n",
      "FizzBuzz\n",
      "46\n",
      "47\n",
      "Fizz\n",
      "49\n",
      "Buzz\n",
      "Fizz\n",
      "52\n",
      "53\n",
      "Fizz\n",
      "Buzz\n",
      "56\n",
      "Fizz\n",
      "58\n",
      "59\n",
      "FizzBuzz\n",
      "61\n",
      "62\n",
      "Fizz\n",
      "64\n",
      "Buzz\n",
      "Fizz\n",
      "67\n",
      "68\n",
      "Fizz\n",
      "Buzz\n",
      "71\n",
      "Fizz\n",
      "73\n",
      "74\n",
      "FizzBuzz\n",
      "76\n",
      "77\n",
      "Fizz\n",
      "79\n",
      "Buzz\n",
      "Fizz\n",
      "82\n",
      "83\n",
      "Fizz\n",
      "Buzz\n",
      "86\n",
      "Fizz\n",
      "88\n",
      "89\n",
      "FizzBuzz\n",
      "91\n",
      "92\n",
      "Fizz\n",
      "94\n",
      "Buzz\n",
      "Fizz\n",
      "97\n",
      "98\n",
      "Fizz\n",
      "Buzz\n"
     ]
    }
   ],
   "source": [
    "#FizzBuzz\n",
    "for i in range (1,101):\n",
    "    \n",
    "    if i % 3 == 0 and i % 5 == 0:\n",
    "        print('FizzBuzz')\n",
    "    elif i % 3 == 0:\n",
    "        print('Fizz')\n",
    "    elif i % 5 == 0:\n",
    "        print('Buzz')\n",
    "    else:\n",
    "        print(i)"
   ]
  },
  {
   "cell_type": "code",
   "execution_count": 1,
   "id": "7b6c621f",
   "metadata": {},
   "outputs": [
    {
     "name": "stdout",
     "output_type": "stream",
     "text": [
      "Hi\n"
     ]
    }
   ],
   "source": [
    "#Functions\n",
    "def hello():\n",
    "    print('Hi')\n",
    "hello()"
   ]
  },
  {
   "cell_type": "code",
   "execution_count": 2,
   "id": "94f4b8fa",
   "metadata": {},
   "outputs": [
    {
     "name": "stdout",
     "output_type": "stream",
     "text": [
      "Hello Bartek, you are 27 and you are from Gdynia\n"
     ]
    }
   ],
   "source": [
    "def hello(name, age, country):\n",
    "    print(f'Hello {name}, you are {age} and you are from {country}')\n",
    "hello('Bartek', 27, 'Gdynia')"
   ]
  },
  {
   "cell_type": "code",
   "execution_count": null,
   "id": "f4f26347",
   "metadata": {},
   "outputs": [
    {
     "name": "stdout",
     "output_type": "stream",
     "text": [
      "Hello Bartek, you are 27 and you are from Gdynia\n"
     ]
    }
   ],
   "source": [
    "#Function with input\n",
    "def hello(name, age, country):\n",
    "    print(f'Hello {name}, you are {age} and you are from {country}')\n",
    "    \n",
    "name = input()\n",
    "age = input().strip()\n",
    "age = int(age)\n",
    "country = input()\n",
    "\n",
    "hello(name, age, country)    "
   ]
  },
  {
   "cell_type": "code",
   "execution_count": 14,
   "id": "c7ae94bc",
   "metadata": {},
   "outputs": [
    {
     "name": "stdout",
     "output_type": "stream",
     "text": [
      "HTHHTHHHTTTHTTTHHHTTHHTTTHTHTTTHHHTHHHTTHTHHTHTTTHHHTHHTTTTTHTHHHTTTHTHTHTTHHHHTHHHTTHTHHHTHHHHHTTHT\n"
     ]
    }
   ],
   "source": [
    "#Head or tails\n",
    "import random\n",
    "\n",
    "for i in range(100):\n",
    "    if random.randint(0, 1) == 0:\n",
    "        print('H', end = '')\n",
    "    else:\n",
    "        print('T', end = '')\n",
    "print()\n",
    "        "
   ]
  },
  {
   "cell_type": "code",
   "execution_count": 16,
   "id": "d1ef0026",
   "metadata": {},
   "outputs": [
    {
     "name": "stdout",
     "output_type": "stream",
     "text": [
      "Min: 12, max: 123\n"
     ]
    }
   ],
   "source": [
    "def stats(numbers):\n",
    "    minimum = min(numbers)\n",
    "    maximum = max(numbers)\n",
    "    return minimum, maximum\n",
    "\n",
    "length = [12,53,123,42,56,72,23,56,78,98]\n",
    "\n",
    "minimun, maximum = stats(length)\n",
    "print(f'Min: {minimun}, max: {maximum}')"
   ]
  },
  {
   "cell_type": "code",
   "execution_count": 18,
   "id": "9ecadf9e",
   "metadata": {},
   "outputs": [
    {
     "name": "stdout",
     "output_type": "stream",
     "text": [
      "10\n",
      "10\n"
     ]
    }
   ],
   "source": [
    "#Global\n",
    "x = 10\n",
    "\n",
    "def number():\n",
    "    print(x)\n",
    "number()\n",
    "print(x)"
   ]
  },
  {
   "cell_type": "code",
   "execution_count": 22,
   "id": "d72329a8",
   "metadata": {},
   "outputs": [
    {
     "name": "stdout",
     "output_type": "stream",
     "text": [
      "10\n",
      "10\n"
     ]
    }
   ],
   "source": [
    "def number():\n",
    "    global x\n",
    "    x = 10\n",
    "    print(x)\n",
    "number()\n",
    "print(x)"
   ]
  },
  {
   "cell_type": "code",
   "execution_count": 26,
   "id": "80269644",
   "metadata": {},
   "outputs": [
    {
     "name": "stdout",
     "output_type": "stream",
     "text": [
      "10\n"
     ]
    }
   ],
   "source": [
    "#Local\n",
    "def number():\n",
    "    y = 10\n",
    "    print(y)\n",
    "number()\n",
    "#print(y) y is local here and cannot be called out of the function alone"
   ]
  },
  {
   "cell_type": "code",
   "execution_count": 29,
   "id": "00d314c3",
   "metadata": {},
   "outputs": [
    {
     "name": "stdout",
     "output_type": "stream",
     "text": [
      "Sum of a and b is: 2\n"
     ]
    }
   ],
   "source": [
    "#Add \n",
    "def add(a, b):\n",
    "    sum = a + b\n",
    "    print(f'Sum of a and b is: {sum}')\n",
    "    \n",
    "a = input('What is your number: ').strip()\n",
    "a = int(a)\n",
    "b = input('What is your second number: ').strip()\n",
    "b = int(b)\n",
    "\n",
    "add(a,b)"
   ]
  },
  {
   "cell_type": "code",
   "execution_count": null,
   "id": "504e0e71",
   "metadata": {},
   "outputs": [
    {
     "name": "stdout",
     "output_type": "stream",
     "text": [
      "Is even\n"
     ]
    }
   ],
   "source": [
    "#Even or add\n",
    "def if_even(a):\n",
    "    if a % 2 == 0:\n",
    "        print('Is even')\n",
    "    elif a % 2 != 0:\n",
    "        print('Is odd')\n",
    "        \n",
    "a = input('What is your number: ').strip()\n",
    "a = int(a)\n",
    "\n",
    "if_even(a)"
   ]
  },
  {
   "cell_type": "code",
   "execution_count": 34,
   "id": "ecb8947b",
   "metadata": {},
   "outputs": [
    {
     "name": "stdout",
     "output_type": "stream",
     "text": [
      "Max number is 3123123312131\n"
     ]
    }
   ],
   "source": [
    "#Find max \n",
    "\n",
    "numbers = [1,2,3,12,31,2321,1231231,3123123312131]\n",
    "\n",
    "def max_values(numbers):\n",
    "    maximum = max(numbers)\n",
    "    print(f'Max number is {maximum}')\n",
    "max_values(numbers)"
   ]
  },
  {
   "cell_type": "code",
   "execution_count": null,
   "id": "936eb395",
   "metadata": {},
   "outputs": [
    {
     "name": "stdout",
     "output_type": "stream",
     "text": [
      "Welcome to the restaurant. What is you dream pizza:\n",
      "Your pizza is made from: ['Ham', 'Cheese', 'Cucamber']\n"
     ]
    }
   ],
   "source": [
    "#Restaurant menu\n",
    "order = []\n",
    "print('Welcome to the restaurant. What is you dream pizza:')\n",
    "\n",
    "while True:\n",
    "    x = input('Add your ingredients: ')\n",
    "    order.append(x)\n",
    "    \n",
    "    if x == 'q':\n",
    "        break\n",
    "    \n",
    "order.pop()\n",
    "print(f'Your pizza is made from: {order}')    "
   ]
  },
  {
   "cell_type": "code",
   "execution_count": 1,
   "id": "7f7174af",
   "metadata": {},
   "outputs": [],
   "source": [
    "#Dictionaries\n"
   ]
  },
  {
   "cell_type": "code",
   "execution_count": 2,
   "id": "5d705473",
   "metadata": {},
   "outputs": [
    {
     "data": {
      "text/plain": [
       "{1, 2, 3}"
      ]
     },
     "execution_count": 2,
     "metadata": {},
     "output_type": "execute_result"
    }
   ],
   "source": [
    "#Sets\n",
    "set([1,1,2,3])"
   ]
  },
  {
   "cell_type": "code",
   "execution_count": 12,
   "id": "68ae1509",
   "metadata": {},
   "outputs": [
    {
     "name": "stdout",
     "output_type": "stream",
     "text": [
      "o\n",
      "o\n"
     ]
    }
   ],
   "source": [
    "s = 'hello'\n",
    "# Print out 'o' using indexing\n",
    "print(s[-1])\n",
    "print(s[4])"
   ]
  },
  {
   "cell_type": "code",
   "execution_count": 11,
   "id": "652c911b",
   "metadata": {},
   "outputs": [
    {
     "data": {
      "text/plain": [
       "'olleh'"
      ]
     },
     "execution_count": 11,
     "metadata": {},
     "output_type": "execute_result"
    }
   ],
   "source": [
    "s ='hello'\n",
    "# Reverse the string using slicing\n",
    "s[::-1]"
   ]
  },
  {
   "cell_type": "code",
   "execution_count": 13,
   "id": "f6fbb60a",
   "metadata": {},
   "outputs": [
    {
     "data": {
      "text/plain": [
       "[1, 2, [3, 4, 'Goodbye']]"
      ]
     },
     "execution_count": 13,
     "metadata": {},
     "output_type": "execute_result"
    }
   ],
   "source": [
    "#Reassign 'hello' in this nested list to say 'goodbye' instead:\n",
    "list3 = [1,2,[3,4,'hello']]\n",
    "list3[2][2] = 'Goodbye'\n",
    "list3"
   ]
  },
  {
   "cell_type": "code",
   "execution_count": 18,
   "id": "72154048",
   "metadata": {},
   "outputs": [
    {
     "name": "stdout",
     "output_type": "stream",
     "text": [
      "[1, 3, 4, 5, 6]\n"
     ]
    }
   ],
   "source": [
    "#Sort\n",
    "list4 = [5,3,4,6,1]\n",
    "list4.sort()\n",
    "print(list4)"
   ]
  },
  {
   "cell_type": "code",
   "execution_count": 19,
   "id": "8b71ed09",
   "metadata": {},
   "outputs": [
    {
     "data": {
      "text/plain": [
       "'hello'"
      ]
     },
     "execution_count": 19,
     "metadata": {},
     "output_type": "execute_result"
    }
   ],
   "source": [
    "d = {'simple_key':'hello'}\n",
    "# Grab 'hello'\n",
    "d['simple_key']"
   ]
  },
  {
   "cell_type": "code",
   "execution_count": 21,
   "id": "85b4ffe5",
   "metadata": {},
   "outputs": [
    {
     "data": {
      "text/plain": [
       "'hello'"
      ]
     },
     "execution_count": 21,
     "metadata": {},
     "output_type": "execute_result"
    }
   ],
   "source": [
    "d = {'k1':{'k2':'hello'}}\n",
    "# Grab 'hello'\n",
    "d['k1']['k2']"
   ]
  },
  {
   "cell_type": "code",
   "execution_count": 23,
   "id": "b85d00a5",
   "metadata": {},
   "outputs": [
    {
     "data": {
      "text/plain": [
       "['hello']"
      ]
     },
     "execution_count": 23,
     "metadata": {},
     "output_type": "execute_result"
    }
   ],
   "source": [
    "# Getting a little tricker\n",
    "d = {'k1':[{'nest_key':['this is deep',['hello']]}]}\n",
    "\n",
    "#Grab hello\n",
    "d['k1'][0]['nest_key'][1]"
   ]
  },
  {
   "cell_type": "code",
   "execution_count": 30,
   "id": "ad364587",
   "metadata": {},
   "outputs": [
    {
     "data": {
      "text/plain": [
       "['hello']"
      ]
     },
     "execution_count": 30,
     "metadata": {},
     "output_type": "execute_result"
    }
   ],
   "source": [
    "# This will be hard and annoying!\n",
    "d = {'k1':[1,2,{'k2':['this is tricky',{'tough':[1,2,['hello']]}]}]}\n",
    "d['k1'][2]['k2'][1]['tough'][2]"
   ]
  },
  {
   "cell_type": "code",
   "execution_count": 31,
   "id": "2e642de6",
   "metadata": {},
   "outputs": [
    {
     "data": {
      "text/plain": [
       "{1, 2, 3, 4, 11, 22, 33}"
      ]
     },
     "execution_count": 31,
     "metadata": {},
     "output_type": "execute_result"
    }
   ],
   "source": [
    "#Set\n",
    "list5 = [1,2,2,33,4,4,11,22,3,3,2]\n",
    "set(list5)"
   ]
  },
  {
   "cell_type": "code",
   "execution_count": 33,
   "id": "4e45cb76",
   "metadata": {},
   "outputs": [],
   "source": [
    "#OOP"
   ]
  },
  {
   "cell_type": "code",
   "execution_count": 36,
   "id": "53a176dd",
   "metadata": {},
   "outputs": [
    {
     "name": "stdout",
     "output_type": "stream",
     "text": [
      "Hi Bartek\n"
     ]
    }
   ],
   "source": [
    "class Animal():\n",
    "    \n",
    "    def __init__(self, name):\n",
    "        self.name = name\n",
    "        \n",
    "    def greet(self):\n",
    "        print(f'Hi {self.name}')\n",
    "        \n",
    "bart = Animal('Bartek')\n",
    "bart.greet()"
   ]
  },
  {
   "cell_type": "code",
   "execution_count": 32,
   "id": "cd183758",
   "metadata": {},
   "outputs": [
    {
     "name": "stdout",
     "output_type": "stream",
     "text": [
      "Meow\n",
      "Moo\n"
     ]
    }
   ],
   "source": [
    "class Cat:\n",
    "    def sound(self):\n",
    "        print(\"Meow\")\n",
    "\n",
    "class Cow:\n",
    "    def sound(self):\n",
    "        print(\"Moo\")\n",
    "\n",
    "for animal in [Cat(), Cow()]:\n",
    "    animal.sound()"
   ]
  },
  {
   "cell_type": "code",
   "execution_count": 44,
   "id": "230a99a3",
   "metadata": {},
   "outputs": [
    {
     "name": "stdout",
     "output_type": "stream",
     "text": [
      "Husky\n",
      "Ozi\n",
      "Black\n",
      "Woof\n"
     ]
    }
   ],
   "source": [
    "class Dog():\n",
    "    \n",
    "    def __init__(self, breed, name, color):\n",
    "        self.breed = breed\n",
    "        self.name = name\n",
    "        self.color = color\n",
    "        \n",
    "    def bark(self):\n",
    "        print('Woof')\n",
    "        \n",
    "my_dog = Dog('Husky', 'Ozi', 'Black')\n",
    "print(my_dog.breed)\n",
    "print(my_dog.name)\n",
    "print(my_dog.color)\n",
    "my_dog.bark()"
   ]
  },
  {
   "cell_type": "code",
   "execution_count": 47,
   "id": "8005dec9",
   "metadata": {},
   "outputs": [
    {
     "data": {
      "text/plain": [
       "188.4"
      ]
     },
     "execution_count": 47,
     "metadata": {},
     "output_type": "execute_result"
    }
   ],
   "source": [
    "class Circle():\n",
    "    \n",
    "    #Class object attribute\n",
    "    pi = 3.14\n",
    "    \n",
    "    def __init__(self, radius=1):\n",
    "        self.radius = radius\n",
    "        \n",
    "    #Method\n",
    "    def get_aera(self):\n",
    "        return self.radius * self.pi * 2\n",
    "\n",
    "my_circle = Circle(30)\n",
    "my_circle.radius\n",
    "my_circle.get_aera()"
   ]
  },
  {
   "cell_type": "code",
   "execution_count": 50,
   "id": "0ceead61",
   "metadata": {},
   "outputs": [
    {
     "name": "stdout",
     "output_type": "stream",
     "text": [
      "The book was written by J.R.R Tolkien, the title is The Hobbot, and the year when was published is 1937\n"
     ]
    }
   ],
   "source": [
    "#Excerises\n",
    "class Book():\n",
    "    def __init__(self, title, author, year):\n",
    "        self.title = title\n",
    "        self.author = author\n",
    "        self.year = year\n",
    "        \n",
    "    def display_info(self):\n",
    "        print(f'The book was written by {self.author}, the title is {self.title}, and the year when was published is {self.year}')\n",
    "        \n",
    "tolkien = Book('The Hobbot', 'J.R.R Tolkien', 1937)\n",
    "tolkien.display_info()"
   ]
  },
  {
   "cell_type": "code",
   "execution_count": null,
   "id": "7c67096b",
   "metadata": {},
   "outputs": [
    {
     "name": "stdout",
     "output_type": "stream",
     "text": [
      "Student name is: Bartek, Student ID is 123. Student grades are: [100, 23, 69, 90, 98, 99.8]\n",
      "Grade 4 was added\n",
      "Grades are [100, 23, 69, 90, 98, 99.8, 4]\n",
      "Pass\n"
     ]
    }
   ],
   "source": [
    "#Student task\n",
    "\n",
    "class Student():\n",
    "    \n",
    "    #Attributes\n",
    "    def __init__(self, name, student_id, grades = None):\n",
    "        self.name = name\n",
    "        self.student_id = student_id\n",
    "        self.grades = grades if grades is not None else []\n",
    "    \n",
    "    #Methods\n",
    "    def average(self):\n",
    "        if self.grades:\n",
    "            return sum(self.grades) / len(self.grades)\n",
    "        return 0\n",
    "        \n",
    "    def display_info(self):\n",
    "        print(f'Student name is: {self.name}, Student ID is {self.student_id}. Student grades are: {self.grades}')\n",
    "        \n",
    "    def add_grade(self, grade):\n",
    "        self.grades.append(grade)\n",
    "        print(f'Grade {grade} was added')\n",
    "        \n",
    "    def display_grades(self):\n",
    "        print(f'Grades are {self.grades}')  \n",
    "        \n",
    "    def status(self):\n",
    "        if self.average() > 60:\n",
    "            print('Pass')\n",
    "        else:\n",
    "            print('Failed')  \n",
    "\n",
    "x = Student('Bartek', 123, [100,23,69,90,98,99.80])\n",
    "\n",
    "x.average()\n",
    "x.display_info()\n",
    "x.add_grade(4)\n",
    "x.display_grades()\n",
    "x.status()\n"
   ]
  },
  {
   "cell_type": "code",
   "execution_count": 91,
   "id": "321f8376",
   "metadata": {},
   "outputs": [],
   "source": [
    "#Inheritence\n",
    "\n",
    "class Animal():\n",
    "    def __init__(self):\n",
    "        print('Animal Created')\n",
    "        \n",
    "    #Methods\n",
    "    def eat(self):\n",
    "        print('Animal is eating')\n",
    "        \n",
    "    def who_i_am(self):\n",
    "        print('I am an animal')"
   ]
  },
  {
   "cell_type": "code",
   "execution_count": 92,
   "id": "1d03e8f0",
   "metadata": {},
   "outputs": [
    {
     "name": "stdout",
     "output_type": "stream",
     "text": [
      "Animal Created\n",
      "I am an animal\n"
     ]
    }
   ],
   "source": [
    "animal = Animal()\n",
    "animal.who_i_am()"
   ]
  },
  {
   "cell_type": "code",
   "execution_count": 97,
   "id": "3ee2bd07",
   "metadata": {},
   "outputs": [],
   "source": [
    "class Dog(Animal):\n",
    "    def __init__(self):\n",
    "        Animal.__init__(self)\n",
    "        print('Dog is created')\n",
    "        \n",
    "    def eat(self):\n",
    "        print('Dog is eating')\n",
    "        \n",
    "    def bark(self):\n",
    "        print('Woof')\n",
    "        "
   ]
  },
  {
   "cell_type": "code",
   "execution_count": 99,
   "id": "553df5c5",
   "metadata": {},
   "outputs": [
    {
     "name": "stdout",
     "output_type": "stream",
     "text": [
      "Animal Created\n",
      "Dog is created\n",
      "I am an animal\n",
      "Dog is eating\n",
      "Animal is eating\n",
      "Woof\n"
     ]
    }
   ],
   "source": [
    "dog = Dog()\n",
    "dog.who_i_am()\n",
    "#Dog class\n",
    "dog.eat()\n",
    "#Animal class\n",
    "animal.eat()\n",
    "dog.bark()"
   ]
  },
  {
   "cell_type": "code",
   "execution_count": null,
   "id": "9b35e924",
   "metadata": {},
   "outputs": [
    {
     "name": "stdout",
     "output_type": "stream",
     "text": [
      "Calculate shape of figures\n",
      "Circle aera is 12.56\n",
      "None\n",
      "Calculate shape of figures\n",
      "Rectangle aera is 6\n",
      "None\n",
      "Calculate shape of figures\n",
      "Triangle aera is 78.0\n",
      "None\n"
     ]
    }
   ],
   "source": [
    "#Polymorphism\n",
    "pi = 3.14\n",
    "class Shape():\n",
    "    def __init__(self):\n",
    "        print('Calculate shape of figures')\n",
    "    def aera(self):\n",
    "        pass\n",
    "        \n",
    "class Circle(Shape):\n",
    "    def __init__(self, radius):\n",
    "        Shape.__init__(self)\n",
    "        self.radius=radius \n",
    "    def aera(self):\n",
    "        print(f'Circle aera is {self.radius * self.radius * pi}')\n",
    "\n",
    "class Rectangle(Shape):\n",
    "    def __init__(self, width, height):\n",
    "        Shape.__init__(self)\n",
    "        self.width=width \n",
    "        self.height=height\n",
    "    def aera(self):\n",
    "        print(f'Rectangle aera is {self.height * self.width}')\n",
    "        \n",
    "class Triangle(Shape):\n",
    "    def __init__(self, width, height):\n",
    "        Shape.__init__(self)\n",
    "        self.width=width \n",
    "        self.height=height\n",
    "    def aera(self):\n",
    "        print(f'Triangle aera is {(self.height * self.width) / 2}')\n",
    "\n",
    "circle = Circle(2)\n",
    "print(circle.aera())\n",
    "rectangle = Rectangle(2,3)\n",
    "print(rectangle.aera())\n",
    "triangle = Triangle(13,12)\n",
    "print(triangle.aera())"
   ]
  },
  {
   "cell_type": "code",
   "execution_count": 120,
   "id": "057e9e6e",
   "metadata": {},
   "outputs": [
    {
     "name": "stdout",
     "output_type": "stream",
     "text": [
      "Creates animal\n",
      "Creates animal\n",
      "Creates animal\n",
      "This is This is Niko woof\n",
      "This is This is Felix moew\n",
      "This is This is Cow mooooo\n"
     ]
    }
   ],
   "source": [
    "class Animal():\n",
    "    def __init__(self):\n",
    "        print('Creates animal')\n",
    "\n",
    "class Dog(Animal):\n",
    "    def __init__(self, name):\n",
    "        Animal.__init__(self)\n",
    "        self.name = name\n",
    "    def speak(self):\n",
    "        return f\"This is {self.name} woof\"\n",
    "\n",
    "class Cat(Animal):\n",
    "    def __init__(self, name):\n",
    "        Animal.__init__(self)\n",
    "        self.name = name\n",
    "    def speak(self):\n",
    "        return f\"This is {self.name} moew\"\n",
    "    \n",
    "class Cow(Animal):\n",
    "    def __init__(self, name):\n",
    "        Animal.__init__(self)\n",
    "        self.name = name\n",
    "    def speak(self):\n",
    "        return f\"This is {self.name} mooooo\"\n",
    "    \n",
    "#Animals \n",
    "animals = [Dog('Niko'), \n",
    "           Cat('Felix'), \n",
    "           Cow('Cow')]\n",
    "\n",
    "for animal in animals:\n",
    "    print(f'This is {animal.speak()}')\n",
    "    "
   ]
  },
  {
   "cell_type": "code",
   "execution_count": 131,
   "id": "fa0c7af8",
   "metadata": {},
   "outputs": [
    {
     "name": "stdout",
     "output_type": "stream",
     "text": [
      "This is Niko\n"
     ]
    }
   ],
   "source": [
    "#Magic and dunder\n",
    "class Dog:\n",
    "    def __init__(self, name):   # special method\n",
    "        self.name = name        # regular attribute\n",
    "\n",
    "    def speak (self):          # special method\n",
    "        return f\"This is {self.name}\"\n",
    "        \n",
    "dog = Dog('Niko')\n",
    "print(dog.speak())"
   ]
  },
  {
   "cell_type": "code",
   "execution_count": 134,
   "id": "1d5f6cf2",
   "metadata": {},
   "outputs": [
    {
     "name": "stdout",
     "output_type": "stream",
     "text": [
      "XYZ by Bartek, written in 2025\n"
     ]
    },
    {
     "data": {
      "text/plain": [
       "2025"
      ]
     },
     "execution_count": 134,
     "metadata": {},
     "output_type": "execute_result"
    }
   ],
   "source": [
    "#Magic and dunder\n",
    "\n",
    "class Book():\n",
    "    def __init__(self, title, name, year):\n",
    "        self.title = title\n",
    "        self.name = name\n",
    "        self.year = year\n",
    "    \n",
    "    def __str__(self):\n",
    "        return f'{self.title} by {self.name}, written in {self.year}'\n",
    "    \n",
    "    def __len__(self):\n",
    "        return self.year\n",
    "    \n",
    "book = Book('XYZ', 'Bartek', 2025)\n",
    "print(book)\n",
    "len(book)"
   ]
  },
  {
   "cell_type": "code",
   "execution_count": null,
   "id": "0440414c",
   "metadata": {},
   "outputs": [
    {
     "name": "stdout",
     "output_type": "stream",
     "text": [
      "Coordinates added\n",
      "The distance is 3.605551275463989\n",
      "The slope is 1.6\n"
     ]
    }
   ],
   "source": [
    "import math\n",
    "\n",
    "class Line():\n",
    "    def __init__(self, coor1, coor2):\n",
    "        self.coor1 = coor1\n",
    "        self.coor2 = coor2\n",
    "        print('Coordinates added')\n",
    "    \n",
    "    def distance(self):\n",
    "        global x1, x2, y1, y2\n",
    "        x1, y1 = self.coor1\n",
    "        x2, y2 = self.coor2\n",
    "        return f'The distance is {math.sqrt((x2-x1)+((y2- y1)))}'\n",
    "    \n",
    "    def slope(self):\n",
    "        return f'The slope is {(y2-y1) / (x2 - x1)}'\n",
    "    \n",
    "li = Line((3,2), (8,10))\n",
    "print(li.distance())\n",
    "print(li.slope())"
   ]
  },
  {
   "cell_type": "code",
   "execution_count": null,
   "id": "358ee902",
   "metadata": {},
   "outputs": [
    {
     "name": "stdout",
     "output_type": "stream",
     "text": [
      "Your name is Bartek and your balance is 1000 USD\n",
      "Your new balance is 1100\n",
      "Your new balance is 1090\n",
      "You dont have enough money\n",
      "Your name is Bartek and your balance is 1090 USD\n"
     ]
    }
   ],
   "source": [
    "#Bank account\n",
    "\n",
    "class Account():\n",
    "    def __init__(self, name, value):\n",
    "        self.name = name\n",
    "        self.value = value\n",
    "        \n",
    "    def __str__(self):\n",
    "            return f'Your name is {self.name} and your balance is {self.value} USD'\n",
    "        \n",
    "    def add_money(self, amount):\n",
    "        self.value = self.value + amount\n",
    "        return f'Your new balance is {self.value}'\n",
    "    \n",
    "    def withdraw (self, amount):\n",
    "        if amount > self.value:\n",
    "            return 'You dont have enough money'\n",
    "        else:\n",
    "            self.value = self.value - amount\n",
    "            return f'Your new balance is {self.value}'      \n",
    "             \n",
    "bart = Account('Bartek', 1000)\n",
    "print(bart)\n",
    "print(bart.add_money(100))\n",
    "print(bart.withdraw(10))\n",
    "print(bart.withdraw(10000))\n",
    "print(bart)"
   ]
  },
  {
   "cell_type": "markdown",
   "id": "f2eb37f8",
   "metadata": {},
   "source": [
    "Magic and dunder methods"
   ]
  },
  {
   "cell_type": "code",
   "execution_count": 23,
   "id": "8380172a",
   "metadata": {},
   "outputs": [
    {
     "name": "stdout",
     "output_type": "stream",
     "text": [
      "The book is The Hobbit\n"
     ]
    },
    {
     "data": {
      "text/plain": [
       "'The book is The Hobbit'"
      ]
     },
     "execution_count": 23,
     "metadata": {},
     "output_type": "execute_result"
    }
   ],
   "source": [
    "class Book():\n",
    "    def __init__(self, title):\n",
    "        self.title = title\n",
    "        \n",
    "    def __str__(self):\n",
    "        return f'The book is {self.title}'\n",
    "    \n",
    "    def __repr__(self):\n",
    "        return f'The book is {self.title}'\n",
    "        \n",
    "book = Book('The Hobbit')\n",
    "print(book)\n",
    "repr(book)"
   ]
  },
  {
   "cell_type": "code",
   "execution_count": null,
   "id": "c248f164",
   "metadata": {},
   "outputs": [
    {
     "name": "stdout",
     "output_type": "stream",
     "text": [
      "Result is 5\n"
     ]
    }
   ],
   "source": [
    "class Add():\n",
    "    def __init__(self,a):\n",
    "        self.a = a\n",
    "       \n",
    "    def __add__(self, other):\n",
    "        return Add(self.a + other.a)\n",
    "    \n",
    "    def __str__(self):\n",
    "        return f'Result is {self.a}'\n",
    "       \n",
    "x = Add(2)\n",
    "y = Add(3)\n",
    "z = x + y\n",
    "print(z)"
   ]
  },
  {
   "cell_type": "code",
   "execution_count": 39,
   "id": "906179bb",
   "metadata": {},
   "outputs": [
    {
     "name": "stdout",
     "output_type": "stream",
     "text": [
      "Result is: -13000000\n"
     ]
    }
   ],
   "source": [
    "class Sub():\n",
    "    def __init__(self,a):\n",
    "        self.a = a\n",
    "        \n",
    "    def __sub__(self,other):\n",
    "        return Sub(self.a - other.a)\n",
    "    \n",
    "    def __str__(self):\n",
    "        return f'Result is: {self.a}'\n",
    "\n",
    "x = Sub(123432)\n",
    "y = Sub(13123432)\n",
    "z = x - y\n",
    "print(z)"
   ]
  },
  {
   "cell_type": "code",
   "execution_count": 41,
   "id": "a69c1317",
   "metadata": {},
   "outputs": [
    {
     "name": "stdout",
     "output_type": "stream",
     "text": [
      "Welcome to the bookstore Bartek\n",
      "The Hobbit has been added to the list\n",
      "Lotr has been added to the list\n",
      "Harry Potter has been added to the list\n",
      "Inglories Bastards has been added to the list\n",
      "Mindfuck book not in the list\n",
      "Bartek has ['The Hobbit', 'Lotr', 'Harry Potter', 'Inglories Bastards']\n",
      "Welcome to the bookstore Tom\n",
      "League of Legends has been added to the list\n",
      "Netflix has been added to the list\n",
      "Python has been added to the list\n",
      "Louis Vuitton Book has been added to the list\n",
      "Python has been removed\n",
      "Bartek has ['The Hobbit', 'Lotr', 'Harry Potter', 'Inglories Bastards']\n",
      "Tom has ['League of Legends', 'Netflix', 'Louis Vuitton Book']\n"
     ]
    }
   ],
   "source": [
    "#Bookstore\n",
    "class BookStore():\n",
    "    def __init__(self, user):\n",
    "        self.user = user\n",
    "        self.books = []\n",
    "        print (f'Welcome to the bookstore {self.user}')\n",
    "    \n",
    "    def add_book(self, title):\n",
    "        self.books.append(title)\n",
    "        print(f'{title} has been added to the list')\n",
    "    \n",
    "    def remove(self, title):\n",
    "        if title in self.books:\n",
    "            self.books.remove(title)\n",
    "            print(f'{title} has been removed')\n",
    "        else:\n",
    "            print(f'{title} book not in the list')\n",
    "    \n",
    "    def __str__ (self):\n",
    "        return f'{self.user} has {self.books}'\n",
    "    \n",
    "bart = BookStore('Bartek')\n",
    "bart.add_book('The Hobbit')\n",
    "bart.add_book('Lotr')\n",
    "bart.add_book('Harry Potter')\n",
    "bart.add_book('Inglories Bastards')\n",
    "bart.remove('Mindfuck')\n",
    "print(bart)\n",
    "\n",
    "tom = BookStore('Tom')\n",
    "tom.add_book('League of Legends')\n",
    "tom.add_book('Netflix')\n",
    "tom.add_book('Python')\n",
    "tom.add_book('Louis Vuitton Book')\n",
    "tom.remove('Python')\n",
    "print(bart)\n",
    "print(tom)"
   ]
  },
  {
   "cell_type": "code",
   "execution_count": 71,
   "id": "1fff49a9",
   "metadata": {},
   "outputs": [
    {
     "name": "stdout",
     "output_type": "stream",
     "text": [
      "Welcome to the restaurant system\n",
      "Bartek is 27 years old and is responsible for [1, 2, 3, 4]\n",
      "Tom is 32 years old and is responsible for [5, 6, 7, 8, 9]\n",
      "Vinh is 56 years old and main responsibility is Sosu chef\n",
      "Mikkel is 22 years old and main responsibility is Kitcher assistant\n",
      "Here is the list of all chefs:\n",
      "\n",
      "Chefs:\n",
      " - Vinh (56): Sosu chef\n",
      " - Mikkel (22): Kitcher assistant\n",
      "Here is the list of all waiters:\n",
      "\n",
      "Waiters:\n",
      " - Bartek (27): [1, 2, 3, 4]\n",
      " - Tom (32): [5, 6, 7, 8, 9]\n",
      "\n"
     ]
    }
   ],
   "source": [
    "#Restaurant\n",
    "\n",
    "class Restaurant():\n",
    "    def __init__(self):\n",
    "        self.waiters = []\n",
    "        self.chefs = []\n",
    "        print('Welcome to the restaurant system')\n",
    "        \n",
    "    def waiter(self, name, age, tables):\n",
    "        waiter_info = {\n",
    "            'name' : name,\n",
    "            'age' : age,\n",
    "            'tables' : tables\n",
    "        }\n",
    "        self.waiters.append(waiter_info)\n",
    "        print(f'{name} is {age} years old and is responsible for {tables}')\n",
    "        \n",
    "    def chef(self,name, age, responsibility):\n",
    "        chef_info = {\n",
    "            'name' : name,\n",
    "            'age' : age,\n",
    "            'responsibility' : responsibility\n",
    "        }\n",
    "        self.chefs.append(chef_info)\n",
    "        print(f'{name} is {age} years old and main responsibility is {responsibility}')\n",
    "        \n",
    "    def __str__(self):\n",
    "        summary = \"Here is the list of all chefs:\\n\\n\"\n",
    "        summary += \"Chefs:\\n\"\n",
    "        for chef in self.chefs:\n",
    "            summary += f\" - {chef['name']} ({chef['age']}): {chef['responsibility']}\\n\"\n",
    "\n",
    "    \n",
    "        summary += \"Here is the list of all waiters:\\n\\n\"\n",
    "        summary += \"Waiters:\\n\"\n",
    "        for waiter in self.waiters:\n",
    "            summary += f\" - {waiter['name']} ({waiter['age']}): {waiter['tables']}\\n\"\n",
    "        \n",
    "        return summary\n",
    "    \n",
    "fusion = Restaurant()\n",
    "fusion.waiter('Bartek', 27, [1,2,3,4])\n",
    "fusion.waiter('Tom', 32, [5,6,7,8,9])\n",
    "fusion.chef('Vinh', 56, 'Sosu chef')\n",
    "fusion.chef('Mikkel', 22, 'Kitcher assistant')\n",
    "print(fusion)"
   ]
  },
  {
   "cell_type": "code",
   "execution_count": 8,
   "id": "40d63a05",
   "metadata": {},
   "outputs": [
    {
     "name": "stdout",
     "output_type": "stream",
     "text": [
      "Welcom Bartek your age is 27\n",
      "Hello age 27 Bartek\n"
     ]
    }
   ],
   "source": [
    "#__init__\n",
    "\n",
    "class User:\n",
    "    def __init__(self, name, age):\n",
    "        self.name = name\n",
    "        self.age = age\n",
    "        print(f'Welcom {self.name} your age is {self.age}')\n",
    "        \n",
    "    def hello(self,message):\n",
    "        print(message, 'age', self.age, self.name)\n",
    "        \n",
    "bart = User('Bartek', 27)\n",
    "bart.hello('Hello')"
   ]
  },
  {
   "cell_type": "code",
   "execution_count": null,
   "id": "9c1ce034",
   "metadata": {},
   "outputs": [
    {
     "name": "stdout",
     "output_type": "stream",
     "text": [
      "Rockets altitude is: 2 and its speed is 1\n",
      "Rockets altitude is: 2 and its speed is 2\n",
      "Rockets altitude is: 14 and its speed is 7\n",
      "Rockets altitude is: 14 and its speed is 7\n",
      "Rockets altitude is: 18 and its speed is 6\n",
      "4.0\n"
     ]
    }
   ],
   "source": [
    "#Rocket going up\n",
    "from random import randint\n",
    "from math import sqrt \n",
    "\n",
    "class Rocket:\n",
    "    \"\"\"\n",
    "    Klasa rakiety\n",
    "    \"\"\"\n",
    "    def __init__(self, speed, altitude = 0, x = 0):\n",
    "        self.altitude = altitude\n",
    "        self.speed = speed\n",
    "        self.x = 0\n",
    "        \n",
    "    def moveUp(self):\n",
    "        self.altitude += self.speed\n",
    "        \n",
    "    def __str__(self):\n",
    "        return f'Rockets altitude is: {str(self.altitude)} and its speed is {str(self.speed)}'\n",
    "\n",
    "        \n",
    "class RocketBoard():\n",
    "    def __init__(self, amountOfRockets):\n",
    "        self.rockets = [Rocket(randint(0,10)) for _ in range(5)]\n",
    "\n",
    "        for _ in range(10):\n",
    "            rocketIndexMove = randint(0, 4)\n",
    "            self.rockets[rocketIndexMove].moveUp()\n",
    "\n",
    "        for rocket in self.rockets:\n",
    "            print(rocket)\n",
    "\n",
    "    def __getitem__(self, key):\n",
    "        return self.rockets[key]\n",
    "    \n",
    "    def __setitem__(self,key,value):\n",
    "        self.rockets[key].altitude = value\n",
    "        \n",
    "    @staticmethod\n",
    "    def get_distance(rocket1, rocket2):\n",
    "        ab = (rocket1.altitude - rocket2.altitude) ** 2\n",
    "        bc = (rocket1.x - rocket2.x) ** 2\n",
    "        return sqrt(ab + bc)\n",
    "   \n",
    "board = RocketBoard(2)\n",
    "board[0].x = 4\n",
    "print(RocketBoard.get_distance(board[0], board[1]))"
   ]
  },
  {
   "cell_type": "code",
   "execution_count": 1,
   "id": "272efe7c",
   "metadata": {},
   "outputs": [
    {
     "data": {
      "text/plain": [
       "[0, 1, 4, 9, 16, 25, 36, 49, 64, 81]"
      ]
     },
     "execution_count": 1,
     "metadata": {},
     "output_type": "execute_result"
    }
   ],
   "source": [
    "#Lists Comprahensions\n",
    "\n",
    "squares = [x*x for x in range(10)]\n",
    "squares"
   ]
  },
  {
   "cell_type": "code",
   "execution_count": 5,
   "id": "0c817337",
   "metadata": {},
   "outputs": [
    {
     "data": {
      "text/plain": [
       "[0,\n",
       " 2,\n",
       " 4,\n",
       " 6,\n",
       " 8,\n",
       " 10,\n",
       " 12,\n",
       " 14,\n",
       " 16,\n",
       " 18,\n",
       " 20,\n",
       " 22,\n",
       " 24,\n",
       " 26,\n",
       " 28,\n",
       " 30,\n",
       " 32,\n",
       " 34,\n",
       " 36,\n",
       " 38,\n",
       " 40,\n",
       " 42,\n",
       " 44,\n",
       " 46,\n",
       " 48,\n",
       " 50,\n",
       " 52,\n",
       " 54,\n",
       " 56,\n",
       " 58,\n",
       " 60,\n",
       " 62,\n",
       " 64,\n",
       " 66,\n",
       " 68,\n",
       " 70,\n",
       " 72,\n",
       " 74,\n",
       " 76,\n",
       " 78,\n",
       " 80,\n",
       " 82,\n",
       " 84,\n",
       " 86,\n",
       " 88,\n",
       " 90,\n",
       " 92,\n",
       " 94,\n",
       " 96,\n",
       " 98,\n",
       " 100,\n",
       " 102,\n",
       " 104,\n",
       " 106,\n",
       " 108,\n",
       " 110,\n",
       " 112,\n",
       " 114,\n",
       " 116,\n",
       " 118,\n",
       " 120,\n",
       " 122,\n",
       " 124,\n",
       " 126,\n",
       " 128,\n",
       " 130,\n",
       " 132,\n",
       " 134,\n",
       " 136,\n",
       " 138,\n",
       " 140,\n",
       " 142,\n",
       " 144,\n",
       " 146,\n",
       " 148,\n",
       " 150,\n",
       " 152,\n",
       " 154,\n",
       " 156,\n",
       " 158,\n",
       " 160,\n",
       " 162,\n",
       " 164,\n",
       " 166,\n",
       " 168,\n",
       " 170,\n",
       " 172,\n",
       " 174,\n",
       " 176,\n",
       " 178,\n",
       " 180,\n",
       " 182,\n",
       " 184,\n",
       " 186,\n",
       " 188,\n",
       " 190,\n",
       " 192,\n",
       " 194,\n",
       " 196,\n",
       " 198,\n",
       " 200,\n",
       " 202,\n",
       " 204,\n",
       " 206,\n",
       " 208,\n",
       " 210,\n",
       " 212,\n",
       " 214,\n",
       " 216,\n",
       " 218,\n",
       " 220,\n",
       " 222,\n",
       " 224,\n",
       " 226,\n",
       " 228,\n",
       " 230,\n",
       " 232,\n",
       " 234,\n",
       " 236,\n",
       " 238,\n",
       " 240,\n",
       " 242,\n",
       " 244,\n",
       " 246,\n",
       " 248,\n",
       " 250,\n",
       " 252,\n",
       " 254,\n",
       " 256,\n",
       " 258,\n",
       " 260,\n",
       " 262,\n",
       " 264,\n",
       " 266,\n",
       " 268,\n",
       " 270,\n",
       " 272,\n",
       " 274,\n",
       " 276,\n",
       " 278,\n",
       " 280,\n",
       " 282,\n",
       " 284,\n",
       " 286,\n",
       " 288,\n",
       " 290,\n",
       " 292,\n",
       " 294,\n",
       " 296,\n",
       " 298,\n",
       " 300,\n",
       " 302,\n",
       " 304,\n",
       " 306,\n",
       " 308,\n",
       " 310,\n",
       " 312,\n",
       " 314,\n",
       " 316,\n",
       " 318,\n",
       " 320,\n",
       " 322,\n",
       " 324,\n",
       " 326,\n",
       " 328,\n",
       " 330,\n",
       " 332,\n",
       " 334,\n",
       " 336,\n",
       " 338,\n",
       " 340,\n",
       " 342,\n",
       " 344,\n",
       " 346,\n",
       " 348,\n",
       " 350,\n",
       " 352,\n",
       " 354,\n",
       " 356,\n",
       " 358,\n",
       " 360,\n",
       " 362,\n",
       " 364,\n",
       " 366,\n",
       " 368,\n",
       " 370,\n",
       " 372,\n",
       " 374,\n",
       " 376,\n",
       " 378,\n",
       " 380,\n",
       " 382,\n",
       " 384,\n",
       " 386,\n",
       " 388,\n",
       " 390,\n",
       " 392,\n",
       " 394,\n",
       " 396,\n",
       " 398,\n",
       " 400,\n",
       " 402,\n",
       " 404,\n",
       " 406,\n",
       " 408,\n",
       " 410,\n",
       " 412,\n",
       " 414,\n",
       " 416,\n",
       " 418,\n",
       " 420,\n",
       " 422,\n",
       " 424,\n",
       " 426,\n",
       " 428,\n",
       " 430,\n",
       " 432,\n",
       " 434,\n",
       " 436,\n",
       " 438,\n",
       " 440,\n",
       " 442,\n",
       " 444,\n",
       " 446,\n",
       " 448,\n",
       " 450,\n",
       " 452,\n",
       " 454,\n",
       " 456,\n",
       " 458,\n",
       " 460,\n",
       " 462,\n",
       " 464,\n",
       " 466,\n",
       " 468,\n",
       " 470,\n",
       " 472,\n",
       " 474,\n",
       " 476,\n",
       " 478,\n",
       " 480,\n",
       " 482,\n",
       " 484,\n",
       " 486,\n",
       " 488,\n",
       " 490,\n",
       " 492,\n",
       " 494,\n",
       " 496,\n",
       " 498,\n",
       " 500,\n",
       " 502,\n",
       " 504,\n",
       " 506,\n",
       " 508,\n",
       " 510,\n",
       " 512,\n",
       " 514,\n",
       " 516,\n",
       " 518,\n",
       " 520,\n",
       " 522,\n",
       " 524,\n",
       " 526,\n",
       " 528,\n",
       " 530,\n",
       " 532,\n",
       " 534,\n",
       " 536,\n",
       " 538,\n",
       " 540,\n",
       " 542,\n",
       " 544,\n",
       " 546,\n",
       " 548,\n",
       " 550,\n",
       " 552,\n",
       " 554,\n",
       " 556,\n",
       " 558,\n",
       " 560,\n",
       " 562,\n",
       " 564,\n",
       " 566,\n",
       " 568,\n",
       " 570,\n",
       " 572,\n",
       " 574,\n",
       " 576,\n",
       " 578,\n",
       " 580,\n",
       " 582,\n",
       " 584,\n",
       " 586,\n",
       " 588,\n",
       " 590,\n",
       " 592,\n",
       " 594,\n",
       " 596,\n",
       " 598,\n",
       " 600,\n",
       " 602,\n",
       " 604,\n",
       " 606,\n",
       " 608,\n",
       " 610,\n",
       " 612,\n",
       " 614,\n",
       " 616,\n",
       " 618,\n",
       " 620,\n",
       " 622,\n",
       " 624,\n",
       " 626,\n",
       " 628,\n",
       " 630,\n",
       " 632,\n",
       " 634,\n",
       " 636,\n",
       " 638,\n",
       " 640,\n",
       " 642,\n",
       " 644,\n",
       " 646,\n",
       " 648,\n",
       " 650,\n",
       " 652,\n",
       " 654,\n",
       " 656,\n",
       " 658,\n",
       " 660,\n",
       " 662,\n",
       " 664,\n",
       " 666,\n",
       " 668,\n",
       " 670,\n",
       " 672,\n",
       " 674,\n",
       " 676,\n",
       " 678,\n",
       " 680,\n",
       " 682,\n",
       " 684,\n",
       " 686,\n",
       " 688,\n",
       " 690,\n",
       " 692,\n",
       " 694,\n",
       " 696,\n",
       " 698,\n",
       " 700,\n",
       " 702,\n",
       " 704,\n",
       " 706,\n",
       " 708,\n",
       " 710,\n",
       " 712,\n",
       " 714,\n",
       " 716,\n",
       " 718,\n",
       " 720,\n",
       " 722,\n",
       " 724,\n",
       " 726,\n",
       " 728,\n",
       " 730,\n",
       " 732,\n",
       " 734,\n",
       " 736,\n",
       " 738,\n",
       " 740,\n",
       " 742,\n",
       " 744,\n",
       " 746,\n",
       " 748,\n",
       " 750,\n",
       " 752,\n",
       " 754,\n",
       " 756,\n",
       " 758,\n",
       " 760,\n",
       " 762,\n",
       " 764,\n",
       " 766,\n",
       " 768,\n",
       " 770,\n",
       " 772,\n",
       " 774,\n",
       " 776,\n",
       " 778,\n",
       " 780,\n",
       " 782,\n",
       " 784,\n",
       " 786,\n",
       " 788,\n",
       " 790,\n",
       " 792,\n",
       " 794,\n",
       " 796,\n",
       " 798,\n",
       " 800,\n",
       " 802,\n",
       " 804,\n",
       " 806,\n",
       " 808,\n",
       " 810,\n",
       " 812,\n",
       " 814,\n",
       " 816,\n",
       " 818,\n",
       " 820,\n",
       " 822,\n",
       " 824,\n",
       " 826,\n",
       " 828,\n",
       " 830,\n",
       " 832,\n",
       " 834,\n",
       " 836,\n",
       " 838,\n",
       " 840,\n",
       " 842,\n",
       " 844,\n",
       " 846,\n",
       " 848,\n",
       " 850,\n",
       " 852,\n",
       " 854,\n",
       " 856,\n",
       " 858,\n",
       " 860,\n",
       " 862,\n",
       " 864,\n",
       " 866,\n",
       " 868,\n",
       " 870,\n",
       " 872,\n",
       " 874,\n",
       " 876,\n",
       " 878,\n",
       " 880,\n",
       " 882,\n",
       " 884,\n",
       " 886,\n",
       " 888,\n",
       " 890,\n",
       " 892,\n",
       " 894,\n",
       " 896,\n",
       " 898,\n",
       " 900,\n",
       " 902,\n",
       " 904,\n",
       " 906,\n",
       " 908,\n",
       " 910,\n",
       " 912,\n",
       " 914,\n",
       " 916,\n",
       " 918,\n",
       " 920,\n",
       " 922,\n",
       " 924,\n",
       " 926,\n",
       " 928,\n",
       " 930,\n",
       " 932,\n",
       " 934,\n",
       " 936,\n",
       " 938,\n",
       " 940,\n",
       " 942,\n",
       " 944,\n",
       " 946,\n",
       " 948,\n",
       " 950,\n",
       " 952,\n",
       " 954,\n",
       " 956,\n",
       " 958,\n",
       " 960,\n",
       " 962,\n",
       " 964,\n",
       " 966,\n",
       " 968,\n",
       " 970,\n",
       " 972,\n",
       " 974,\n",
       " 976,\n",
       " 978,\n",
       " 980,\n",
       " 982,\n",
       " 984,\n",
       " 986,\n",
       " 988,\n",
       " 990,\n",
       " 992,\n",
       " 994,\n",
       " 996,\n",
       " 998]"
      ]
     },
     "execution_count": 5,
     "metadata": {},
     "output_type": "execute_result"
    }
   ],
   "source": [
    "only_even = [x for x in range(1000) if x % 2 == 0]\n",
    "only_even"
   ]
  },
  {
   "cell_type": "code",
   "execution_count": 32,
   "id": "6cf8e70c",
   "metadata": {},
   "outputs": [
    {
     "name": "stdout",
     "output_type": "stream",
     "text": [
      "[0, 1, 2, 3, 4]\n",
      "[1, 3, 5, 7, 9]\n",
      "[0, 1, 4, 9, 16, 25, 36, 49, 64, 81]\n",
      "['HI', '', 'PYTHON']\n",
      "['1', '2', '2', '0', '0', '3']\n",
      "[3, 4, 2, 7]\n",
      "[(0, 0), (0, 1), (1, 0), (1, 1), (2, 0), (2, 1)]\n"
     ]
    }
   ],
   "source": [
    "#Build [0, 1, 4, 9, 16] using numbers 0..4\n",
    "from traceback import print_tb\n",
    "\n",
    "\n",
    "x = [x for x in range(5)]\n",
    "print(x)\n",
    "\n",
    "#From nums = range(10), keep only evens.\n",
    "x = [x for x in range(10) if x % 2 != 0]\n",
    "print(x)\n",
    "\n",
    "#From nums, build squares of odd numbers.\n",
    "x =[x*x for x in range(10)]\n",
    "print(x)\n",
    "\n",
    "#From words = [\" hi\", \"\", \"Python \"], strip blanks and keep non-empty, uppercase them.\n",
    "words = [\" hi\", \"\", \"Python \"]\n",
    "x = [word.strip().upper() for word in words]\n",
    "print(x)\n",
    "\n",
    "#From s = \"a1b22c003\", extract the digits as ints → [1,2,2,0,0,3].\n",
    "s = \"a1b22c003\"\n",
    "x = [x for x in s if x.isdigit()]\n",
    "print(x)\n",
    "\n",
    "#Given vals = [3, -4, 0, -2, 7], make absolute values but skip zeros.\n",
    "vals = [3, -4, 0, -2, 7]\n",
    "x = [abs(x) for x in vals if x != 0]\n",
    "print(x)\n",
    "\n",
    "#Make all (i, j) pairs for i in 0..2, j in 0..1.\n",
    "x = [(i,j) for i in range (3) for j in range(2)]\n",
    "print(x)"
   ]
  },
  {
   "cell_type": "code",
   "execution_count": null,
   "id": "f5f9bd14",
   "metadata": {},
   "outputs": [],
   "source": []
  }
 ],
 "metadata": {
  "kernelspec": {
   "display_name": "DataScience",
   "language": "python",
   "name": "python3"
  },
  "language_info": {
   "codemirror_mode": {
    "name": "ipython",
    "version": 3
   },
   "file_extension": ".py",
   "mimetype": "text/x-python",
   "name": "python",
   "nbconvert_exporter": "python",
   "pygments_lexer": "ipython3",
   "version": "3.10.13"
  }
 },
 "nbformat": 4,
 "nbformat_minor": 5
}
