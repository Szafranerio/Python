{
 "cells": [
  {
   "cell_type": "code",
   "execution_count": 1,
   "id": "f1cc4008",
   "metadata": {},
   "outputs": [
    {
     "data": {
      "text/plain": [
       "4"
      ]
     },
     "execution_count": 1,
     "metadata": {},
     "output_type": "execute_result"
    }
   ],
   "source": [
    "2+2"
   ]
  },
  {
   "cell_type": "code",
   "execution_count": 2,
   "id": "b5453b54",
   "metadata": {},
   "outputs": [
    {
     "name": "stdout",
     "output_type": "stream",
     "text": [
      "HelloHelloHelloHelloHelloHelloHelloHelloHelloHello\n"
     ]
    }
   ],
   "source": [
    "#string replication\n",
    "x = input('Input string value: ')\n",
    "y = int(input('Input replication value: '))\n",
    "print(x * y )"
   ]
  },
  {
   "cell_type": "code",
   "execution_count": 4,
   "id": "aaba8cb6",
   "metadata": {},
   "outputs": [
    {
     "data": {
      "text/plain": [
       "6"
      ]
     },
     "execution_count": 4,
     "metadata": {},
     "output_type": "execute_result"
    }
   ],
   "source": [
    "len('dasdas')"
   ]
  },
  {
   "cell_type": "code",
   "execution_count": 7,
   "id": "f4b9aa73",
   "metadata": {},
   "outputs": [
    {
     "name": "stdout",
     "output_type": "stream",
     "text": [
      "What is your name\n",
      "\n",
      "What is your age\n",
      "\n",
      "Your name is Bartek you are 25 years old \n"
     ]
    }
   ],
   "source": [
    "#Print, input, len\n",
    "print('What is your name')\n",
    "print()\n",
    "name = input()\n",
    "print('What is your age')\n",
    "print()\n",
    "age = int(input())\n",
    "print('Your name is ' + name + ' you are ' + str(age) + ' years old ')\n"
   ]
  },
  {
   "cell_type": "code",
   "execution_count": 8,
   "id": "a47ed8ee",
   "metadata": {},
   "outputs": [
    {
     "name": "stdout",
     "output_type": "stream",
     "text": [
      "Your name is Bartek and you are 25 years old\n"
     ]
    }
   ],
   "source": [
    "#f string\n",
    "print(f'Your name is {name} and you are {age} years old')"
   ]
  }
 ],
 "metadata": {
  "kernelspec": {
   "display_name": "DataScience",
   "language": "python",
   "name": "python3"
  },
  "language_info": {
   "codemirror_mode": {
    "name": "ipython",
    "version": 3
   },
   "file_extension": ".py",
   "mimetype": "text/x-python",
   "name": "python",
   "nbconvert_exporter": "python",
   "pygments_lexer": "ipython3",
   "version": "3.10.13"
  }
 },
 "nbformat": 4,
 "nbformat_minor": 5
}
