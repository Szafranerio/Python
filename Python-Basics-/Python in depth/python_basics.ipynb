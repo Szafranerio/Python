{
 "cells": [
  {
   "cell_type": "code",
   "execution_count": 1,
   "id": "f1cc4008",
   "metadata": {},
   "outputs": [
    {
     "data": {
      "text/plain": [
       "4"
      ]
     },
     "execution_count": 1,
     "metadata": {},
     "output_type": "execute_result"
    }
   ],
   "source": [
    "2+2"
   ]
  },
  {
   "cell_type": "code",
   "execution_count": 2,
   "id": "b5453b54",
   "metadata": {},
   "outputs": [
    {
     "ename": "ValueError",
     "evalue": "invalid literal for int() with base 10: ''",
     "output_type": "error",
     "traceback": [
      "\u001b[0;31m---------------------------------------------------------------------------\u001b[0m",
      "\u001b[0;31mValueError\u001b[0m                                Traceback (most recent call last)",
      "Cell \u001b[0;32mIn[2], line 3\u001b[0m\n\u001b[1;32m      1\u001b[0m \u001b[38;5;66;03m#string replication\u001b[39;00m\n\u001b[1;32m      2\u001b[0m x \u001b[38;5;241m=\u001b[39m \u001b[38;5;28minput\u001b[39m(\u001b[38;5;124m'\u001b[39m\u001b[38;5;124mInput string value: \u001b[39m\u001b[38;5;124m'\u001b[39m)\n\u001b[0;32m----> 3\u001b[0m y \u001b[38;5;241m=\u001b[39m \u001b[38;5;28;43mint\u001b[39;49m\u001b[43m(\u001b[49m\u001b[38;5;28;43minput\u001b[39;49m\u001b[43m(\u001b[49m\u001b[38;5;124;43m'\u001b[39;49m\u001b[38;5;124;43mInput replication value: \u001b[39;49m\u001b[38;5;124;43m'\u001b[39;49m\u001b[43m)\u001b[49m\u001b[43m)\u001b[49m\n\u001b[1;32m      4\u001b[0m \u001b[38;5;28mprint\u001b[39m(x \u001b[38;5;241m*\u001b[39m y )\n",
      "\u001b[0;31mValueError\u001b[0m: invalid literal for int() with base 10: ''"
     ]
    }
   ],
   "source": [
    "#string replication\n",
    "x = input('Input string value: ')\n",
    "y = int(input('Input replication value: '))\n",
    "print(x * y )"
   ]
  },
  {
   "cell_type": "code",
   "execution_count": null,
   "id": "aaba8cb6",
   "metadata": {},
   "outputs": [
    {
     "data": {
      "text/plain": [
       "6"
      ]
     },
     "execution_count": 34,
     "metadata": {},
     "output_type": "execute_result"
    }
   ],
   "source": [
    "len('dasdas')"
   ]
  },
  {
   "cell_type": "code",
   "execution_count": null,
   "id": "f4b9aa73",
   "metadata": {},
   "outputs": [
    {
     "name": "stdout",
     "output_type": "stream",
     "text": [
      "What is your name\n",
      "\n",
      "What is your age\n",
      "\n"
     ]
    },
    {
     "ename": "ValueError",
     "evalue": "invalid literal for int() with base 10: ''",
     "output_type": "error",
     "traceback": [
      "\u001b[0;31m---------------------------------------------------------------------------\u001b[0m",
      "\u001b[0;31mValueError\u001b[0m                                Traceback (most recent call last)",
      "Cell \u001b[0;32mIn[35], line 7\u001b[0m\n\u001b[1;32m      5\u001b[0m \u001b[38;5;28mprint\u001b[39m(\u001b[38;5;124m'\u001b[39m\u001b[38;5;124mWhat is your age\u001b[39m\u001b[38;5;124m'\u001b[39m)\n\u001b[1;32m      6\u001b[0m \u001b[38;5;28mprint\u001b[39m()\n\u001b[0;32m----> 7\u001b[0m age \u001b[38;5;241m=\u001b[39m \u001b[38;5;28;43mint\u001b[39;49m\u001b[43m(\u001b[49m\u001b[38;5;28;43minput\u001b[39;49m\u001b[43m(\u001b[49m\u001b[43m)\u001b[49m\u001b[43m)\u001b[49m\n\u001b[1;32m      8\u001b[0m \u001b[38;5;28mprint\u001b[39m(\u001b[38;5;124m'\u001b[39m\u001b[38;5;124mYour name is \u001b[39m\u001b[38;5;124m'\u001b[39m \u001b[38;5;241m+\u001b[39m name \u001b[38;5;241m+\u001b[39m \u001b[38;5;124m'\u001b[39m\u001b[38;5;124m you are \u001b[39m\u001b[38;5;124m'\u001b[39m \u001b[38;5;241m+\u001b[39m \u001b[38;5;28mstr\u001b[39m(age) \u001b[38;5;241m+\u001b[39m \u001b[38;5;124m'\u001b[39m\u001b[38;5;124m years old \u001b[39m\u001b[38;5;124m'\u001b[39m)\n",
      "\u001b[0;31mValueError\u001b[0m: invalid literal for int() with base 10: ''"
     ]
    }
   ],
   "source": [
    "#Print, input, len\n",
    "print('What is your name')\n",
    "print()\n",
    "name = input()\n",
    "print('What is your age')\n",
    "print()\n",
    "age = int(input())\n",
    "print('Your name is ' + name + ' you are ' + str(age) + ' years old ')\n"
   ]
  },
  {
   "cell_type": "code",
   "execution_count": null,
   "id": "a47ed8ee",
   "metadata": {},
   "outputs": [
    {
     "name": "stdout",
     "output_type": "stream",
     "text": [
      "Your name is Bartek and you are 25 years old\n"
     ]
    }
   ],
   "source": [
    "#f string\n",
    "print(f'Your name is {name} and you are {age} years old')"
   ]
  },
  {
   "cell_type": "code",
   "execution_count": null,
   "id": "2c758d17",
   "metadata": {},
   "outputs": [
    {
     "data": {
      "text/plain": [
       "True"
      ]
     },
     "execution_count": 1,
     "metadata": {},
     "output_type": "execute_result"
    }
   ],
   "source": [
    "#Boolean\n",
    "5<6"
   ]
  },
  {
   "cell_type": "code",
   "execution_count": null,
   "id": "6d58342b",
   "metadata": {},
   "outputs": [
    {
     "data": {
      "text/plain": [
       "True"
      ]
     },
     "execution_count": 2,
     "metadata": {},
     "output_type": "execute_result"
    }
   ],
   "source": [
    "(5<6) and (4>2)"
   ]
  },
  {
   "cell_type": "code",
   "execution_count": null,
   "id": "0c976a95",
   "metadata": {},
   "outputs": [
    {
     "name": "stdout",
     "output_type": "stream",
     "text": [
      "Whoa are you\n"
     ]
    }
   ],
   "source": [
    "#If, elif, else\n",
    "name =input('Write your name: ')\n",
    "if name == 'Bartek':\n",
    "    print('Hi Bartek')\n",
    "else:\n",
    "    name != 'Bartek'\n",
    "    print('Who are you')"
   ]
  },
  {
   "cell_type": "code",
   "execution_count": null,
   "id": "19bb9d1a",
   "metadata": {},
   "outputs": [
    {
     "name": "stdout",
     "output_type": "stream",
     "text": [
      "You can go outside\n"
     ]
    }
   ],
   "source": [
    "#Rainy day\n",
    "\n",
    "weather = input('Is it raining today [Y/N]: ')\n",
    "\n",
    "if weather == 'Y':\n",
    "    umbrella = input('Do you have an umbrella? [Y/N]')\n",
    "    if umbrella == 'Y':\n",
    "        print('You can go outside')\n",
    "    elif umbrella == 'N':\n",
    "        print('Stay home for next 10 minutes')\n",
    "else:\n",
    "    weather != 'Y'\n",
    "    print('You have sunny day')"
   ]
  },
  {
   "cell_type": "code",
   "execution_count": null,
   "id": "d6aeca41",
   "metadata": {},
   "outputs": [
    {
     "name": "stdout",
     "output_type": "stream",
     "text": [
      "Hi\n"
     ]
    }
   ],
   "source": [
    "#If vs while\n",
    "x = 0\n",
    "if x < 5:\n",
    "    print('Hi')\n",
    "    x = x + 1"
   ]
  },
  {
   "cell_type": "code",
   "execution_count": null,
   "id": "4b1269b2",
   "metadata": {},
   "outputs": [
    {
     "name": "stdout",
     "output_type": "stream",
     "text": [
      "Hi\n",
      "Hi\n",
      "Hi\n",
      "Hi\n",
      "Hi\n"
     ]
    }
   ],
   "source": [
    "x = 0\n",
    "while x < 5:\n",
    "    print('Hi')\n",
    "    x = x + 1"
   ]
  },
  {
   "cell_type": "code",
   "execution_count": null,
   "id": "b35947a4",
   "metadata": {},
   "outputs": [
    {
     "name": "stdout",
     "output_type": "stream",
     "text": [
      "Hello, who are you?\n",
      "Hello, who are you?\n",
      "Hello Bart, how old are you?\n",
      "Hello, who are you?\n",
      "Hello, who are you?\n",
      "Hello, who are you?\n",
      "Hello, who are you?\n",
      "Hello, who are you?\n",
      "Hello, who are you?\n",
      "Hello, who are you?\n",
      "Hello, who are you?\n",
      "Hello, who are you?\n",
      "Hello, who are you?\n",
      "Hello Bart, how old are you?\n",
      "Hello, who are you?\n",
      "Hello, who are you?\n",
      "Hello Bart, how old are you?\n",
      "Hello Bart you are 27 years old\n",
      "Hi Bart, its you\n"
     ]
    }
   ],
   "source": [
    "while True:\n",
    "    print('Hello, who are you?')\n",
    "    name = input('>')\n",
    "    if name != 'Bartek':\n",
    "        continue\n",
    "    print('Hello Bart, how old are you?')\n",
    "    age = int(input('>'))\n",
    "    if age != 27:\n",
    "        continue\n",
    "    print('Hello Bart you are 27 years old')\n",
    "    city = input('>')\n",
    "    city != 'Gdynia'\n",
    "    if city == 'Gdynia':\n",
    "        break\n",
    "print('Hi Bart, its you')"
   ]
  },
  {
   "cell_type": "code",
   "execution_count": null,
   "id": "2c809b44",
   "metadata": {},
   "outputs": [
    {
     "name": "stdout",
     "output_type": "stream",
     "text": [
      "Welcome to the number guessing game\n",
      "You have three levels to choose from. One is the easiest, Two is moderate and Three is hard.\n",
      "What do you choose:\n",
      "No chocie go again\n"
     ]
    },
    {
     "ename": "ValueError",
     "evalue": "invalid literal for int() with base 10: 'q'",
     "output_type": "error",
     "traceback": [
      "\u001b[0;31m---------------------------------------------------------------------------\u001b[0m",
      "\u001b[0;31mValueError\u001b[0m                                Traceback (most recent call last)",
      "Cell \u001b[0;32mIn[1], line 19\u001b[0m\n\u001b[1;32m     16\u001b[0m     \u001b[38;5;28mprint\u001b[39m(\u001b[38;5;124m'\u001b[39m\u001b[38;5;124mNo chocie go again\u001b[39m\u001b[38;5;124m'\u001b[39m)\n\u001b[1;32m     17\u001b[0m     \u001b[38;5;28;01mcontinue\u001b[39;00m\n\u001b[0;32m---> 19\u001b[0m level \u001b[38;5;241m=\u001b[39m \u001b[38;5;28;43mint\u001b[39;49m\u001b[43m(\u001b[49m\u001b[43muser_input\u001b[49m\u001b[43m)\u001b[49m\n\u001b[1;32m     21\u001b[0m \u001b[38;5;28;01mif\u001b[39;00m level \u001b[38;5;241m==\u001b[39m \u001b[38;5;241m1\u001b[39m:\n\u001b[1;32m     22\u001b[0m     x \u001b[38;5;241m=\u001b[39m random\u001b[38;5;241m.\u001b[39mrandint(\u001b[38;5;241m1\u001b[39m,\u001b[38;5;241m10\u001b[39m)\n",
      "\u001b[0;31mValueError\u001b[0m: invalid literal for int() with base 10: 'q'"
     ]
    }
   ],
   "source": [
    "#Guess the number game\n",
    "import random\n",
    "import sys\n",
    "\n",
    "\n",
    "print('Welcome to the number guessing game')\n",
    "print('You have three levels to choose from. One is the easiest, Two is moderate and Three is hard.')\n",
    "print('What do you choose:')\n",
    "\n",
    "level_user = []\n",
    "\n",
    "while True:\n",
    "    user_input = input('What is the level (1,2,3): ').strip()\n",
    "    \n",
    "    if not user_input:\n",
    "        print('No chocie go again')\n",
    "        continue\n",
    "    if not user_input.isdigit():\n",
    "        print('It must be number 1, 2 or 3')\n",
    "        continue\n",
    "    \n",
    "    level = int(user_input)\n",
    "    \n",
    "    if level == 1:\n",
    "        x = random.randint(1,10)\n",
    "        print(f'You choosed level {level}')\n",
    "        break\n",
    "    elif level == 2:\n",
    "        x = random.randint(1,50)\n",
    "        print(f'You choosed level {level}')\n",
    "        break\n",
    "    elif level == 3:\n",
    "        x = random.randint(1,100)\n",
    "        print(f'You choosed level {level}')\n",
    "        break\n",
    "    else:\n",
    "        print('Wrong level')\n",
    "        \n",
    "\n",
    "#Guessing\n",
    "while True:\n",
    "    print('Chose your number')\n",
    "    user_number = input('Chose your number: ').strip()\n",
    "    \n",
    "    if not user_number:\n",
    "        print('No chocie go again')\n",
    "        continue\n",
    "    if not user_number.isdigit():\n",
    "        print('It must be number 1, 2 or 3')\n",
    "        continue\n",
    "    \n",
    "    guess = int(user_number)\n",
    "    \n",
    "    if guess > x:\n",
    "        print(f'Wrong number you missed by {guess - x}')\n",
    "        continue\n",
    "    elif guess < x:\n",
    "        print(f'Wrong number you missed by {x - guess}')\n",
    "        continue\n",
    "    else: \n",
    "        print('Correct!')\n",
    "        break\n",
    "        "
   ]
  },
  {
   "cell_type": "code",
   "execution_count": 7,
   "id": "2e592a87",
   "metadata": {},
   "outputs": [
    {
     "name": "stdout",
     "output_type": "stream",
     "text": [
      "1\n",
      "2\n",
      "Fizz\n",
      "4\n",
      "Buzz\n",
      "Fizz\n",
      "7\n",
      "8\n",
      "Fizz\n",
      "Buzz\n",
      "11\n",
      "Fizz\n",
      "13\n",
      "14\n",
      "FizzBuzz\n",
      "16\n",
      "17\n",
      "Fizz\n",
      "19\n",
      "Buzz\n",
      "Fizz\n",
      "22\n",
      "23\n",
      "Fizz\n",
      "Buzz\n",
      "26\n",
      "Fizz\n",
      "28\n",
      "29\n",
      "FizzBuzz\n",
      "31\n",
      "32\n",
      "Fizz\n",
      "34\n",
      "Buzz\n",
      "Fizz\n",
      "37\n",
      "38\n",
      "Fizz\n",
      "Buzz\n",
      "41\n",
      "Fizz\n",
      "43\n",
      "44\n",
      "FizzBuzz\n",
      "46\n",
      "47\n",
      "Fizz\n",
      "49\n",
      "Buzz\n",
      "Fizz\n",
      "52\n",
      "53\n",
      "Fizz\n",
      "Buzz\n",
      "56\n",
      "Fizz\n",
      "58\n",
      "59\n",
      "FizzBuzz\n",
      "61\n",
      "62\n",
      "Fizz\n",
      "64\n",
      "Buzz\n",
      "Fizz\n",
      "67\n",
      "68\n",
      "Fizz\n",
      "Buzz\n",
      "71\n",
      "Fizz\n",
      "73\n",
      "74\n",
      "FizzBuzz\n",
      "76\n",
      "77\n",
      "Fizz\n",
      "79\n",
      "Buzz\n",
      "Fizz\n",
      "82\n",
      "83\n",
      "Fizz\n",
      "Buzz\n",
      "86\n",
      "Fizz\n",
      "88\n",
      "89\n",
      "FizzBuzz\n",
      "91\n",
      "92\n",
      "Fizz\n",
      "94\n",
      "Buzz\n",
      "Fizz\n",
      "97\n",
      "98\n",
      "Fizz\n",
      "Buzz\n"
     ]
    }
   ],
   "source": [
    "#FizzBuzz\n",
    "for i in range (1,101):\n",
    "    \n",
    "    if i % 3 == 0 and i % 5 == 0:\n",
    "        print('FizzBuzz')\n",
    "    elif i % 3 == 0:\n",
    "        print('Fizz')\n",
    "    elif i % 5 == 0:\n",
    "        print('Buzz')\n",
    "    else:\n",
    "        print(i)"
   ]
  },
  {
   "cell_type": "code",
   "execution_count": 1,
   "id": "7b6c621f",
   "metadata": {},
   "outputs": [
    {
     "name": "stdout",
     "output_type": "stream",
     "text": [
      "Hi\n"
     ]
    }
   ],
   "source": [
    "#Functions\n",
    "def hello():\n",
    "    print('Hi')\n",
    "hello()"
   ]
  },
  {
   "cell_type": "code",
   "execution_count": 2,
   "id": "94f4b8fa",
   "metadata": {},
   "outputs": [
    {
     "name": "stdout",
     "output_type": "stream",
     "text": [
      "Hello Bartek, you are 27 and you are from Gdynia\n"
     ]
    }
   ],
   "source": [
    "def hello(name, age, country):\n",
    "    print(f'Hello {name}, you are {age} and you are from {country}')\n",
    "hello('Bartek', 27, 'Gdynia')"
   ]
  },
  {
   "cell_type": "code",
   "execution_count": null,
   "id": "f4f26347",
   "metadata": {},
   "outputs": [
    {
     "name": "stdout",
     "output_type": "stream",
     "text": [
      "Hello Bartek, you are 27 and you are from Gdynia\n"
     ]
    }
   ],
   "source": [
    "#Function with input\n",
    "def hello(name, age, country):\n",
    "    print(f'Hello {name}, you are {age} and you are from {country}')\n",
    "    \n",
    "name = input()\n",
    "age = input().strip()\n",
    "age = int(age)\n",
    "country = input()\n",
    "\n",
    "hello(name, age, country)    "
   ]
  },
  {
   "cell_type": "code",
   "execution_count": 14,
   "id": "c7ae94bc",
   "metadata": {},
   "outputs": [
    {
     "name": "stdout",
     "output_type": "stream",
     "text": [
      "HTHHTHHHTTTHTTTHHHTTHHTTTHTHTTTHHHTHHHTTHTHHTHTTTHHHTHHTTTTTHTHHHTTTHTHTHTTHHHHTHHHTTHTHHHTHHHHHTTHT\n"
     ]
    }
   ],
   "source": [
    "#Head or tails\n",
    "import random\n",
    "\n",
    "for i in range(100):\n",
    "    if random.randint(0, 1) == 0:\n",
    "        print('H', end = '')\n",
    "    else:\n",
    "        print('T', end = '')\n",
    "print()\n",
    "        "
   ]
  },
  {
   "cell_type": "code",
   "execution_count": 16,
   "id": "d1ef0026",
   "metadata": {},
   "outputs": [
    {
     "name": "stdout",
     "output_type": "stream",
     "text": [
      "Min: 12, max: 123\n"
     ]
    }
   ],
   "source": [
    "def stats(numbers):\n",
    "    minimum = min(numbers)\n",
    "    maximum = max(numbers)\n",
    "    return minimum, maximum\n",
    "\n",
    "length = [12,53,123,42,56,72,23,56,78,98]\n",
    "\n",
    "minimun, maximum = stats(length)\n",
    "print(f'Min: {minimun}, max: {maximum}')"
   ]
  },
  {
   "cell_type": "code",
   "execution_count": 18,
   "id": "9ecadf9e",
   "metadata": {},
   "outputs": [
    {
     "name": "stdout",
     "output_type": "stream",
     "text": [
      "10\n",
      "10\n"
     ]
    }
   ],
   "source": [
    "#Global\n",
    "x = 10\n",
    "\n",
    "def number():\n",
    "    print(x)\n",
    "number()\n",
    "print(x)"
   ]
  },
  {
   "cell_type": "code",
   "execution_count": 22,
   "id": "d72329a8",
   "metadata": {},
   "outputs": [
    {
     "name": "stdout",
     "output_type": "stream",
     "text": [
      "10\n",
      "10\n"
     ]
    }
   ],
   "source": [
    "def number():\n",
    "    global x\n",
    "    x = 10\n",
    "    print(x)\n",
    "number()\n",
    "print(x)"
   ]
  },
  {
   "cell_type": "code",
   "execution_count": 26,
   "id": "80269644",
   "metadata": {},
   "outputs": [
    {
     "name": "stdout",
     "output_type": "stream",
     "text": [
      "10\n"
     ]
    }
   ],
   "source": [
    "#Local\n",
    "def number():\n",
    "    y = 10\n",
    "    print(y)\n",
    "number()\n",
    "#print(y) y is local here and cannot be called out of the function alone"
   ]
  },
  {
   "cell_type": "code",
   "execution_count": 29,
   "id": "00d314c3",
   "metadata": {},
   "outputs": [
    {
     "name": "stdout",
     "output_type": "stream",
     "text": [
      "Sum of a and b is: 2\n"
     ]
    }
   ],
   "source": [
    "#Add \n",
    "def add(a, b):\n",
    "    sum = a + b\n",
    "    print(f'Sum of a and b is: {sum}')\n",
    "    \n",
    "a = input('What is your number: ').strip()\n",
    "a = int(a)\n",
    "b = input('What is your second number: ').strip()\n",
    "b = int(b)\n",
    "\n",
    "add(a,b)"
   ]
  },
  {
   "cell_type": "code",
   "execution_count": null,
   "id": "504e0e71",
   "metadata": {},
   "outputs": [
    {
     "name": "stdout",
     "output_type": "stream",
     "text": [
      "Is even\n"
     ]
    }
   ],
   "source": [
    "#Even or add\n",
    "def if_even(a):\n",
    "    if a % 2 == 0:\n",
    "        print('Is even')\n",
    "    elif a % 2 != 0:\n",
    "        print('Is odd')\n",
    "        \n",
    "a = input('What is your number: ').strip()\n",
    "a = int(a)\n",
    "\n",
    "if_even(a)"
   ]
  },
  {
   "cell_type": "code",
   "execution_count": 34,
   "id": "ecb8947b",
   "metadata": {},
   "outputs": [
    {
     "name": "stdout",
     "output_type": "stream",
     "text": [
      "Max number is 3123123312131\n"
     ]
    }
   ],
   "source": [
    "#Find max \n",
    "\n",
    "numbers = [1,2,3,12,31,2321,1231231,3123123312131]\n",
    "\n",
    "def max_values(numbers):\n",
    "    maximum = max(numbers)\n",
    "    print(f'Max number is {maximum}')\n",
    "max_values(numbers)"
   ]
  },
  {
   "cell_type": "code",
   "execution_count": null,
   "id": "936eb395",
   "metadata": {},
   "outputs": [
    {
     "name": "stdout",
     "output_type": "stream",
     "text": [
      "Welcome to the restaurant. What is you dream pizza:\n",
      "Your pizza is made from: ['Ham', 'Cheese', 'Cucamber']\n"
     ]
    }
   ],
   "source": [
    "#Restaurant menu\n",
    "order = []\n",
    "print('Welcome to the restaurant. What is you dream pizza:')\n",
    "\n",
    "while True:\n",
    "    x = input('Add your ingredients: ')\n",
    "    order.append(x)\n",
    "    \n",
    "    if x == 'q':\n",
    "        break\n",
    "    \n",
    "order.pop()\n",
    "print(f'Your pizza is made from: {order}')    "
   ]
  }
 ],
 "metadata": {
  "kernelspec": {
   "display_name": "DataScience",
   "language": "python",
   "name": "python3"
  },
  "language_info": {
   "codemirror_mode": {
    "name": "ipython",
    "version": 3
   },
   "file_extension": ".py",
   "mimetype": "text/x-python",
   "name": "python",
   "nbconvert_exporter": "python",
   "pygments_lexer": "ipython3",
   "version": "3.10.13"
  }
 },
 "nbformat": 4,
 "nbformat_minor": 5
}
