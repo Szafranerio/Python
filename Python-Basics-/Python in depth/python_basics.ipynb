{
 "cells": [
  {
   "cell_type": "code",
   "execution_count": 1,
   "id": "f1cc4008",
   "metadata": {},
   "outputs": [
    {
     "data": {
      "text/plain": [
       "4"
      ]
     },
     "execution_count": 1,
     "metadata": {},
     "output_type": "execute_result"
    }
   ],
   "source": [
    "2+2"
   ]
  },
  {
   "cell_type": "code",
   "execution_count": 2,
   "id": "b5453b54",
   "metadata": {},
   "outputs": [
    {
     "name": "stdout",
     "output_type": "stream",
     "text": [
      "HelloHelloHelloHelloHelloHelloHelloHelloHelloHello\n"
     ]
    }
   ],
   "source": [
    "#string replication\n",
    "x = input('Input string value: ')\n",
    "y = int(input('Input replication value: '))\n",
    "print(x * y )"
   ]
  },
  {
   "cell_type": "code",
   "execution_count": 4,
   "id": "aaba8cb6",
   "metadata": {},
   "outputs": [
    {
     "data": {
      "text/plain": [
       "6"
      ]
     },
     "execution_count": 4,
     "metadata": {},
     "output_type": "execute_result"
    }
   ],
   "source": [
    "len('dasdas')"
   ]
  },
  {
   "cell_type": "code",
   "execution_count": 7,
   "id": "f4b9aa73",
   "metadata": {},
   "outputs": [
    {
     "name": "stdout",
     "output_type": "stream",
     "text": [
      "What is your name\n",
      "\n",
      "What is your age\n",
      "\n",
      "Your name is Bartek you are 25 years old \n"
     ]
    }
   ],
   "source": [
    "#Print, input, len\n",
    "print('What is your name')\n",
    "print()\n",
    "name = input()\n",
    "print('What is your age')\n",
    "print()\n",
    "age = int(input())\n",
    "print('Your name is ' + name + ' you are ' + str(age) + ' years old ')\n"
   ]
  },
  {
   "cell_type": "code",
   "execution_count": 8,
   "id": "a47ed8ee",
   "metadata": {},
   "outputs": [
    {
     "name": "stdout",
     "output_type": "stream",
     "text": [
      "Your name is Bartek and you are 25 years old\n"
     ]
    }
   ],
   "source": [
    "#f string\n",
    "print(f'Your name is {name} and you are {age} years old')"
   ]
  },
  {
   "cell_type": "code",
   "execution_count": 1,
   "id": "2c758d17",
   "metadata": {},
   "outputs": [
    {
     "data": {
      "text/plain": [
       "True"
      ]
     },
     "execution_count": 1,
     "metadata": {},
     "output_type": "execute_result"
    }
   ],
   "source": [
    "#Boolean\n",
    "5<6"
   ]
  },
  {
   "cell_type": "code",
   "execution_count": 2,
   "id": "6d58342b",
   "metadata": {},
   "outputs": [
    {
     "data": {
      "text/plain": [
       "True"
      ]
     },
     "execution_count": 2,
     "metadata": {},
     "output_type": "execute_result"
    }
   ],
   "source": [
    "(5<6) and (4>2)"
   ]
  },
  {
   "cell_type": "code",
   "execution_count": null,
   "id": "0c976a95",
   "metadata": {},
   "outputs": [
    {
     "name": "stdout",
     "output_type": "stream",
     "text": [
      "Whoa are you\n"
     ]
    }
   ],
   "source": [
    "#If, elif, else\n",
    "name =input('Write your name: ')\n",
    "if name == 'Bartek':\n",
    "    print('Hi Bartek')\n",
    "else:\n",
    "    name != 'Bartek'\n",
    "    print('Who are you')"
   ]
  },
  {
   "cell_type": "code",
   "execution_count": 13,
   "id": "19bb9d1a",
   "metadata": {},
   "outputs": [
    {
     "name": "stdout",
     "output_type": "stream",
     "text": [
      "You can go outside\n"
     ]
    }
   ],
   "source": [
    "#Rainy day\n",
    "\n",
    "weather = input('Is it raining today [Y/N]: ')\n",
    "\n",
    "if weather == 'Y':\n",
    "    umbrella = input('Do you have an umbrella? [Y/N]')\n",
    "    if umbrella == 'Y':\n",
    "        print('You can go outside')\n",
    "    elif umbrella == 'N':\n",
    "        print('Stay home for next 10 minutes')\n",
    "else:\n",
    "    weather != 'Y'\n",
    "    print('You have sunny day')"
   ]
  },
  {
   "cell_type": "code",
   "execution_count": 14,
   "id": "d6aeca41",
   "metadata": {},
   "outputs": [
    {
     "name": "stdout",
     "output_type": "stream",
     "text": [
      "Hi\n"
     ]
    }
   ],
   "source": [
    "#If vs while\n",
    "x = 0\n",
    "if x < 5:\n",
    "    print('Hi')\n",
    "    x = x + 1"
   ]
  },
  {
   "cell_type": "code",
   "execution_count": 15,
   "id": "4b1269b2",
   "metadata": {},
   "outputs": [
    {
     "name": "stdout",
     "output_type": "stream",
     "text": [
      "Hi\n",
      "Hi\n",
      "Hi\n",
      "Hi\n",
      "Hi\n"
     ]
    }
   ],
   "source": [
    "x = 0\n",
    "while x < 5:\n",
    "    print('Hi')\n",
    "    x = x + 1"
   ]
  },
  {
   "cell_type": "code",
   "execution_count": null,
   "id": "b35947a4",
   "metadata": {},
   "outputs": [
    {
     "name": "stdout",
     "output_type": "stream",
     "text": [
      "Hello, who are you?\n",
      "Hello, who are you?\n",
      "Hello Bart, how old are you?\n",
      "Hello, who are you?\n",
      "Hello, who are you?\n",
      "Hello, who are you?\n",
      "Hello, who are you?\n",
      "Hello, who are you?\n",
      "Hello, who are you?\n",
      "Hello, who are you?\n",
      "Hello, who are you?\n",
      "Hello, who are you?\n",
      "Hello, who are you?\n",
      "Hello Bart, how old are you?\n",
      "Hello, who are you?\n",
      "Hello, who are you?\n",
      "Hello Bart, how old are you?\n",
      "Hello Bart you are 27 years old\n",
      "Hi Bart, its you\n"
     ]
    }
   ],
   "source": [
    "while True:\n",
    "    print('Hello, who are you?')\n",
    "    name = input('>')\n",
    "    if name != 'Bartek':\n",
    "        continue\n",
    "    print('Hello Bart, how old are you?')\n",
    "    age = int(input('>'))\n",
    "    if age != 27:\n",
    "        continue\n",
    "    print('Hello Bart you are 27 years old')\n",
    "    city = input('>')\n",
    "    city != 'Gdynia'\n",
    "    if city == 'Gdynia':\n",
    "        break\n",
    "print('Hi Bart, its you')"
   ]
  },
  {
   "cell_type": "code",
   "execution_count": null,
   "id": "2c809b44",
   "metadata": {},
   "outputs": [],
   "source": []
  }
 ],
 "metadata": {
  "kernelspec": {
   "display_name": "DataScience",
   "language": "python",
   "name": "python3"
  },
  "language_info": {
   "codemirror_mode": {
    "name": "ipython",
    "version": 3
   },
   "file_extension": ".py",
   "mimetype": "text/x-python",
   "name": "python",
   "nbconvert_exporter": "python",
   "pygments_lexer": "ipython3",
   "version": "3.10.13"
  }
 },
 "nbformat": 4,
 "nbformat_minor": 5
}
