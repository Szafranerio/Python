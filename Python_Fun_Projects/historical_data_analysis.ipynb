{
 "cells": [
  {
   "cell_type": "code",
   "execution_count": 13,
   "metadata": {},
   "outputs": [],
   "source": [
    "import pandas as pd \n",
    "from datetime import datetime, timedelta\n",
    "import plotly.graph_objects as go\n",
    "import plotly.express as px\n",
    "import matplotlib.pyplot as plt"
   ]
  },
  {
   "cell_type": "code",
   "execution_count": 14,
   "metadata": {},
   "outputs": [
    {
     "data": {
      "text/html": [
       "<div>\n",
       "<style scoped>\n",
       "    .dataframe tbody tr th:only-of-type {\n",
       "        vertical-align: middle;\n",
       "    }\n",
       "\n",
       "    .dataframe tbody tr th {\n",
       "        vertical-align: top;\n",
       "    }\n",
       "\n",
       "    .dataframe thead th {\n",
       "        text-align: right;\n",
       "    }\n",
       "</style>\n",
       "<table border=\"1\" class=\"dataframe\">\n",
       "  <thead>\n",
       "    <tr style=\"text-align: right;\">\n",
       "      <th></th>\n",
       "      <th>Temperature</th>\n",
       "    </tr>\n",
       "  </thead>\n",
       "  <tbody>\n",
       "    <tr>\n",
       "      <th>0</th>\n",
       "      <td>20.0</td>\n",
       "    </tr>\n",
       "    <tr>\n",
       "      <th>1</th>\n",
       "      <td>19.1</td>\n",
       "    </tr>\n",
       "    <tr>\n",
       "      <th>2</th>\n",
       "      <td>18.7</td>\n",
       "    </tr>\n",
       "    <tr>\n",
       "      <th>3</th>\n",
       "      <td>17.8</td>\n",
       "    </tr>\n",
       "    <tr>\n",
       "      <th>4</th>\n",
       "      <td>16.4</td>\n",
       "    </tr>\n",
       "  </tbody>\n",
       "</table>\n",
       "</div>"
      ],
      "text/plain": [
       "   Temperature\n",
       "0         20.0\n",
       "1         19.1\n",
       "2         18.7\n",
       "3         17.8\n",
       "4         16.4"
      ]
     },
     "execution_count": 14,
     "metadata": {},
     "output_type": "execute_result"
    }
   ],
   "source": [
    "temp_data_past_30 = [20.0, 19.1, 18.7, 17.8, 16.4, 16.5, 19.3, 20.9, 21.6, 20.7, 20.4, 18.5, 16.4, 17.7, 15.2, 19.6, 20.5, 20.8, 16.7, 17.8, 18.1, 22.0, 23.3, 16.7, 15.5, 16.2, 20.5, 21.2, 20.8, 20.6, 21.3]\n",
    "temp_data_past_30 = pd.DataFrame({'Temperature' : temp_data_past_30})\n",
    "temp_data_past_30.head()"
   ]
  },
  {
   "cell_type": "code",
   "execution_count": 15,
   "metadata": {},
   "outputs": [
    {
     "name": "stdout",
     "output_type": "stream",
     "text": [
      "   Humidity\n",
      "0      81.6\n",
      "1      78.5\n",
      "2      74.1\n",
      "3      69.6\n",
      "4      68.4\n"
     ]
    }
   ],
   "source": [
    "humidity_data_past_30 = [81.6, 78.5, 74.1, 69.6, 68.4, 78.3, 76.0, 71.5, 84.3, 84.6, 88.2, 80.9, 79.3, 88.8, 75.1, 64.4, 74.7, 69.4, 74.6, 72.0, 77.2, 74.4, 68.1, 78.1, 78.4, 78.2, 78.7, 68.7, 67.3, 70.8, 61.6]\n",
    "humidity_data_past_30 = pd.DataFrame({'Humidity': humidity_data_past_30})\n",
    "print(humidity_data_past_30.head())"
   ]
  },
  {
   "cell_type": "code",
   "execution_count": 16,
   "metadata": {},
   "outputs": [
    {
     "name": "stdout",
     "output_type": "stream",
     "text": [
      "    Temperature  Humidity\n",
      "0          20.0      81.6\n",
      "1          19.1      78.5\n",
      "2          18.7      74.1\n",
      "3          17.8      69.6\n",
      "4          16.4      68.4\n",
      "5          16.5      78.3\n",
      "6          19.3      76.0\n",
      "7          20.9      71.5\n",
      "8          21.6      84.3\n",
      "9          20.7      84.6\n",
      "10         20.4      88.2\n",
      "11         18.5      80.9\n",
      "12         16.4      79.3\n",
      "13         17.7      88.8\n",
      "14         15.2      75.1\n",
      "15         19.6      64.4\n",
      "16         20.5      74.7\n",
      "17         20.8      69.4\n",
      "18         16.7      74.6\n",
      "19         17.8      72.0\n",
      "20         18.1      77.2\n",
      "21         22.0      74.4\n",
      "22         23.3      68.1\n",
      "23         16.7      78.1\n",
      "24         15.5      78.4\n",
      "25         16.2      78.2\n",
      "26         20.5      78.7\n",
      "27         21.2      68.7\n",
      "28         20.8      67.3\n",
      "29         20.6      70.8\n",
      "30         21.3      61.6\n"
     ]
    }
   ],
   "source": [
    "historical_data = temp_data_past_30.join(humidity_data_past_30)\n",
    "\n",
    "print(historical_data)"
   ]
  },
  {
   "cell_type": "code",
   "executi