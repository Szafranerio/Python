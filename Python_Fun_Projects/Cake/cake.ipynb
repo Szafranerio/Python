{
 "cells": [
  {
   "cell_type": "code",
   "execution_count": 145,
   "metadata": {},
   "outputs": [],
   "source": [
    "from tkinter import *\n",
    "from tkinter import messagebox\n",
    "import json\n",
    "import os\n",
    "import pandas as pd \n",
    "import numpy as np"
   ]
  },
  {
   "cell_type": "code",
   "execution_count": 146,
   "metadata": {},
   "outputs": [
    {
     "name": "stdout",
     "output_type": "stream",
     "text": [
      "[]\n",
      "Loading existing data...\n",
      "Existing data: [{'name': 'Mel', 'weight': 23.0, 'aimed': '4'}, {'name': 'WHites', 'weight': 70.0, 'aimed': '4'}, {'name': 'EGGS', 'weight': 1000.0, 'aimed': '4'}, {'name': 'Kurkuma', 'weight': 23.0, 'aimed': '4'}]\n",
      "Appending new data: {'name': '2', 'weight': 2.0, 'aimed': '2'}\n",
      "Data saved successfully!\n"
     ]
    },
    {
     "name": "stderr",
     "output_type": "stream",
     "text": [
      "2024-09-21 13:54:31.476 python[10676:106157] Warning: Expected min height of view: (<NSButton: 0x7fb81d79fef0>) to be less than or equal to 30 but got a height of 32.000000. This error will be logged once per view in violation.\n"
     ]
    },
    {
     "name": "stdout",
     "output_type": "stream",
     "text": [
      "Loading existing data...\n",
      "Failed to decode JSON, initializing empty list...\n",
      "Appending new data: {'name': '2', 'weight': 23.0, 'aimed': '2'}\n",
      "Data saved successfully!\n"
     ]
    },
    {
     "name": "stderr",
     "output_type": "stream",
     "text": [
      "2024-09-21 13:54:51.262 python[10676:106157] Warning: Expected min height of view: (<NSButton: 0x7fb81ea29c00>) to be less than or equal to 30 but got a height of 32.000000. This error will be logged once per view in violation.\n"
     ]
    }
   ],
   "source": [
    "data = []\n",
    "\n",
    "def show_help():\n",
    "    messagebox.showinfo('Help', 'Choose the type of weight and input the original recipe ingredients. Sum up with the amount of pieces and see how much you need!')\n",
    "\n",
    "def add():\n",
    "    \n",
    "    weight = input_weight.get()\n",
    "    name = input_product_name.get()\n",
    "    aimed_amount = input_aimed.get()\n",
    "\n",
    "    # Validate the weight input as a number\n",
    "    try:\n",
    "        weight = float(weight)\n",
    "    except ValueError:\n",
    "        messagebox.showwarning(title=\"Warning\", message=\"Weight must be a number!\")\n",
    "        return\n",
    "\n",
    "    if not name:\n",
    "        messagebox.showwarning(title=\"Warning\", message=\"Product name cannot be empty!\")\n",
    "        return\n",
    "\n",
    "    new_data = {\n",
    "        \"name\": name,\n",
    "        \"weight\": weight,\n",
    "        \"aimed\" : aimed_amount\n",
    "    }\n",
    "\n",
    "\n",
    "    try:\n",
    "        data_file_path = './data/data.json'\n",
    "\n",
    "        # Ensure the directory exists\n",
    "        if not os.path.exists('./data'):\n",
    "            print(\"Creating data directory...\")\n",
    "            os.makedirs('./data')\n",
    "\n",
    "        # Check if the file exists\n",
    "        if os.path.exists(data_file_path):\n",
    "            print(\"Loading existing data...\")\n",
    "            try:\n",
    "                with open(data_file_path, mode=\"r\") as data_file:\n",
    "                    data = json.load(data_file)\n",
    "                    print(f\"Existing data: {data}\")\n",
    "            except json.JSONDecodeError:\n",
    "                print(\"Failed to decode JSON, initializing empty list...\")\n",
    "                data = []\n",
    "        else:\n",
    "            print(\"Data file does not exist, initializing empty list...\")\n",
    "            data = []\n",
    "\n",
    "        # Append the new data to the list\n",
    "        data.append(new_data)\n",
    "        print(f\"Appending new data: {new_data}\")\n",
    "\n",
    "        # Write the updated data back to the file\n",
    "        with open(data_file_path, mode=\"w\") as data_file:\n",
    "            json.dump(data, data_file, indent=4)\n",
    "            print(\"Data saved successfully!\")\n",
    "\n",
    "        messagebox.showinfo(title=\"Success\", message=\"Data saved successfully!\")\n",
    "\n",
    "    except Exception as e:\n",
    "        messagebox.showerror(title=\"Error\", message=f\"An error occurred: {e}\")\n",
    "    finally:\n",
    "        input_weight.delete(0, END)\n",
    "        input_product_name.delete(0, END)\n",
    "\n",
    "def calculate():\n",
    "    data = pd.read_json('./data/data.json')\n",
    "print(data)\n",
    "          \n",
    "\n",
    "# UI setup\n",
    "window = Tk()\n",
    "window.config(padx=25, pady=25)\n",
    "window.geometry('600x600')\n",
    "window.title('Cake Converter')\n",
    "\n",
    "# Info table\n",
    "\n",
    "Label(window, text=\"Pick amount and weight: \").grid(column=0, row=2)\n",
    "input_weight = Entry(window)\n",
    "input_weight.grid(column=1, row=2)\n",
    "\n",
    "Label(window, text='What kind of product: ').grid(column=0, row=3)\n",
    "input_product_name = Entry(window)\n",
    "input_product_name.grid(column=1, row=3)\n",
    "\n",
    "Label(window, text='For how many portions do you need?').grid(column=0, row=5)\n",
    "input_aimed = Entry(window)\n",
    "input_aimed.grid(column=1, row=5)\n",
    "\n",
    "Button(window, text='Help?', command=show_help).grid(column=0, row=6)\n",
    "Button(window, text='Add', command=add).grid(column=1, row=6)\n",
    "\n",
    "window.mainloop()\n"
   ]
  },
  {
   "cell_type": "code",
   "execution_count": 147,
   "metadata": {},
   "outputs": [
    {
     "name": "stdout",
     "output_type": "stream",
     "text": [
      "   name  weight  aimed\n",
      "0     2      23      2\n"
     ]
    }
   ],
   "source": [
    "data = pd.read_json('./data/data.json')\n",
    "print(data)"
   ]
  },
  {
   "cell_type": "code",
   "execution_count": 148,
   "metadata": {},
   "outputs": [
    {
     "data": {
      "text/html": [
       "<div>\n",
       "<style scoped>\n",
       "    .dataframe tbody tr th:only-of-type {\n",
       "        vertical-align: middle;\n",
       "    }\n",
       "\n",
       "    .dataframe tbody tr th {\n",
       "        vertical-align: top;\n",
       "    }\n",
       "\n",
       "    .dataframe thead th {\n",
       "        text-align: right;\n",
       "    }\n",
       "</style>\n",
       "<table border=\"1\" class=\"dataframe\">\n",
       "  <thead>\n",
       "    <tr style=\"text-align: right;\">\n",
       "      <th></th>\n",
       "      <th>name</th>\n",
       "      <th>weight</th>\n",
       "      <th>aimed</th>\n",
       "    </tr>\n",
       "  </thead>\n",
       "  <tbody>\n",
       "    <tr>\n",
       "      <th>0</th>\n",
       "      <td>2</td>\n",
       "      <td>23</td>\n",
       "      <td>2</td>\n",
       "    </tr>\n",
       "  </tbody>\n",
       "</table>\n",
       "</div>"
      ],
      "text/plain": [
       "   name  weight  aimed\n",
       "0     2      23      2"
      ]
     },
     "execution_count": 148,
     "metadata": {},
     "output_type": "execute_result"
    }
   ],
   "source": [
    "data = pd.DataFrame(data)\n",
    "data.head()"
   ]
  },
  {
   "cell_type": "code",
   "execution_count": 149,
   "metadata": {},
   "outputs": [
    {
     "data": {
      "text/plain": [
       "0    2\n",
       "Name: aimed, dtype: int64"
      ]
     },
     "execution_count": 149,
     "metadata": {},
     "output_type": "execute_result"
    }
   ],
   "source": [
    "proportion_data = data['aimed']\n",
    "data.drop('aimed', axis=1, inplace=True)\n",
    "proportion_data"
   ]
  },
  {
   "cell_type": "code",
   "execution_count": 150,
   "metadata": {},
   "outputs": [
    {
     "data": {
      "text/html": [
       "<div>\n",
       "<style scoped>\n",
       "    .dataframe tbody tr th:only-of-type {\n",
       "        vertical-align: middle;\n",
       "    }\n",
       "\n",
       "    .dataframe tbody tr th {\n",
       "        vertical-align: top;\n",
       "    }\n",
       "\n",
       "    .dataframe thead th {\n",
       "        text-align: right;\n",
       "    }\n",
       "</style>\n",
       "<table border=\"1\" class=\"dataframe\">\n",
       "  <thead>\n",
       "    <tr style=\"text-align: right;\">\n",
       "      <th></th>\n",
       "      <th>name</th>\n",
       "      <th>weight</th>\n",
       "    </tr>\n",
       "  </thead>\n",
       "  <tbody>\n",
       "    <tr>\n",
       "      <th>0</th>\n",
       "      <td>2</td>\n",
       "      <td>23</td>\n",
       "    </tr>\n",
       "  </tbody>\n",
       "</table>\n",
       "</div>"
      ],
      "text/plain": [
       "   name  weight\n",
       "0     2      23"
      ]
     },
     "execution_count": 150,
     "metadata": {},
     "output_type": "execute_result"
    }
   ],
   "source": [
    "data"
   ]
  },
  {
   "cell_type": "code",
   "execution_count": 151,
   "metadata": {},
   "outputs": [
    {
     "data": {
      "text/plain": [
       "2"
      ]
     },
     "execution_count": 151,
     "metadata": {},
     "output_type": "execute_result"
    }
   ],
   "source": [
    "data_for_math = pd.Series(data_for_math)\n",
    "data_for_math = proportion_data.iloc[-1]\n",
    "data_for_math"
   ]
  },
  {
   "cell_type": "code",
   "execution_count": 152,
   "metadata": {},
   "outputs": [
    {
     "ename": "AttributeError",
     "evalue": "'numpy.int64' object has no attribute 'aimed'",
     "output_type": "error",
     "traceback": [
      "\u001b[0;31m---------------------------------------------------------------------------\u001b[0m",
      "\u001b[0;31mAttributeError\u001b[0m                            Traceback (most recent call last)",
      "Cell \u001b[0;32mIn[152], line 1\u001b[0m\n\u001b[0;32m----> 1\u001b[0m \u001b[43mdata_for_math\u001b[49m\u001b[38;5;241;43m.\u001b[39;49m\u001b[43maimed\u001b[49m\n",
      "\u001b[0;31mAttributeError\u001b[0m: 'numpy.int64' object has no attribute 'aimed'"
     ]
    }
   ],
   "source": [
    "data_for_math.aimed"
   ]
  },
  {
   "cell_type": "code",
   "execution_count": null,
   "metadata": {},
   "outputs": [
    {
     "data": {
      "text/html": [
       "<div>\n",
       "<style scoped>\n",
       "    .dataframe tbody tr th:only-of-type {\n",
       "        vertical-align: middle;\n",
       "    }\n",
       "\n",
       "    .dataframe tbody tr th {\n",
       "        vertical-align: top;\n",
       "    }\n",
       "\n",
       "    .dataframe thead th {\n",
       "        text-align: right;\n",
       "    }\n",
       "</style>\n",
       "<table border=\"1\" class=\"dataframe\">\n",
       "  <thead>\n",
       "    <tr style=\"text-align: right;\">\n",
       "      <th></th>\n",
       "      <th>weight</th>\n",
       "    </tr>\n",
       "  </thead>\n",
       "  <tbody>\n",
       "    <tr>\n",
       "      <th>0</th>\n",
       "      <td>5.75</td>\n",
       "    </tr>\n",
       "    <tr>\n",
       "      <th>1</th>\n",
       "      <td>17.50</td>\n",
       "    </tr>\n",
       "    <tr>\n",
       "      <th>2</th>\n",
       "      <td>250.00</td>\n",
       "    </tr>\n",
       "    <tr>\n",
       "      <th>3</th>\n",
       "      <td>5.75</td>\n",
       "    </tr>\n",
       "  </tbody>\n",
       "</table>\n",
       "</div>"
      ],
      "text/plain": [
       "   weight\n",
       "0    5.75\n",
       "1   17.50\n",
       "2  250.00\n",
       "3    5.75"
      ]
     },
     "execution_count": 137,
     "metadata": {},
     "output_type": "execute_result"
    }
   ],
   "source": [
    "new_data = data.weight / data_for_math \n",
    "new_data = pd.DataFrame(new_data)\n",
    "new_data"
   ]
  },
  {
   "cell_type": "code",
   "execution_count": null,
   "metadata": {},
   "outputs": [
    {
     "name": "stdout",
     "output_type": "stream",
     "text": [
      "<class 'pandas.core.frame.DataFrame'>\n",
      "RangeIndex: 4 entries, 0 to 3\n",
      "Data columns (total 3 columns):\n",
      " #   Column    Non-Null Count  Dtype  \n",
      "---  ------    --------------  -----  \n",
      " 0   name      4 non-null      object \n",
      " 1   weight    4 non-null      int64  \n",
      " 2   new_data  4 non-null      float64\n",
      "dtypes: float64(1), int64(1), object(1)\n",
      "memory usage: 228.0+ bytes\n"
     ]
    }
   ],
   "source": [
    "data['new_data'] = new_data\n",
    "data.info()"
   ]
  },
  {
   "cell_type": "code",
   "execution_count": null,
   "metadata": {},
   "outputs": [
    {
     "data": {
      "text/plain": [
       "0      5.75\n",
       "1     17.50\n",
       "2    250.00\n",
       "3      5.75\n",
       "Name: new_data, dtype: float64"
      ]
     },
     "execution_count": 139,
     "metadata": {},
     "output_type": "execute_result"
    }
   ],
   "source": [
    "data.new_data"
   ]
  },
  {
   "cell_type": "code",
   "execution_count": null,
   "metadata": {},
   "outputs": [
    {
     "data": {
      "text/html": [
       "<div>\n",
       "<style scoped>\n",
       "    .dataframe tbody tr th:only-of-type {\n",
       "        vertical-align: middle;\n",
       "    }\n",
       "\n",
       "    .dataframe tbody tr th {\n",
       "        vertical-align: top;\n",
       "    }\n",
       "\n",
       "    .dataframe thead th {\n",
       "        text-align: right;\n",
       "    }\n",
       "</style>\n",
       "<table border=\"1\" class=\"dataframe\">\n",
       "  <thead>\n",
       "    <tr style=\"text-align: right;\">\n",
       "      <th></th>\n",
       "      <th>name</th>\n",
       "      <th>weight</th>\n",
       "      <th>new_data</th>\n",
       "    </tr>\n",
       "  </thead>\n",
       "  <tbody>\n",
       "    <tr>\n",
       "      <th>0</th>\n",
       "      <td>Mel</td>\n",
       "      <td>23</td>\n",
       "      <td>5.75</td>\n",
       "    </tr>\n",
       "    <tr>\n",
       "      <th>1</th>\n",
       "      <td>WHites</td>\n",
       "      <td>70</td>\n",
       "      <td>17.50</td>\n",
       "    </tr>\n",
       "    <tr>\n",
       "      <th>2</th>\n",
       "      <td>EGGS</td>\n",
       "      <td>1000</td>\n",
       "      <td>250.00</td>\n",
       "    </tr>\n",
       "    <tr>\n",
       "      <th>3</th>\n",
       "      <td>Kurkuma</td>\n",
       "      <td>23</td>\n",
       "      <td>5.75</td>\n",
       "    </tr>\n",
       "  </tbody>\n",
       "</table>\n",
       "</div>"
      ],
      "text/plain": [
       "      name  weight  new_data\n",
       "0      Mel      23      5.75\n",
       "1   WHites      70     17.50\n",
       "2     EGGS    1000    250.00\n",
       "3  Kurkuma      23      5.75"
      ]
     },
     "execution_count": 143,
     "metadata": {},
     "output_type": "execute_result"
    }
   ],
   "source": [
    "data"
   ]
  },
  {
   "cell_type": "code",
   "execution_count": null,
   "metadata": {},
   "outputs": [
    {
     "name": "stdout",
     "output_type": "stream",
     "text": [
      "You need 5.75 of mel\n",
      "You need 17.5 of whites\n",
      "You need 250.0 of eggs\n",
      "You need 5.75 of kurkuma\n"
     ]
    }
   ],
   "source": [
    "for index, row in data.iterrows():\n",
    "    print(f\"You need {row['new_data']} of {row['name'].lower()}\")"
   ]
  }
 ],
 "metadata": {
  "kernelspec": {
   "display_name": "DataScience",
   "language": "python",
   "name": "python3"
  },
  "language_info": {
   "codemirror_mode": {
    "name": "ipython",
    "version": 3
   },
   "file_extension": ".py",
   "mimetype": "text/x-python",
   "name": "python",
   "nbconvert_exporter": "python",
   "pygments_lexer": "ipython3",
   "version": "3.11.9"
  }
 },
 "nbformat": 4,
 "nbformat_minor": 2
}
