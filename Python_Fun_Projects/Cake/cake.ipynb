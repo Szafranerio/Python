{
 "cells": [
  {
   "cell_type": "code",
   "execution_count": 2,
   "metadata": {},
   "outputs": [],
   "source": [
    "from tkinter import *\n",
    "from tkinter import messagebox\n",
    "import json\n",
    "import pandas as pd \n",
    "import numpy as np\n",
    "from PIL import Image, ImageTk\n",
    "import os"
   ]
  },
  {
   "cell_type": "code",
   "execution_count": 3,
   "metadata": {},
   "outputs": [
    {
     "name": "stdout",
     "output_type": "stream",
     "text": [
      "[]\n"
     ]
    }
   ],
   "source": [
    "FONT = ('Comic Sans MS', 15, 'bold')\n",
    "data = []\n",
    "\n",
    "def show_help():\n",
    "    messagebox.showinfo('Help', 'Choose the type of weight and input the original recipe ingredients. Sum up with the amount of pieces and see how much you need!')\n",
    "\n",
    "def add():\n",
    "    \n",
    "    recipe_amount = input_recipe.get()\n",
    "    weight = input_weight.get()\n",
    "    name = input_product_name.get()\n",
    "    aimed_amount = input_aimed.get()\n",
    "\n",
    "    # Validate the weight input as a number\n",
    "    try:\n",
    "        weight = float(weight)\n",
    "    except ValueError:\n",
    "        messagebox.showwarning(title=\"Warning\", message=\"Weight must be a number!\")\n",
    "        return\n",
    "\n",
    "    if not name:\n",
    "        messagebox.showwarning(title=\"Warning\", message=\"Product name cannot be empty!\")\n",
    "        return\n",
    "    elif input_recipe != int or input_recipe != float:\n",
    "        messagebox.showwarning(title=\"Warning\", message=\"Check your data\")\n",
    "\n",
    "    new_data = {\n",
    "        \"name\": name,\n",
    "        \"weight\": weight,\n",
    "        \"aimed\" : aimed_amount,\n",
    "        \"recipe\" : recipe_amount\n",
    "    }\n",
    "\n",
    "\n",
    "    try:\n",
    "        data_file_path = './data/data.json'\n",
    "\n",
    "        # Ensure the directory exists\n",
    "        if not os.path.exists('./data'):\n",
    "            print(\"Creating data directory...\")\n",
    "            os.makedirs('./data')\n",
    "\n",
    "        # Check if the file exists\n",
    "        if os.path.exists(data_file_path):\n",
    "            print(\"Loading existing data...\")\n",
    "            try:\n",
    "                with open(data_file_path, mode=\"r\") as data_file:\n",
    "                    data = json.load(data_file)\n",
    "                    print(f\"Existing data: {data}\")\n",
    "            except json.JSONDecodeError:\n",
    "                print(\"Failed to decode JSON, initializing empty list...\")\n",
    "                data = []\n",
    "        else:\n",
    "            print(\"Data file does not exist, initializing empty list...\")\n",
    "            data = []\n",
    "\n",
    "        # Append the new data to the list\n",
    "        data.append(new_data)\n",
    "        print(f\"Appending new data: {new_data}\")\n",
    "\n",
    "        # Write the updated data back to the file\n",
    "        with open(data_file_path, mode=\"w\") as data_file:\n",
    "            json.dump(data, data_file, indent=4)\n",
    "            print(\"Data saved successfully!\")\n",
    "\n",
    "        messagebox.showinfo(title=\"Success\", message=\"Data saved successfully!\")\n",
    "\n",
    "    except Exception as e:\n",
    "        messagebox.showerror(title=\"Error\", message=f\"An error occurred: {e}\")\n",
    "    finally:\n",
    "        input_weight.delete(0, END)\n",
    "        input_product_name.delete(0, END)\n",
    "\n",
    "def calculate():\n",
    "    data = pd.read_json('./data/data.json')\n",
    "    data = pd.DataFrame(data)\n",
    "    \n",
    "    proportion_data = data['aimed']\n",
    "    original_recipe = data['recipe']\n",
    "    data.drop(['aimed','recipe'], axis=1, inplace=True)\n",
    "    data_for_proportion = pd.Series(proportion_data).iloc[-1]\n",
    "    original_data = pd.Series(original_recipe).iloc[-1]\n",
    "    \n",
    "    data['per_one_portion'] = pd.DataFrame(data.weight / original_data)\n",
    "    data['final_proportions'] = pd.DataFrame(data.per_one_portion) * data_for_proportion\n",
    "    \n",
    "    \n",
    "    messages = []\n",
    "\n",
    "    for index, row in data.iterrows():\n",
    "        message = f\"For {data_for_proportion} portions, you need: \\n {row['final_proportions']} of {row['name'].lower()}\"\n",
    "        messages.append(message)\n",
    "        \n",
    "    messagebox.showinfo(f'Final data', '\\n'.join(messages))\n",
    "    \n",
    "    \n",
    "def clear():\n",
    "    data_file_path = './data/data.json'\n",
    "    with open(data_file_path, mode=\"w\") as data_file:\n",
    "        data_file.truncate()\n",
    "    input_recipe.delete(0, END)\n",
    "    input_aimed.delete(0, END)\n",
    "    input_weight.delete(0, END)\n",
    "    input_product_name.delete(0, END)\n",
    "    \n",
    "           \n",
    "    \n",
    "print(data)\n",
    "          \n",
    "\n",
    "# UI setup\n",
    "window = Tk()\n",
    "window.config(padx=25, pady=25, bg=\"#ffccdd\")\n",
    "window.geometry('600x600')\n",
    "window.title('Cake Converter')\n",
    "\n",
    "# Info table\n",
    "\n",
    "Label(window, text=\"Pick amount from recepie: \", bg=\"#ffccdd\", font=FONT).grid(column=0, row=1)\n",
    "input_recipe = Entry(window)\n",
    "input_recipe.config(highlightbackground=\"#ffccdd\", highlightthickness=2)\n",
    "input_recipe.grid(column=1, row=1)\n",
    "\n",
    "Label(window, text=\"Pick amount and weight: \", bg=\"#ffccdd\", font=FONT).grid(column=0, row=2)\n",
    "input_weight = Entry(window)\n",
    "input_weight.config(highlightbackground=\"#ffccdd\", highlightthickness=2)\n",
    "input_weight.grid(column=1, row=2)\n",
    "\n",
    "Label(window, text='What kind of product: ', bg=\"#ffccdd\", font=FONT).grid(column=0, row=3)\n",
    "input_product_name = Entry(window)\n",
    "input_product_name.config(highlightbackground=\"#ffccdd\", highlightthickness=2)\n",
    "input_product_name.grid(column=1, row=3)\n",
    "\n",
    "Label(window, text='For how many portions do you need?', bg=\"#ffccdd\", font=FONT).grid(column=0, row=5)\n",
    "input_aimed = Entry(window)\n",
    "input_aimed.config(highlightbackground=\"#ffccdd\", highlightthickness=2)\n",
    "input_aimed.grid(column=1, row=5)\n",
    "\n",
    "Button(window, text='Help?', command=show_help, highlightbackground=\"#ffccdd\", highlightcolor=\"#ffccdd\", highlightthickness=4, relief='solid').grid(column=0, row=6)\n",
    "Button(window, text='Clear data', command=clear, highlightbackground=\"#ffccdd\", highlightcolor=\"#ffccdd\", highlightthickness=4, relief='solid').grid(column=1, row=6)\n",
    "Button(window, text='Add', command=add, highlightbackground=\"#ffccdd\", highlightcolor=\"#ffccdd\", highlightthickness=4, relief='solid').grid(column=2, row=6)\n",
    "Button(window, text='Calculate', command=calculate, highlightbackground=\"#ffccdd\", highlightcolor=\"#ffccdd\", highlightthickness=4, relief='solid').grid(column=3, row=6)\n",
    "\n",
    "\n",
    "\n",
    "window.mainloop()\n"
   ]
  },
  {
   "cell_type": "code",
   "execution_count": 4,
   "metadata": {},
   "outputs": [
    {
     "data": {
      "text/html": [
       "<div>\n",
       "<style scoped>\n",
       "    .dataframe tbody tr th:only-of-type {\n",
       "        vertical-align: middle;\n",
       "    }\n",
       "\n",
       "    .dataframe tbody tr th {\n",
       "        vertical-align: top;\n",
       "    }\n",
       "\n",
       "    .dataframe thead th {\n",
       "        text-align: right;\n",
       "    }\n",
       "</style>\n",
       "<table border=\"1\" class=\"dataframe\">\n",
       "  <thead>\n",
       "    <tr style=\"text-align: right;\">\n",
       "      <th></th>\n",
       "      <th>name</th>\n",
       "      <th>weight</th>\n",
       "      <th>aimed</th>\n",
       "      <th>recipe</th>\n",
       "    </tr>\n",
       "  </thead>\n",
       "  <tbody>\n",
       "    <tr>\n",
       "      <th>0</th>\n",
       "      <td>mel</td>\n",
       "      <td>2</td>\n",
       "      <td>4</td>\n",
       "      <td>6</td>\n",
       "    </tr>\n",
       "    <tr>\n",
       "      <th>1</th>\n",
       "      <td>q</td>\n",
       "      <td>2</td>\n",
       "      <td>1</td>\n",
       "      <td>w</td>\n",
       "    </tr>\n",
       "  </tbody>\n",
       "</table>\n",
       "</div>"
      ],
      "text/plain": [
       "  name  weight  aimed recipe\n",
       "0  mel       2      4      6\n",
       "1    q       2      1      w"
      ]
     },
     "execution_count": 4,
     "metadata": {},
     "output_type": "execute_result"
    }
   ],
   "source": [
    "data = pd.read_json('./data/data.json')\n",
    "data = pd.DataFrame(data)\n",
    "data.head()"
   ]
  },
  {
   "cell_type": "code",
   "execution_count": 5,
   "metadata": {},
   "outputs": [
    {
     "name": "stdout",
     "output_type": "stream",
     "text": [
      "w\n"
     ]
    }
   ],
   "source": [
    "#Two columns with aimed number of portion and orginal number of portion based on recepie\n",
    "proportion_data = data['aimed']\n",
    "original_recipe = data['recipe']\n",
    "data.drop(['aimed','recipe'], axis=1, inplace=True)\n",
    "data_for_proportion = pd.Series(proportion_data)\n",
    "data_for_proportion = proportion_data.iloc[-1]\n",
    "original_data = pd.Series(original_recipe)\n",
    "original_data = original_recipe.iloc[-1]\n",
    "print(f'{original_data}')"
   ]
  },
  {
   "cell_type": "code",
   "execution_count": 6,
   "metadata": {},
   "outputs": [
    {
     "ename": "TypeError",
     "evalue": "ufunc 'divide' not supported for the input types, and the inputs could not be safely coerced to any supported types according to the casting rule ''safe''",
     "output_type": "error",
     "traceback": [
      "\u001b[0;31m---------------------------------------------------------------------------\u001b[0m",
      "\u001b[0;31mTypeError\u001b[0m                                 Traceback (most recent call last)",
      "Cell \u001b[0;32mIn[6], line 1\u001b[0m\n\u001b[0;32m----> 1\u001b[0m data[\u001b[38;5;124m'\u001b[39m\u001b[38;5;124mper_one_portion\u001b[39m\u001b[38;5;124m'\u001b[39m] \u001b[38;5;241m=\u001b[39m pd\u001b[38;5;241m.\u001b[39mDataFrame(\u001b[43mdata\u001b[49m\u001b[38;5;241;43m.\u001b[39;49m\u001b[43mweight\u001b[49m\u001b[43m \u001b[49m\u001b[38;5;241;43m/\u001b[39;49m\u001b[43m \u001b[49m\u001b[43moriginal_data\u001b[49m)\n\u001b[1;32m      2\u001b[0m data\n",
      "File \u001b[0;32m/opt/anaconda3/envs/DataScience/lib/python3.11/site-packages/pandas/core/ops/common.py:76\u001b[0m, in \u001b[0;36m_unpack_zerodim_and_defer.<locals>.new_method\u001b[0;34m(self, other)\u001b[0m\n\u001b[1;32m     72\u001b[0m             \u001b[38;5;28;01mreturn\u001b[39;00m \u001b[38;5;28mNotImplemented\u001b[39m\n\u001b[1;32m     74\u001b[0m other \u001b[38;5;241m=\u001b[39m item_from_zerodim(other)\n\u001b[0;32m---> 76\u001b[0m \u001b[38;5;28;01mreturn\u001b[39;00m \u001b[43mmethod\u001b[49m\u001b[43m(\u001b[49m\u001b[38;5;28;43mself\u001b[39;49m\u001b[43m,\u001b[49m\u001b[43m \u001b[49m\u001b[43mother\u001b[49m\u001b[43m)\u001b[49m\n",
      "File \u001b[0;32m/opt/anaconda3/envs/DataScience/lib/python3.11/site-packages/pandas/core/arraylike.py:210\u001b[0m, in \u001b[0;36mOpsMixin.__truediv__\u001b[0;34m(self, other)\u001b[0m\n\u001b[1;32m    208\u001b[0m \u001b[38;5;129m@unpack_zerodim_and_defer\u001b[39m(\u001b[38;5;124m\"\u001b[39m\u001b[38;5;124m__truediv__\u001b[39m\u001b[38;5;124m\"\u001b[39m)\n\u001b[1;32m    209\u001b[0m \u001b[38;5;28;01mdef\u001b[39;00m \u001b[38;5;21m__truediv__\u001b[39m(\u001b[38;5;28mself\u001b[39m, other):\n\u001b[0;32m--> 210\u001b[0m     \u001b[38;5;28;01mreturn\u001b[39;00m \u001b[38;5;28;43mself\u001b[39;49m\u001b[38;5;241;43m.\u001b[39;49m\u001b[43m_arith_method\u001b[49m\u001b[43m(\u001b[49m\u001b[43mother\u001b[49m\u001b[43m,\u001b[49m\u001b[43m \u001b[49m\u001b[43moperator\u001b[49m\u001b[38;5;241;43m.\u001b[39;49m\u001b[43mtruediv\u001b[49m\u001b[43m)\u001b[49m\n",
      "File \u001b[0;32m/opt/anaconda3/envs/DataScience/lib/python3.11/site-packages/pandas/core/series.py:6135\u001b[0m, in \u001b[0;36mSeries._arith_method\u001b[0;34m(self, other, op)\u001b[0m\n\u001b[1;32m   6133\u001b[0m \u001b[38;5;28;01mdef\u001b[39;00m \u001b[38;5;21m_arith_method\u001b[39m(\u001b[38;5;28mself\u001b[39m, other, op):\n\u001b[1;32m   6134\u001b[0m     \u001b[38;5;28mself\u001b[39m, other \u001b[38;5;241m=\u001b[39m \u001b[38;5;28mself\u001b[39m\u001b[38;5;241m.\u001b[39m_align_for_op(other)\n\u001b[0;32m-> 6135\u001b[0m     \u001b[38;5;28;01mreturn\u001b[39;00m \u001b[43mbase\u001b[49m\u001b[38;5;241;43m.\u001b[39;49m\u001b[43mIndexOpsMixin\u001b[49m\u001b[38;5;241;43m.\u001b[39;49m\u001b[43m_arith_method\u001b[49m\u001b[43m(\u001b[49m\u001b[38;5;28;43mself\u001b[39;49m\u001b[43m,\u001b[49m\u001b[43m \u001b[49m\u001b[43mother\u001b[49m\u001b[43m,\u001b[49m\u001b[43m \u001b[49m\u001b[43mop\u001b[49m\u001b[43m)\u001b[49m\n",
      "File \u001b[0;32m/opt/anaconda3/envs/DataScience/lib/python3.11/site-packages/pandas/core/base.py:1382\u001b[0m, in \u001b[0;36mIndexOpsMixin._arith_method\u001b[0;34m(self, other, op)\u001b[0m\n\u001b[1;32m   1379\u001b[0m     rvalues \u001b[38;5;241m=\u001b[39m np\u001b[38;5;241m.\u001b[39marange(rvalues\u001b[38;5;241m.\u001b[39mstart, rvalues\u001b[38;5;241m.\u001b[39mstop, rvalues\u001b[38;5;241m.\u001b[39mstep)\n\u001b[1;32m   1381\u001b[0m \u001b[38;5;28;01mwith\u001b[39;00m np\u001b[38;5;241m.\u001b[39merrstate(\u001b[38;5;28mall\u001b[39m\u001b[38;5;241m=\u001b[39m\u001b[38;5;124m\"\u001b[39m\u001b[38;5;124mignore\u001b[39m\u001b[38;5;124m\"\u001b[39m):\n\u001b[0;32m-> 1382\u001b[0m     result \u001b[38;5;241m=\u001b[39m \u001b[43mops\u001b[49m\u001b[38;5;241;43m.\u001b[39;49m\u001b[43marithmetic_op\u001b[49m\u001b[43m(\u001b[49m\u001b[43mlvalues\u001b[49m\u001b[43m,\u001b[49m\u001b[43m \u001b[49m\u001b[43mrvalues\u001b[49m\u001b[43m,\u001b[49m\u001b[43m \u001b[49m\u001b[43mop\u001b[49m\u001b[43m)\u001b[49m\n\u001b[1;32m   1384\u001b[0m \u001b[38;5;28;01mreturn\u001b[39;00m \u001b[38;5;28mself\u001b[39m\u001b[38;5;241m.\u001b[39m_construct_result(result, name\u001b[38;5;241m=\u001b[39mres_name)\n",
      "File \u001b[0;32m/opt/anaconda3/envs/DataScience/lib/python3.11/site-packages/pandas/core/ops/array_ops.py:283\u001b[0m, in \u001b[0;36marithmetic_op\u001b[0;34m(left, right, op)\u001b[0m\n\u001b[1;32m    279\u001b[0m     _bool_arith_check(op, left, right)  \u001b[38;5;66;03m# type: ignore[arg-type]\u001b[39;00m\n\u001b[1;32m    281\u001b[0m     \u001b[38;5;66;03m# error: Argument 1 to \"_na_arithmetic_op\" has incompatible type\u001b[39;00m\n\u001b[1;32m    282\u001b[0m     \u001b[38;5;66;03m# \"Union[ExtensionArray, ndarray[Any, Any]]\"; expected \"ndarray[Any, Any]\"\u001b[39;00m\n\u001b[0;32m--> 283\u001b[0m     res_values \u001b[38;5;241m=\u001b[39m \u001b[43m_na_arithmetic_op\u001b[49m\u001b[43m(\u001b[49m\u001b[43mleft\u001b[49m\u001b[43m,\u001b[49m\u001b[43m \u001b[49m\u001b[43mright\u001b[49m\u001b[43m,\u001b[49m\u001b[43m \u001b[49m\u001b[43mop\u001b[49m\u001b[43m)\u001b[49m  \u001b[38;5;66;03m# type: ignore[arg-type]\u001b[39;00m\n\u001b[1;32m    285\u001b[0m \u001b[38;5;28;01mreturn\u001b[39;00m res_values\n",
      "File \u001b[0;32m/opt/anaconda3/envs/DataScience/lib/python3.11/site-packages/pandas/core/ops/array_ops.py:218\u001b[0m, in \u001b[0;36m_na_arithmetic_op\u001b[0;34m(left, right, op, is_cmp)\u001b[0m\n\u001b[1;32m    215\u001b[0m     func \u001b[38;5;241m=\u001b[39m partial(expressions\u001b[38;5;241m.\u001b[39mevaluate, op)\n\u001b[1;32m    217\u001b[0m \u001b[38;5;28;01mtry\u001b[39;00m:\n\u001b[0;32m--> 218\u001b[0m     result \u001b[38;5;241m=\u001b[39m \u001b[43mfunc\u001b[49m\u001b[43m(\u001b[49m\u001b[43mleft\u001b[49m\u001b[43m,\u001b[49m\u001b[43m \u001b[49m\u001b[43mright\u001b[49m\u001b[43m)\u001b[49m\n\u001b[1;32m    219\u001b[0m \u001b[38;5;28;01mexcept\u001b[39;00m \u001b[38;5;167;01mTypeError\u001b[39;00m:\n\u001b[1;32m    220\u001b[0m     \u001b[38;5;28;01mif\u001b[39;00m \u001b[38;5;129;01mnot\u001b[39;00m is_cmp \u001b[38;5;129;01mand\u001b[39;00m (\n\u001b[1;32m    221\u001b[0m         left\u001b[38;5;241m.\u001b[39mdtype \u001b[38;5;241m==\u001b[39m \u001b[38;5;28mobject\u001b[39m \u001b[38;5;129;01mor\u001b[39;00m \u001b[38;5;28mgetattr\u001b[39m(right, \u001b[38;5;124m\"\u001b[39m\u001b[38;5;124mdtype\u001b[39m\u001b[38;5;124m\"\u001b[39m, \u001b[38;5;28;01mNone\u001b[39;00m) \u001b[38;5;241m==\u001b[39m \u001b[38;5;28mobject\u001b[39m\n\u001b[1;32m    222\u001b[0m     ):\n\u001b[0;32m   (...)\u001b[0m\n\u001b[1;32m    225\u001b[0m         \u001b[38;5;66;03m# Don't do this for comparisons, as that will handle complex numbers\u001b[39;00m\n\u001b[1;32m    226\u001b[0m         \u001b[38;5;66;03m#  incorrectly, see GH#32047\u001b[39;00m\n",
      "\u001b[0;31mTypeError\u001b[0m: ufunc 'divide' not supported for the input types, and the inputs could not be safely coerced to any supported types according to the casting rule ''safe''"
     ]
    }
   ],
   "source": [
    "data['per_one_portion'] = pd.DataFrame(data.weight / original_data)\n",
    "data"
   ]
  },
  {
   "cell_type": "code",
   "execution_count": null,
   "metadata": {},
   "outputs": [
    {
     "data": {
      "text/html": [
       "<div>\n",
       "<style scoped>\n",
       "    .dataframe tbody tr th:only-of-type {\n",
       "        vertical-align: middle;\n",
       "    }\n",
       "\n",
       "    .dataframe tbody tr th {\n",
       "        vertical-align: top;\n",
       "    }\n",
       "\n",
       "    .dataframe thead th {\n",
       "        text-align: right;\n",
       "    }\n",
       "</style>\n",
       "<table border=\"1\" class=\"dataframe\">\n",
       "  <thead>\n",
       "    <tr style=\"text-align: right;\">\n",
       "      <th></th>\n",
       "      <th>name</th>\n",
       "      <th>weight</th>\n",
       "      <th>per_one_portion</th>\n",
       "    </tr>\n",
       "  </thead>\n",
       "  <tbody>\n",
       "    <tr>\n",
       "      <th>0</th>\n",
       "      <td>mel</td>\n",
       "      <td>2</td>\n",
       "      <td>0.333333</td>\n",
       "    </tr>\n",
       "  </tbody>\n",
       "</table>\n",
       "</div>"
      ],
      "text/plain": [
       "  name  weight  per_one_portion\n",
       "0  mel       2         0.333333"
      ]
     },
     "execution_count": 8,
     "metadata": {},
     "output_type": "execute_result"
    }
   ],
   "source": [
    "per_one_portion = data.weight / original_data \n",
    "per_one_portion = pd.DataFrame(per_one_portion)\n",
    "data['per_one_portion'] = per_one_portion\n",
    "data"
   ]
  },
  {
   "cell_type": "code",
   "execution_count": null,
   "metadata": {},
   "outputs": [
    {
     "data": {
      "text/html": [
       "<div>\n",
       "<style scoped>\n",
       "    .dataframe tbody tr th:only-of-type {\n",
       "        vertical-align: middle;\n",
       "    }\n",
       "\n",
       "    .dataframe tbody tr th {\n",
       "        vertical-align: top;\n",
       "    }\n",
       "\n",
       "    .dataframe thead th {\n",
       "        text-align: right;\n",
       "    }\n",
       "</style>\n",
       "<table border=\"1\" class=\"dataframe\">\n",
       "  <thead>\n",
       "    <tr style=\"text-align: right;\">\n",
       "      <th></th>\n",
       "      <th>name</th>\n",
       "      <th>weight</th>\n",
       "      <th>per_one_portion</th>\n",
       "      <th>final_proportions</th>\n",
       "    </tr>\n",
       "  </thead>\n",
       "  <tbody>\n",
       "    <tr>\n",
       "      <th>0</th>\n",
       "      <td>mel</td>\n",
       "      <td>2</td>\n",
       "      <td>0.333333</td>\n",
       "      <td>1.333333</td>\n",
       "    </tr>\n",
       "  </tbody>\n",
       "</table>\n",
       "</div>"
      ],
      "text/plain": [
       "  name  weight  per_one_portion  final_proportions\n",
       "0  mel       2         0.333333           1.333333"
      ]
     },
     "execution_count": 9,
     "metadata": {},
     "output_type": "execute_result"
    }
   ],
   "source": [
    "per_one_portion = data.weight / original_data \n",
    "per_one_portion = pd.DataFrame(per_one_portion)\n",
    "data['per_one_portion'] = per_one_portion\n",
    "final_proportions = data.per_one_portion * data_for_proportion\n",
    "final_proportions = pd.DataFrame(final_proportions)\n",
    "data['final_proportions'] = final_proportions\n",
    "data"
   ]
  },
  {
   "cell_type": "code",
   "execution_count": null,
   "metadata": {},
   "outputs": [
    {
     "name": "stdout",
     "output_type": "stream",
     "text": [
      "You need 1.3333333333333333 of mel\n"
     ]
    }
   ],
   "source": [
    "#Final calculations\n",
    "final_proportions = data.per_one_portion * data_for_proportion\n",
    "final_proportions = pd.DataFrame(final_proportions)\n",
    "data['final_proportions'] = final_proportions\n",
    "for index, row in data.iterrows():\n",
    "    print(f\"You need {row['final_proportions']} of {row['name'].lower()}\")"
   ]
  },
  {
   "cell_type": "code",
   "execution_count": null,
   "metadata": {},
   "outputs": [
    {
     "name": "stdout",
     "output_type": "stream",
     "text": [
      "You need 1.3333333333333333 of mel\n"
     ]
    }
   ],
   "source": [
    "for index, row in data.iterrows():\n",
    "    print(f\"You need {row['final_proportions']} of {row['name'].lower()}\")"
   ]
  },
  {
   "cell_type": "code",
   "execution_count": null,
   "metadata": {},
   "outputs": [],
   "source": []
  }
 ],
 "metadata": {
  "kernelspec": {
   "display_name": "DataScience",
   "language": "python",
   "name": "python3"
  },
  "language_info": {
   "codemirror_mode": {
    "name": "ipython",
    "version": 3
   },
   "file_extension": ".py",
   "mimetype": "text/x-python",
   "name": "python",
   "nbconvert_exporter": "python",
   "pygments_lexer": "ipython3",
   "version": "3.11.9"
  }
 },
 "nbformat": 4,
 "nbformat_minor": 2
}
