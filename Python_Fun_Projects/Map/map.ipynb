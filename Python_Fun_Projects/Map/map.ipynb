{
 "cells": [
  {
   "cell_type": "code",
   "execution_count": 91,
   "metadata": {},
   "outputs": [],
   "source": [
    "import pandas as pd \n",
    "import numpy as np\n",
    "import plotly.graph_objects as go\n",
    "\n"
   ]
  },
  {
   "cell_type": "code",
   "execution_count": 92,
   "metadata": {},
   "outputs": [
    {
     "data": {
      "text/html": [
       "<div>\n",
       "<style scoped>\n",
       "    .dataframe tbody tr th:only-of-type {\n",
       "        vertical-align: middle;\n",
       "    }\n",
       "\n",
       "    .dataframe tbody tr th {\n",
       "        vertical-align: top;\n",
       "    }\n",
       "\n",
       "    .dataframe thead th {\n",
       "        text-align: right;\n",
       "    }\n",
       "</style>\n",
       "<table border=\"1\" class=\"dataframe\">\n",
       "  <thead>\n",
       "    <tr style=\"text-align: right;\">\n",
       "      <th></th>\n",
       "      <th>companies</th>\n",
       "    </tr>\n",
       "  </thead>\n",
       "  <tbody>\n",
       "    <tr>\n",
       "      <th>0</th>\n",
       "      <td>{'name': 'Maersk', 'email': 'contact@maersk.co...</td>\n",
       "    </tr>\n",
       "    <tr>\n",
       "      <th>1</th>\n",
       "      <td>{'name': 'Novo Nordisk', 'email': 'info@novono...</td>\n",
       "    </tr>\n",
       "    <tr>\n",
       "      <th>2</th>\n",
       "      <td>{'name': 'Vestas', 'email': 'info@vestas.com',...</td>\n",
       "    </tr>\n",
       "    <tr>\n",
       "      <th>3</th>\n",
       "      <td>{'name': 'Carlsberg', 'email': 'contact@carlsb...</td>\n",
       "    </tr>\n",
       "    <tr>\n",
       "      <th>4</th>\n",
       "      <td>{'name': 'Danske Bank', 'email': 'info@danskeb...</td>\n",
       "    </tr>\n",
       "  </tbody>\n",
       "</table>\n",
       "</div>"
      ],
      "text/plain": [
       "                                           companies\n",
       "0  {'name': 'Maersk', 'email': 'contact@maersk.co...\n",
       "1  {'name': 'Novo Nordisk', 'email': 'info@novono...\n",
       "2  {'name': 'Vestas', 'email': 'info@vestas.com',...\n",
       "3  {'name': 'Carlsberg', 'email': 'contact@carlsb...\n",
       "4  {'name': 'Danske Bank', 'email': 'info@danskeb..."
      ]
     },
     "execution_count": 92,
     "metadata": {},
     "output_type": "execute_result"
    }
   ],
   "source": [
    "company = pd.read_json('./companies.json')\n",
    "company.head()"
   ]
  },
  {
   "cell_type": "code",
   "execution_count": 94,
   "metadata": {},
   "outputs": [
    {
     "data": {
      "application/vnd.plotly.v1+json": {
       "config": {
        "plotlyServerURL": "https://plot.ly"
       },
       "data": [
        {
         "lat": [
          55.6761,
          55.7372,
          56.5622,
          55.6759,
          55.6759,
          55.9732,
          55.4685,
          55.7524,
          55.6804,
          55.6774,
          55.6857,
          55.6763,
          56.05,
          55.6759,
          55.676,
          55.675,
          55.6762,
          55.6764,
          55.574,
          56.1592,
          55.394,
          55.402,
          55.6761,
          55.6741,
          56.1629,
          55.68,
          55.6712,
          55.6755,
          55.6761,
          55.6812,
          55.6768,
          55.67,
          55.6346,
          55.6761,
          55.6761,
          56.1623,
          55.4857,
          55.6869,
          56.1629,
          56.1887,
          55.6725,
          55.6755,
          55.6614,
          55.64,
          55.6763,
          55.6936,
          55.6803,
          55.6761,
          55.6863,
          56.1623,
          55.6759,
          55.6795,
          56.16,
          57.025,
          55.6181,
          55.6761,
          55.6376,
          55.6761,
          55.6759,
          55.6862,
          55.6761,
          55.6763,
          55.6755,
          55.6786,
          55.6769,
          55.6744,
          55.628,
          55.6842,
          55.682,
          55.5805,
          55.6834,
          55.352,
          55.68,
          55.7925,
          55.6758,
          55.6783,
          57.0234,
          55.4696,
          55.6759,
          55.6761,
          55.6772,
          55.6851,
          55.5541,
          55.6873,
          55.676,
          55.6759,
          55.6771,
          56.1629,
          55.6753,
          55.6862,
          55.7677,
          56.0174,
          55.6852,
          55.6915,
          56.4463,
          55.676,
          55.6769,
          57.0458,
          57.0746,
          57.0485,
          57.0627,
          57.0125,
          57.0428,
          57.0359,
          57.0431,
          57.0345,
          57.0457,
          57.0456,
          57.0606,
          57.0151,
          57.0086,
          57.0473,
          57.0118,
          57.0348,
          57.0391,
          57.0425,
          57.0613,
          57.0376,
          57.0308,
          57.0478,
          57.0368,
          57.0453,
          57.0588,
          57.0732,
          57.0361,
          57.0334,
          57.0379,
          57.0355,
          57.0367,
          57.0352,
          57.0439,
          57.0304,
          57.0082,
          57.0899,
          57.0393,
          57.0297,
          57.0614,
          57.0294,
          57.0481,
          57.0513,
          57.0471,
          57.0516,
          57.0352,
          57.0615,
          57.0621,
          57.0321,
          57.0469,
          57.0426,
          57.0474,
          57.0203,
          57.0477,
          57.0364,
          57.0325,
          57.0546,
          57.0484,
          57.0458,
          57.0665,
          57.0383,
          57.0481,
          57.0339,
          57.0472,
          57.4407,
          57.048,
          57.0641,
          57.0666,
          57.0534,
          57.0222,
          57.0382,
          57.0645,
          57.0361,
          57.0373,
          57.0648,
          57.0902,
          57.0234,
          57.0392,
          57.0478,
          57.0503,
          56.1496,
          56.1662,
          56.1547,
          56.152,
          56.1564,
          56.171,
          56.1629,
          56.1569,
          56.1551,
          56.172,
          56.1592,
          56.1607,
          56.158,
          56.1554,
          56.1637,
          56.1742,
          56.1582,
          56.1572,
          56.1548,
          56.1633,
          56.1612,
          56.1634,
          56.1549,
          56.1593,
          56.16,
          56.1522,
          56.1639,
          56.1564,
          56.17,
          56.1647,
          56.155,
          56.1675,
          56.1577,
          56.1656,
          56.1687,
          56.1561,
          56.1598,
          56.1586,
          56.1645,
          56.161,
          56.1663,
          56.1649,
          56.1563,
          56.1556,
          56.1589,
          56.1653,
          56.15,
          56.142,
          56.1521,
          56.1639,
          56.1601,
          56.1584,
          56.1569,
          56.1728,
          56.155,
          56.1435,
          56.1635,
          56.171,
          56.1505,
          56.1581,
          56.1654,
          56.1714,
          56.1452,
          56.162,
          56.1538,
          56.1555,
          56.166,
          56.1422,
          56.1628,
          56.1585,
          56.1671,
          56.1704,
          56.1529,
          56.1604,
          56.163,
          56.1613,
          56.148,
          56.1496,
          56.1571,
          56.1548,
          56.1683,
          56.1514
         ],
         "lon": [
          12.5683,
          12.571,
          9.0245,
          12.5645,
          12.5655,
          9.4927,
          9.434,
          12.5295,
          12.5885,
          12.5655,
          12.5644,
          12.5681,
          9.4695,
          12.5655,
          12.569,
          12.57,
          12.5658,
          12.564,
          12.4931,
          10.2037,
          10.2771,
          12.5563,
          12.5683,
          12.5864,
          10.2039,
          12.5696,
          12.5684,
          12.5714,
          12.5683,
          12.5565,
          12.573,
          12.58,
          12.6465,
          12.5683,
          12.5683,
          10.2039,
          9.4422,
          12.56,
          10.2039,
          10.5761,
          12.5853,
          12.5712,
          12.5608,
          12.5918,
          12.5701,
          12.5293,
          12.5659,
          12.5683,
          12.5774,
          10.2039,
          12.5629,
          12.5826,
          10.2037,
          9.901299999999999,
          12.656,
          12.5683,
          12.627,
          12.5683,
          12.5655,
          12.5797,
          12.5683,
          12.571,
          12.5712,
          12.57,
          12.568,
          12.5691,
          12.562,
          12.5758,
          12.571,
          12.572,
          12.5645,
          10.1573,
          12.6094,
          9.0712,
          12.5304,
          12.5687,
          9.9167,
          10.4205,
          12.5655,
          12.5683,
          12.5756,
          12.558,
          9.9527,
          12.5857,
          12.5681,
          12.5655,
          12.569,
          10.2039,
          12.5858,
          12.5891,
          9.7288,
          9.6958,
          12.5821,
          12.5712,
          10.0057,
          12.5695,
          12.5683,
          9.9321,
          9.9222,
          9.918800000000001,
          9.8633,
          9.9918,
          9.9351,
          9.9221,
          9.9186,
          9.9325,
          9.9316,
          9.9344,
          9.9223,
          9.8728,
          9.9262,
          9.9246,
          9.9985,
          9.9121,
          9.9268,
          9.9278,
          9.9304,
          9.9089,
          9.9443,
          9.9239,
          9.9132,
          9.9307,
          9.9143,
          9.9314,
          9.9335,
          9.9101,
          9.9276,
          9.9035,
          9.9279,
          9.9193,
          9.9322,
          9.9088,
          9.9191,
          9.7764,
          9.9283,
          9.9314,
          9.9183,
          9.9364,
          9.9286,
          9.9285,
          9.9171,
          9.9383,
          9.9201,
          9.9303,
          9.9441,
          9.9021,
          9.9256,
          9.9237,
          9.9319,
          9.894400000000001,
          9.9316,
          9.9167,
          9.9236,
          9.9321,
          9.9221,
          9.9342,
          9.9245,
          9.9201,
          9.9353,
          9.9264,
          9.9172,
          10.5449,
          9.917,
          9.9074,
          9.9468,
          9.9317,
          9.8978,
          9.9063,
          9.9484,
          9.9216,
          9.9106,
          9.9412,
          9.9736,
          9.8999,
          9.9294,
          9.9175,
          9.9326,
          10.2069,
          10.2017,
          10.2135,
          10.2112,
          10.21,
          10.1803,
          10.1915,
          10.197,
          10.192,
          10.184,
          10.2002,
          10.1928,
          10.1972,
          10.2098,
          10.1982,
          10.1941,
          10.2105,
          10.2111,
          10.211,
          10.2101,
          10.2013,
          10.1909,
          10.2035,
          10.1901,
          10.2122,
          10.2104,
          10.1955,
          10.1996,
          10.213,
          10.2021,
          10.2112,
          10.2,
          10.209,
          10.2079,
          10.1988,
          10.2049,
          10.1957,
          10.2074,
          10.2097,
          10.1978,
          10.2009,
          10.1932,
          10.202,
          10.2081,
          10.195,
          10.1938,
          10.203,
          10.1975,
          10.2089,
          10.211500000000001,
          10.1879,
          10.2102,
          10.2043,
          10.2202,
          10.2046,
          10.204,
          10.2136,
          10.2101,
          10.2061,
          10.2032,
          10.2119,
          10.1986,
          10.2023,
          10.2031,
          10.1918,
          10.187,
          10.2147,
          10.21,
          10.2018,
          10.1949,
          10.2006,
          10.2113,
          10.2095,
          10.1905,
          10.1981,
          10.2091,
          10.1994,
          10.2105,
          10.2057,
          10.1974,
          10.2027,
          10.2137
         ],
         "marker": {
          "color": "royalblue",
          "line": {
           "color": "darkblue",
           "width": 2
          },
          "size": 9,
          "symbol": "circle"
         },
         "mode": "markers",
         "text": [
          "<b>Maersk</b><br>Email: contact@maersk.com",
          "<b>Novo Nordisk</b><br>Email: info@novonordisk.com",
          "<b>Vestas</b><br>Email: info@vestas.com",
          "<b>Carlsberg</b><br>Email: contact@carlsberg.com",
          "<b>Danske Bank</b><br>Email: info@danskebank.com",
          "<b>LEGO Group</b><br>Email: info@lego.com",
          "<b>Danfoss</b><br>Email: info@danfoss.com",
          "<b>Coloplast</b><br>Email: info@coloplast.com",
          "<b>Bavarian Nordic</b><br>Email: contact@bavarian-nordic.com",
          "<b>PANDORA</b><br>Email: contact@pandora.net",
          "<b>FLSmidth</b><br>Email: info@flsmidth.com",
          "<b>TDC Group</b><br>Email: info@tdc.dk",
          "<b>Jysk</b><br>Email: info@jysk.com",
          "<b>Siteimprove</b><br>Email: info@siteimprove.com",
          "<b>KMD</b><br>Email: info@kmd.dk",
          "<b>Netcompany</b><br>Email: info@netcompany.com",
          "<b>NNIT</b><br>Email: info@nnit.com",
          "<b>Bamboo</b><br>Email: contact@bamboo.com",
          "<b>Haldor Topsøe</b><br>Email: info@topsoe.com",
          "<b>Ceres Media</b><br>Email: info@ceresmedia.dk",
          "<b>Tornbjerg Gymnasium</b><br>Email: info@tornbjerg.dk",
          "<b>Bakkerud</b><br>Email: info@bakkerud.dk",
          "<b>Zyro</b><br>Email: contact@zyro.com",
          "<b>EasyTranslate</b><br>Email: info@easytranslate.com",
          "<b>Aarhus Universitet</b><br>Email: info@au.dk",
          "<b>Københavns Universitet</b><br>Email: info@ku.dk",
          "<b>PensionDanmark</b><br>Email: info@pension.dk",
          "<b>Nykredit</b><br>Email: info@nykredit.com",
          "<b>Ramboll</b><br>Email: info@ramboll.com",
          "<b>Hempel</b><br>Email: info@hempel.com",
          "<b>Valtech</b><br>Email: info@valtech.com",
          "<b>Agile Partner</b><br>Email: info@agilepartner.com",
          "<b>Satair</b><br>Email: info@satair.com",
          "<b>Danmark</b><br>Email: info@danmark.dk",
          "<b>Bureau Veritas</b><br>Email: info@bureauveritas.com",
          "<b>VIA University College</b><br>Email: info@via.dk",
          "<b>Danish Crown</b><br>Email: info@danishcrown.com",
          "<b>KMD A/S</b><br>Email: contact@kmd.dk",
          "<b>Aarhus Universitet</b><br>Email: info@au.dk",
          "<b>MHI Vestas Offshore Wind</b><br>Email: info@mhi-vestas.com",
          "<b>BLOXHUB</b><br>Email: info@bloxhub.org",
          "<b>Tradeshift</b><br>Email: info@tradeshift.com",
          "<b>Falck</b><br>Email: info@falck.com",
          "<b>DHL</b><br>Email: info@dhl.dk",
          "<b>Folketinget</b><br>Email: info@folketinget.dk",
          "<b>Lundbeck</b><br>Email: info@lundbeck.com",
          "<b>J. Lauritzen</b><br>Email: info@lauritzen.com",
          "<b>Danish Energy Agency</b><br>Email: contact@ens.dk",
          "<b>NCC Danmark</b><br>Email: info@ncc.dk",
          "<b>VIA University College</b><br>Email: info@via.dk",
          "<b>Danmarks Nationalbank</b><br>Email: info@nationalbanken.dk",
          "<b>Danish Red Cross</b><br>Email: info@rodekors.dk",
          "<b>Systematic</b><br>Email: info@systematic.com",
          "<b>Aalborg Portland</b><br>Email: info@aalborgportland.com",
          "<b>Københavns Lufthavn</b><br>Email: info@cph.dk",
          "<b>Børsen</b><br>Email: info@borsen.dk",
          "<b>SAS</b><br>Email: info@sas.dk",
          "<b>Bambora</b><br>Email: info@bambora.com",
          "<b>Københavns Kommune</b><br>Email: info@kk.dk",
          "<b>Danmarks Radio</b><br>Email: info@dr.dk",
          "<b>Netcompany</b><br>Email: info@netcompany.com",
          "<b>Trafikstyrelsen</b><br>Email: info@trafikstyrelsen.dk",
          "<b>ISS A/S</b><br>Email: info@dk.issworld.com",
          "<b>Danish Design Center</b><br>Email: info@ddc.dk",
          "<b>Simcorp</b><br>Email: info@simcorp.com",
          "<b>Columbia Sportswear</b><br>Email: info@columbiasportswear.dk",
          "<b>Inwido</b><br>Email: info@inwido.com",
          "<b>Kirkbi A/S</b><br>Email: info@kirkbi.com",
          "<b>Gemini Energy</b><br>Email: info@gemini.dk",
          "<b>Energinet</b><br>Email: info@energinet.dk",
          "<b>Niels Bohr Institute</b><br>Email: info@nbi.ku.dk",
          "<b>Ecco</b><br>Email: info@ecco.com",
          "<b>Viking Life-Saving Equipment</b><br>Email: info@viking-life.com",
          "<b>Færch Plast</b><br>Email: info@faerchplast.dk",
          "<b>Bavarian Nordic</b><br>Email: info@bavarian-nordic.com",
          "<b>Sundahl & Co</b><br>Email: info@sundahl.dk",
          "<b>Aalborg University</b><br>Email: info@aau.dk",
          "<b>Unibrew</b><br>Email: info@unibrew.dk",
          "<b>Ramboll Group</b><br>Email: info@ramboll.com",
          "<b>Københavns Kommune</b><br>Email: info@kk.dk",
          "<b>Danish Food Federation</b><br>Email: info@food.danishindustry.dk",
          "<b>Hempel A/S</b><br>Email: info@hempel.com",
          "<b>Sydbank</b><br>Email: info@sydbank.dk",
          "<b>Jyllands-Posten</b><br>Email: info@jp.dk",
          "<b>Tøjeksperten</b><br>Email: info@toejeksperten.dk",
          "<b>Cavotec</b><br>Email: info@cavotec.com",
          "<b>PFA Pension</b><br>Email: info@pfa.dk",
          "<b>Aarhus Kommune</b><br>Email: info@aarhus.dk",
          "<b>Det Kongelige Bibliotek</b><br>Email: info@kb.dk",
          "<b>Maersk Drilling</b><br>Email: info@maerskdrilling.com",
          "<b>Munkholm</b><br>Email: info@munkholm.dk",
          "<b>Skamol</b><br>Email: info@skamol.com",
          "<b>Oda</b><br>Email: info@oda.com",
          "<b>TDC Net</b><br>Email: info@tdc.dk",
          "<b>Bestseller</b><br>Email: info@bestseller.com",
          "<b>Copenhagen Business School</b><br>Email: info@cbs.dk",
          "<b>Tullow Oil</b><br>Email: info@tullowoil.com",
          "<b>Aalborg Portland A/S</b><br>Email: info@aalborgportland.com",
          "<b>Bladt Industries A/S</b><br>Email: info@bladt.dk",
          "<b>Spar Nord Bank A/S</b><br>Email: info@sparnord.dk",
          "<b>Lindholm Maskiner A/S</b><br>Email: info@lindholmmaskiner.dk",
          "<b>Aalborg University</b><br>Email: info@aau.dk",
          "<b>Kjargaard Consulting</b><br>Email: contact@kjargaard.com",
          "<b>Desmi A/S</b><br>Email: info@desmi.com",
          "<b>Aalborg Energie Technik A/S</b><br>Email: info@aet-biomass.com",
          "<b>Aalborg CSP A/S</b><br>Email: info@aalborgcsp.com",
          "<b>Logimatic A/S</b><br>Email: info@logimatic.dk",
          "<b>ABB A/S</b><br>Email: info@dk.abb.com",
          "<b>Aalborg Havn</b><br>Email: info@aalborghavn.dk",
          "<b>Hydrema A/S</b><br>Email: info@hydrema.com",
          "<b>Scandi Byg A/S</b><br>Email: info@scandibyg.dk",
          "<b>Aalborg Kongres & Kultur Center</b><br>Email: info@akkc.dk",
          "<b>AAU Innovation</b><br>Email: info@aauinnovation.dk",
          "<b>Robotool A/S</b><br>Email: info@robotool.dk",
          "<b>Eurowind Energy A/S</b><br>Email: info@eurowindenergy.dk",
          "<b>NORDJYSKE Medier</b><br>Email: kontakt@nordjyske.dk",
          "<b>Aalborg Akvavit</b><br>Email: info@aalborgakvavit.com",
          "<b>Vipindi</b><br>Email: info@vipindi.com",
          "<b>Create It Real</b><br>Email: info@createitreal.com",
          "<b>AKKC - Aalborg Conference Center</b><br>Email: info@akkc.dk",
          "<b>NOV Flexibles</b><br>Email: info@nov.com",
          "<b>Danish Crown - Aalborg</b><br>Email: info@danishcrown.dk",
          "<b>Siemens Gamesa Renewable Energy</b><br>Email: info@siemensgamesa.com",
          "<b>Fibertex Personal Care</b><br>Email: info@fibertexpersonalcare.com",
          "<b>Techcollege Aalborg</b><br>Email: info@techcollege.dk",
          "<b>Netic A/S</b><br>Email: info@netic.dk",
          "<b>NTI A/S</b><br>Email: info@nti.dk",
          "<b>Aalborg Zoo</b><br>Email: info@aalborgzoo.dk",
          "<b>GateHouse Logistics</b><br>Email: info@gatehouse.dk",
          "<b>KMD Aalborg</b><br>Email: info@kmd.dk",
          "<b>Stofa</b><br>Email: info@stofa.dk",
          "<b>Lindab A/S</b><br>Email: info@lindab.dk",
          "<b>Daka Denmark A/S</b><br>Email: info@daka.dk",
          "<b>Farstrup Furniture A/S</b><br>Email: info@farstrup.dk",
          "<b>Aalborg Handelsskole</b><br>Email: info@ah.dk",
          "<b>Aalborg Forsyning</b><br>Email: info@aalborgforsyning.dk",
          "<b>Würth Danmark A/S</b><br>Email: info@wuerth.dk",
          "<b>InOutsource IT</b><br>Email: info@inoutsource.dk",
          "<b>HP Byg A/S</b><br>Email: info@hpbyg.dk",
          "<b>Aalborg Maskinfabrik A/S</b><br>Email: info@aalborgmaskinfabrik.dk",
          "<b>Jyske Bank Aalborg</b><br>Email: info@jyskebank.dk",
          "<b>Mekoprint A/S</b><br>Email: info@mekoprint.dk",
          "<b>Sanistål A/S</b><br>Email: info@sanistaal.dk",
          "<b>NORDEN A/S</b><br>Email: info@norden.com",
          "<b>SerEnergy A/S</b><br>Email: info@serenergy.com",
          "<b>Danpo A/S</b><br>Email: info@danpo.dk",
          "<b>Aalborg Chokoladen A/S</b><br>Email: info@aalborgchokoladen.dk",
          "<b>Infomedia A/S</b><br>Email: info@infomedia.dk",
          "<b>Blue Water Shipping Aalborg</b><br>Email: aalborg@bws.dk",
          "<b>Kamstrup A/S</b><br>Email: info@kamstrup.com",
          "<b>Danish Technological Institute Aalborg</b><br>Email: info@dti.dk",
          "<b>Asetek A/S</b><br>Email: info@asetek.com",
          "<b>DGI Nordjylland</b><br>Email: info@dgi.dk",
          "<b>Coolshop A/S</b><br>Email: info@coolshop.dk",
          "<b>NETS Denmark A/S</b><br>Email: info@nets.eu",
          "<b>Scan Global Logistics Aalborg</b><br>Email: aalborg@scangl.com",
          "<b>Fibertex Nonwovens A/S</b><br>Email: info@fibertex.com",
          "<b>EG A/S</b><br>Email: info@eg.dk",
          "<b>Kuben Management</b><br>Email: info@kubenman.dk",
          "<b>Skovsager Group</b><br>Email: info@skovsagergroup.dk",
          "<b>Deutz Fahr Denmark</b><br>Email: info@deutz-fahr.dk",
          "<b>Frederikshavn Havn A/S</b><br>Email: info@frederikshavnhavn.dk",
          "<b>Pandora Aalborg</b><br>Email: info@pandoragroup.com",
          "<b>Advansor A/S</b><br>Email: info@advansor.dk",
          "<b>ScanTech Marine A/S</b><br>Email: info@scantechmarine.com",
          "<b>Dansk IngeniørService A/S</b><br>Email: info@dis.dk",
          "<b>Tresu Group A/S</b><br>Email: info@tresu.com",
          "<b>Alfa Laval Aalborg A/S</b><br>Email: info.aalborg@alfalaval.com",
          "<b>Kimbrer Computer ApS</b><br>Email: info@kimbrer.dk",
          "<b>Jutlander Bank A/S</b><br>Email: info@jutlander.dk",
          "<b>Inwido Denmark A/S</b><br>Email: info@inwido.dk",
          "<b>Orskov Yard A/S</b><br>Email: info@orskov.dk",
          "<b>Vraa Dampvaskeri A/S</b><br>Email: info@vraa.dk",
          "<b>Welltec A/S</b><br>Email: info@welltec.com",
          "<b>Stena Recycling Aalborg</b><br>Email: info@stenarecycling.dk",
          "<b>HjulmandKaptain</b><br>Email: info@hjulmandkaptain.dk",
          "<b>Aircontact Group Denmark</b><br>Email: info@aircontactgroup.dk",
          "<b>Aarhus Vand A/S</b><br>Email: info@aarhusvand.dk",
          "<b>Aarhus University Hospital</b><br>Email: info@auh.dk",
          "<b>Hedeselskabet</b><br>Email: info@hedeselskabet.dk",
          "<b>Beumer Group A/S</b><br>Email: info@beumergroup.dk",
          "<b>Aarhus Letbane</b><br>Email: info@letbanen.dk",
          "<b>Lindberg A/S</b><br>Email: info@lindberg.com",
          "<b>Jyske Bank</b><br>Email: info@jyskebank.dk",
          "<b>Arla Foods</b><br>Email: info@arlafoods.com",
          "<b>MT Højgaard A/S</b><br>Email: info@mth.dk",
          "<b>VOLA A/S</b><br>Email: info@vola.dk",
          "<b>Danske Bank Aarhus</b><br>Email: info@danskebank.dk",
          "<b>KMD Aarhus</b><br>Email: info@kmd.dk",
          "<b>Salling Group</b><br>Email: info@sallinggroup.com",
          "<b>Syddjurs Forsyning A/S</b><br>Email: info@syddjursforsyning.dk",
          "<b>Viking Denmark A/S</b><br>Email: info@vikingdenmark.com",
          "<b>Confac A/S</b><br>Email: info@confac.dk",
          "<b>Aarhus Festuge</b><br>Email: info@aarhusfestuge.dk",
          "<b>Aarhus Teater</b><br>Email: info@aarhusteater.dk",
          "<b>Aarhus Tech</b><br>Email: info@aarhustech.dk",
          "<b>SPX Flow Technology A/S</b><br>Email: info@spxflow.com",
          "<b>Schneider Electric Aarhus</b><br>Email: info@se.com",
          "<b>Tryg Aarhus</b><br>Email: info@tryg.dk",
          "<b>Topdanmark Forsikring A/S</b><br>Email: info@topdanmark.dk",
          "<b>EG A/S</b><br>Email: info@eg.dk",
          "<b>Aarhus Maskinmesterskole</b><br>Email: info@ams.dk",
          "<b>Ramboll Aarhus</b><br>Email: info@ramboll.dk",
          "<b>Royal Unibrew Aarhus</b><br>Email: info@royalunibrew.dk",
          "<b>Hjem-IS Aarhus</b><br>Email: info@hjemis.dk",
          "<b>Per Aarsleff A/S</b><br>Email: info@aarsleff.dk",
          "<b>Troldtekt A/S</b><br>Email: info@troldtekt.dk",
          "<b>AVK International A/S</b><br>Email: info@avk.dk",
          "<b>AarhusKarlshamn Denmark A/S</b><br>Email: info@aak.com",
          "<b>Niras A/S Aarhus</b><br>Email: info@niras.dk",
          "<b>Viden Djurs</b><br>Email: info@videndjurs.dk",
          "<b>Skejby Forsyningsanlæg</b><br>Email: info@skejbyforsyning.dk",
          "<b>Salling Aarhus</b><br>Email: info@salling.dk",
          "<b>Jyllands-Posten</b><br>Email: info@jp.dk",
          "<b>Inventure Nordic A/S</b><br>Email: info@inventurenordic.dk",
          "<b>IT Minds Aarhus</b><br>Email: info@itminds.dk",
          "<b>ÅF Pöyry Denmark A/S</b><br>Email: info@afconsult.com",
          "<b>Orbicon A/S</b><br>Email: info@orbicon.dk",
          "<b>HydraSpecma A/S</b><br>Email: info@hydraspecma.com",
          "<b>Norlys Aarhus</b><br>Email: info@norlys.dk",
          "<b>Marel Aarhus</b><br>Email: info@marel.com",
          "<b>Korn Ferry Aarhus</b><br>Email: info@kornferry.com",
          "<b>Chr. Hansen Holding A/S</b><br>Email: info@chr-hansen.com",
          "<b>IC Group</b><br>Email: info@icgroup.net",
          "<b>Aarhus Havn</b><br>Email: info@aarhushavn.dk",
          "<b>Danfoss</b><br>Email: info@danfoss.com",
          "<b>Leroy Seafood Group</b><br>Email: info@leroy.se",
          "<b>Kirk Kapital</b><br>Email: info@kirk.dk",
          "<b>Aarhus Katedralskole</b><br>Email: info@aak.dk",
          "<b>MHI Vestas Offshore Wind</b><br>Email: info@mhi-vestas.com",
          "<b>Novo Nordisk</b><br>Email: info@novonordisk.com",
          "<b>TDC Group</b><br>Email: info@tdc.dk",
          "<b>Danish Crown</b><br>Email: info@danishcrown.dk",
          "<b>COWI</b><br>Email: info@cowi.com",
          "<b>E.ON</b><br>Email: info@eon.dk",
          "<b>NNE Pharmaplan</b><br>Email: info@nne.com",
          "<b>Aarhus Business College</b><br>Email: info@aabc.dk",
          "<b>Ramboll</b><br>Email: info@ramboll.dk",
          "<b>SAS Institute</b><br>Email: info@sas.com",
          "<b>Haldor Topsøe</b><br>Email: info@topsoe.com",
          "<b>Aarhus Kommune</b><br>Email: info@aarhus.dk",
          "<b>Møller & Partners</b><br>Email: info@moeller.dk",
          "<b>Danmarks Radio</b><br>Email: info@dr.dk",
          "<b>Scan Global Logistics</b><br>Email: info@scangl.com",
          "<b>Københavns Møbelsnedkeri</b><br>Email: info@km.dk",
          "<b>Energistyrelsen</b><br>Email: info@ens.dk",
          "<b>VIA University College</b><br>Email: info@via.dk",
          "<b>Aarhus Energi</b><br>Email: info@aarhusenergi.dk",
          "<b>Grontmij</b><br>Email: info@grontmij.dk",
          "<b>Danfoss Power Solutions</b><br>Email: info@danfoss.com",
          "<b>Vestergaard Company</b><br>Email: info@vestergaard.com",
          "<b>Agro Business Park</b><br>Email: info@agropark.dk",
          "<b>EnergiMidt</b><br>Email: info@energimidt.dk",
          "<b>Varde Kommune</b><br>Email: info@varde.dk",
          "<b>Wienerberger</b><br>Email: info@wienerberger.dk",
          "<b>NCC Denmark</b><br>Email: info@ncc.dk",
          "<b>Aarhus Kommune Havn</b><br>Email: info@aarhus.dk",
          "<b>København Nordvest</b><br>Email: info@kbh.dk",
          "<b>Axpo Nordic</b><br>Email: info@axpo.com"
         ],
         "type": "scattergeo"
        }
       ],
       "layout": {
        "geo": {
         "coastlinecolor": "darkblue",
         "countrycolor": "black",
         "landcolor": "lightgrey",
         "oceancolor": "lightblue",
         "scope": "europe",
         "showcoastlines": true,
         "showcountries": true,
         "showland": true,
         "showocean": true
        },
        "height": 800,
        "paper_bgcolor": "white",
        "plot_bgcolor": "white",
        "template": {
         "data": {
          "bar": [
           {
            "error_x": {
             "color": "#2a3f5f"
            },
            "error_y": {
             "color": "#2a3f5f"
            },
            "marker": {
             "line": {
              "color": "#E5ECF6",
              "width": 0.5
             },
             "pattern": {
              "fillmode": "overlay",
              "size": 10,
              "solidity": 0.2
             }
            },
            "type": "bar"
           }
          ],
          "barpolar": [
           {
            "marker": {
             "line": {
              "color": "#E5ECF6",
              "width": 0.5
             },
             "pattern": {
              "fillmode": "overlay",
              "size": 10,
              "solidity": 0.2
             }
            },
            "type": "barpolar"
           }
          ],
          "carpet": [
           {
            "aaxis": {
             "endlinecolor": "#2a3f5f",
             "gridcolor": "white",
             "linecolor": "white",
             "minorgridcolor": "white",
             "startlinecolor": "#2a3f5f"
            },
            "baxis": {
             "endlinecolor": "#2a3f5f",
             "gridcolor": "white",
             "linecolor": "white",
             "minorgridcolor": "white",
             "startlinecolor": "#2a3f5f"
            },
            "type": "carpet"
           }
          ],
          "choropleth": [
           {
            "colorbar": {
             "outlinewidth": 0,
             "ticks": ""
            },
            "type": "choropleth"
           }
          ],
          "contour": [
           {
            "colorbar": {
             "outlinewidth": 0,
             "ticks": ""
            },
            "colorscale": [
             [
              0,
              "#0d0887"
             ],
             [
              0.1111111111111111,
              "#46039f"
             ],
             [
              0.2222222222222222,
              "#7201a8"
             ],
             [
              0.3333333333333333,
              "#9c179e"
             ],
             [
              0.4444444444444444,
              "#bd3786"
             ],
             [
              0.5555555555555556,
              "#d8576b"
             ],
             [
              0.6666666666666666,
              "#ed7953"
             ],
             [
              0.7777777777777778,
              "#fb9f3a"
             ],
             [
              0.8888888888888888,
              "#fdca26"
             ],
             [
              1,
              "#f0f921"
             ]
            ],
            "type": "contour"
           }
          ],
          "contourcarpet": [
           {
            "colorbar": {
             "outlinewidth": 0,
             "ticks": ""
            },
            "type": "contourcarpet"
           }
          ],
          "heatmap": [
           {
            "colorbar": {
             "outlinewidth": 0,
             "ticks": ""
            },
            "colorscale": [
             [
              0,
              "#0d0887"
             ],
             [
              0.1111111111111111,
              "#46039f"
             ],
             [
              0.2222222222222222,
              "#7201a8"
             ],
             [
              0.3333333333333333,
              "#9c179e"
             ],
             [
              0.4444444444444444,
              "#bd3786"
             ],
             [
              0.5555555555555556,
              "#d8576b"
             ],
             [
              0.6666666666666666,
              "#ed7953"
             ],
             [
              0.7777777777777778,
              "#fb9f3a"
             ],
             [
              0.8888888888888888,
              "#fdca26"
             ],
             [
              1,
              "#f0f921"
             ]
            ],
            "type": "heatmap"
           }
          ],
          "heatmapgl": [
           {
            "colorbar": {
             "outlinewidth": 0,
             "ticks": ""
            },
            "colorscale": [
             [
              0,
              "#0d0887"
             ],
             [
              0.1111111111111111,
              "#46039f"
             ],
             [
              0.2222222222222222,
              "#7201a8"
             ],
             [
              0.3333333333333333,
              "#9c179e"
             ],
             [
              0.4444444444444444,
              "#bd3786"
             ],
             [
              0.5555555555555556,
              "#d8576b"
             ],
             [
              0.6666666666666666,
              "#ed7953"
             ],
             [
              0.7777777777777778,
              "#fb9f3a"
             ],
             [
              0.8888888888888888,
              "#fdca26"
             ],
             [
              1,
              "#f0f921"
             ]
            ],
            "type": "heatmapgl"
           }
          ],
          "histogram": [
           {
            "marker": {
             "pattern": {
              "fillmode": "overlay",
              "size": 10,
              "solidity": 0.2
             }
            },
            "type": "histogram"
           }
          ],
          "histogram2d": [
           {
            "colorbar": {
             "outlinewidth": 0,
             "ticks": ""
            },
            "colorscale": [
             [
              0,
              "#0d0887"
             ],
             [
              0.1111111111111111,
              "#46039f"
             ],
             [
              0.2222222222222222,
              "#7201a8"
             ],
             [
              0.3333333333333333,
              "#9c179e"
             ],
             [
              0.4444444444444444,
              "#bd3786"
             ],
             [
              0.5555555555555556,
              "#d8576b"
             ],
             [
              0.6666666666666666,
              "#ed7953"
             ],
             [
              0.7777777777777778,
              "#fb9f3a"
             ],
             [
              0.8888888888888888,
              "#fdca26"
             ],
             [
              1,
              "#f0f921"
             ]
            ],
            "type": "histogram2d"
           }
          ],
          "histogram2dcontour": [
           {
            "colorbar": {
             "outlinewidth": 0,
             "ticks": ""
            },
            "colorscale": [
             [
              0,
              "#0d0887"
             ],
             [
              0.1111111111111111,
              "#46039f"
             ],
             [
              0.2222222222222222,
              "#7201a8"
             ],
             [
              0.3333333333333333,
              "#9c179e"
             ],
             [
              0.4444444444444444,
              "#bd3786"
             ],
             [
              0.5555555555555556,
              "#d8576b"
             ],
             [
              0.6666666666666666,
              "#ed7953"
             ],
             [
              0.7777777777777778,
              "#fb9f3a"
             ],
             [
              0.8888888888888888,
              "#fdca26"
             ],
             [
              1,
              "#f0f921"
             ]
            ],
            "type": "histogram2dcontour"
           }
          ],
          "mesh3d": [
           {
            "colorbar": {
             "outlinewidth": 0,
             "ticks": ""
            },
            "type": "mesh3d"
           }
          ],
          "parcoords": [
           {
            "line": {
             "colorbar": {
              "outlinewidth": 0,
              "ticks": ""
             }
            },
            "type": "parcoords"
           }
          ],
          "pie": [
           {
            "automargin": true,
            "type": "pie"
           }
          ],
          "scatter": [
           {
            "fillpattern": {
             "fillmode": "overlay",
             "size": 10,
             "solidity": 0.2
            },
            "type": "scatter"
           }
          ],
          "scatter3d": [
           {
            "line": {
             "colorbar": {
              "outlinewidth": 0,
              "ticks": ""
             }
            },
            "marker": {
             "colorbar": {
              "outlinewidth": 0,
              "ticks": ""
             }
            },
            "type": "scatter3d"
           }
          ],
          "scattercarpet": [
           {
            "marker": {
             "colorbar": {
              "outlinewidth": 0,
              "ticks": ""
             }
            },
            "type": "scattercarpet"
           }
          ],
          "scattergeo": [
           {
            "marker": {
             "colorbar": {
              "outlinewidth": 0,
              "ticks": ""
             }
            },
            "type": "scattergeo"
           }
          ],
          "scattergl": [
           {
            "marker": {
             "colorbar": {
              "outlinewidth": 0,
              "ticks": ""
             }
            },
            "type": "scattergl"
           }
          ],
          "scattermapbox": [
           {
            "marker": {
             "colorbar": {
              "outlinewidth": 0,
              "ticks": ""
             }
            },
            "type": "scattermapbox"
           }
          ],
          "scatterpolar": [
           {
            "marker": {
             "colorbar": {
              "outlinewidth": 0,
              "ticks": ""
             }
            },
            "type": "scatterpolar"
           }
          ],
          "scatterpolargl": [
           {
            "marker": {
             "colorbar": {
              "outlinewidth": 0,
              "ticks": ""
             }
            },
            "type": "scatterpolargl"
           }
          ],
          "scatterternary": [
           {
            "marker": {
             "colorbar": {
              "outlinewidth": 0,
              "ticks": ""
             }
            },
            "type": "scatterternary"
           }
          ],
          "surface": [
           {
            "colorbar": {
             "outlinewidth": 0,
             "ticks": ""
            },
            "colorscale": [
             [
              0,
              "#0d0887"
             ],
             [
              0.1111111111111111,
              "#46039f"
             ],
             [
              0.2222222222222222,
              "#7201a8"
             ],
             [
              0.3333333333333333,
              "#9c179e"
             ],
             [
              0.4444444444444444,
              "#bd3786"
             ],
             [
              0.5555555555555556,
              "#d8576b"
             ],
             [
              0.6666666666666666,
              "#ed7953"
             ],
             [
              0.7777777777777778,
              "#fb9f3a"
             ],
             [
              0.8888888888888888,
              "#fdca26"
             ],
             [
              1,
              "#f0f921"
             ]
            ],
            "type": "surface"
           }
          ],
          "table": [
           {
            "cells": {
             "fill": {
              "color": "#EBF0F8"
             },
             "line": {
              "color": "white"
             }
            },
            "header": {
             "fill": {
              "color": "#C8D4E3"
             },
             "line": {
              "color": "white"
             }
            },
            "type": "table"
           }
          ]
         },
         "layout": {
          "annotationdefaults": {
           "arrowcolor": "#2a3f5f",
           "arrowhead": 0,
           "arrowwidth": 1
          },
          "autotypenumbers": "strict",
          "coloraxis": {
           "colorbar": {
            "outlinewidth": 0,
            "ticks": ""
           }
          },
          "colorscale": {
           "diverging": [
            [
             0,
             "#8e0152"
            ],
            [
             0.1,
             "#c51b7d"
            ],
            [
             0.2,
             "#de77ae"
            ],
            [
             0.3,
             "#f1b6da"
            ],
            [
             0.4,
             "#fde0ef"
            ],
            [
             0.5,
             "#f7f7f7"
            ],
            [
             0.6,
             "#e6f5d0"
            ],
            [
             0.7,
             "#b8e186"
            ],
            [
             0.8,
             "#7fbc41"
            ],
            [
             0.9,
             "#4d9221"
            ],
            [
             1,
             "#276419"
            ]
           ],
           "sequential": [
            [
             0,
             "#0d0887"
            ],
            [
             0.1111111111111111,
             "#46039f"
            ],
            [
             0.2222222222222222,
             "#7201a8"
            ],
            [
             0.3333333333333333,
             "#9c179e"
            ],
            [
             0.4444444444444444,
             "#bd3786"
            ],
            [
             0.5555555555555556,
             "#d8576b"
            ],
            [
             0.6666666666666666,
             "#ed7953"
            ],
            [
             0.7777777777777778,
             "#fb9f3a"
            ],
            [
             0.8888888888888888,
             "#fdca26"
            ],
            [
             1,
             "#f0f921"
            ]
           ],
           "sequentialminus": [
            [
             0,
             "#0d0887"
            ],
            [
             0.1111111111111111,
             "#46039f"
            ],
            [
             0.2222222222222222,
             "#7201a8"
            ],
            [
             0.3333333333333333,
             "#9c179e"
            ],
            [
             0.4444444444444444,
             "#bd3786"
            ],
            [
             0.5555555555555556,
             "#d8576b"
            ],
            [
             0.6666666666666666,
             "#ed7953"
            ],
            [
             0.7777777777777778,
             "#fb9f3a"
            ],
            [
             0.8888888888888888,
             "#fdca26"
            ],
            [
             1,
             "#f0f921"
            ]
           ]
          },
          "colorway": [
           "#636efa",
           "#EF553B",
           "#00cc96",
           "#ab63fa",
           "#FFA15A",
           "#19d3f3",
           "#FF6692",
           "#B6E880",
           "#FF97FF",
           "#FECB52"
          ],
          "font": {
           "color": "#2a3f5f"
          },
          "geo": {
           "bgcolor": "white",
           "lakecolor": "white",
           "landcolor": "#E5ECF6",
           "showlakes": true,
           "showland": true,
           "subunitcolor": "white"
          },
          "hoverlabel": {
           "align": "left"
          },
          "hovermode": "closest",
          "mapbox": {
           "style": "light"
          },
          "paper_bgcolor": "white",
          "plot_bgcolor": "#E5ECF6",
          "polar": {
           "angularaxis": {
            "gridcolor": "white",
            "linecolor": "white",
            "ticks": ""
           },
           "bgcolor": "#E5ECF6",
           "radialaxis": {
            "gridcolor": "white",
            "linecolor": "white",
            "ticks": ""
           }
          },
          "scene": {
           "xaxis": {
            "backgroundcolor": "#E5ECF6",
            "gridcolor": "white",
            "gridwidth": 2,
            "linecolor": "white",
            "showbackground": true,
            "ticks": "",
            "zerolinecolor": "white"
           },
           "yaxis": {
            "backgroundcolor": "#E5ECF6",
            "gridcolor": "white",
            "gridwidth": 2,
            "linecolor": "white",
            "showbackground": true,
            "ticks": "",
            "zerolinecolor": "white"
           },
           "zaxis": {
            "backgroundcolor": "#E5ECF6",
            "gridcolor": "white",
            "gridwidth": 2,
            "linecolor": "white",
            "showbackground": true,
            "ticks": "",
            "zerolinecolor": "white"
           }
          },
          "shapedefaults": {
           "line": {
            "color": "#2a3f5f"
           }
          },
          "ternary": {
           "aaxis": {
            "gridcolor": "white",
            "linecolor": "white",
            "ticks": ""
           },
           "baxis": {
            "gridcolor": "white",
            "linecolor": "white",
            "ticks": ""
           },
           "bgcolor": "#E5ECF6",
           "caxis": {
            "gridcolor": "white",
            "linecolor": "white",
            "ticks": ""
           }
          },
          "title": {
           "x": 0.05
          },
          "xaxis": {
           "automargin": true,
           "gridcolor": "white",
           "linecolor": "white",
           "ticks": "",
           "title": {
            "standoff": 15
           },
           "zerolinecolor": "white",
           "zerolinewidth": 2
          },
          "yaxis": {
           "automargin": true,
           "gridcolor": "white",
           "linecolor": "white",
           "ticks": "",
           "title": {
            "standoff": 15
           },
           "zerolinecolor": "white",
           "zerolinewidth": 2
          }
         }
        },
        "title": {
         "font": {
          "color": "darkblue",
          "family": "Arial",
          "size": 24
         },
         "text": "Companies in Denmark",
         "x": 0.5,
         "xanchor": "center"
        },
        "width": 1200
       }
      }
     },
     "metadata": {},
     "output_type": "display_data"
    }
   ],
   "source": [
    "longitudes = [company['longitude'] for company in company['companies']]\n",
    "latitudes = [company['latitude'] for company in company['companies']]\n",
    "names = [company['name'] for company in company['companies']]\n",
    "emails = [company['email'] for company in company['companies']]\n",
    "\n",
    "# Define the plot\n",
    "fig = go.Figure(data=go.Scattergeo(\n",
    "    lon=longitudes,\n",
    "    lat=latitudes,\n",
    "    text=[f\"<b>{name}</b><br>Email: {email}\" for name, email in zip(names, emails)],\n",
    "    mode='markers',\n",
    "    marker=dict(\n",
    "        size=9,  \n",
    "        color='royalblue',  \n",
    "        line=dict(width=2, color='darkblue'),\n",
    "        symbol='circle'\n",
    "    )\n",
    "))\n",
    "fig.update_layout(\n",
    "    title=dict(\n",
    "        text='Companies in Denmark',\n",
    "        font=dict(family=\"Arial\", size=24, color='darkblue'),\n",
    "        x=0.5,\n",
    "        xanchor='center'\n",
    "    ),\n",
    "    geo=dict(\n",
    "        scope='europe', \n",
    "        showland=True,\n",
    "        landcolor='lightgrey',\n",
    "        showocean=True,\n",
    "        oceancolor='lightblue',\n",
    "        coastlinecolor='darkblue',\n",
    "        showcoastlines=True,\n",
    "        showcountries=True,\n",
    "        countrycolor='black'\n",
    "    ),\n",
    "    paper_bgcolor='white',\n",
    "    plot_bgcolor='white',\n",
    "    width=1200,\n",
    "    height=800 \n",
    ")\n",
    "fig.show()"
   ]
  },
  {
   "cell_type": "code",
   "execution_count": null,
   "metadata": {},
   "outputs": [],
   "source": []
  }
 ],
 "metadata": {
  "kernelspec": {
   "display_name": "DataScience",
   "language": "python",
   "name": "python3"
  },
  "language_info": {
   "codemirror_mode": {
    "name": "ipython",
    "version": 3
   },
   "file_extension": ".py",
   "mimetype": "text/x-python",
   "name": "python",
   "nbconvert_exporter": "python",
   "pygments_lexer": "ipython3",
   "version": "3.11.9"
  }
 },
 "nbformat": 4,
 "nbformat_minor": 2
}
