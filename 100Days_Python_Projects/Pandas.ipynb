{
 "cells": [
  {
   "cell_type": "code",
   "execution_count": 48,
   "metadata": {},
   "outputs": [],
   "source": [
    "#Short summary of Pandas\n",
    "import pandas as pd "
   ]
  },
  {
   "cell_type": "code",
   "execution_count": 49,
   "metadata": {},
   "outputs": [
    {
     "data": {
      "text/html": [
       "<div>\n",
       "<style scoped>\n",
       "    .dataframe tbody tr th:only-of-type {\n",
       "        vertical-align: middle;\n",
       "    }\n",
       "\n",
       "    .dataframe tbody tr th {\n",
       "        vertical-align: top;\n",
       "    }\n",
       "\n",
       "    .dataframe thead th {\n",
       "        text-align: right;\n",
       "    }\n",
       "</style>\n",
       "<table border=\"1\" class=\"dataframe\">\n",
       "  <thead>\n",
       "    <tr style=\"text-align: right;\">\n",
       "      <th></th>\n",
       "      <th>Undergraduate Major</th>\n",
       "      <th>Starting Median Salary</th>\n",
       "      <th>Mid-Career Median Salary</th>\n",
       "      <th>Mid-Career 10th Percentile Salary</th>\n",
       "      <th>Mid-Career 90th Percentile Salary</th>\n",
       "      <th>Group</th>\n",
       "    </tr>\n",
       "  </thead>\n",
       "  <tbody>\n",
       "    <tr>\n",
       "      <th>0</th>\n",
       "      <td>Accounting</td>\n",
       "      <td>46000.0</td>\n",
       "      <td>77100.0</td>\n",
       "      <td>42200.0</td>\n",
       "      <td>152000.0</td>\n",
       "      <td>Business</td>\n",
       "    </tr>\n",
       "    <tr>\n",
       "      <th>1</th>\n",
       "      <td>Aerospace Engineering</td>\n",
       "      <td>57700.0</td>\n",
       "      <td>101000.0</td>\n",
       "      <td>64300.0</td>\n",
       "      <td>161000.0</td>\n",
       "      <td>STEM</td>\n",
       "    </tr>\n",
       "    <tr>\n",
       "      <th>2</th>\n",
       "      <td>Agriculture</td>\n",
       "      <td>42600.0</td>\n",
       "      <td>71900.0</td>\n",
       "      <td>36300.0</td>\n",
       "      <td>150000.0</td>\n",
       "      <td>Business</td>\n",
       "    </tr>\n",
       "    <tr>\n",
       "      <th>3</th>\n",
       "      <td>Anthropology</td>\n",
       "      <td>36800.0</td>\n",
       "      <td>61500.0</td>\n",
       "      <td>33800.0</td>\n",
       "      <td>138000.0</td>\n",
       "      <td>HASS</td>\n",
       "    </tr>\n",
       "    <tr>\n",
       "      <th>4</th>\n",
       "      <td>Architecture</td>\n",
       "      <td>41600.0</td>\n",
       "      <td>76800.0</td>\n",
       "      <td>50600.0</td>\n",
       "      <td>136000.0</td>\n",
       "      <td>Business</td>\n",
       "    </tr>\n",
       "  </tbody>\n",
       "</table>\n",
       "</div>"
      ],
      "text/plain": [
       "     Undergraduate Major  Starting Median Salary  Mid-Career Median Salary  \\\n",
       "0             Accounting                 46000.0                   77100.0   \n",
       "1  Aerospace Engineering                 57700.0                  101000.0   \n",
       "2            Agriculture                 42600.0                   71900.0   \n",
       "3           Anthropology                 36800.0                   61500.0   \n",
       "4           Architecture                 41600.0                   76800.0   \n",
       "\n",
       "   Mid-Career 10th Percentile Salary  Mid-Career 90th Percentile Salary  \\\n",
       "0                            42200.0                           152000.0   \n",
       "1                            64300.0                           161000.0   \n",
       "2                            36300.0                           150000.0   \n",
       "3                            33800.0                           138000.0   \n",
       "4                            50600.0                           136000.0   \n",
       "\n",
       "      Group  \n",
       "0  Business  \n",
       "1      STEM  \n",
       "2  Business  \n",
       "3      HASS  \n",
       "4  Business  "
      ]
     },
     "execution_count": 49,
     "metadata": {},
     "output_type": "execute_result"
    }
   ],
   "source": [
    "data = pd.read_csv('./data/Pandas/salaries_by_college_major.csv')\n",
    "data.head()"
   ]
  },
  {
   "cell_type": "code",
   "execution_count": 50,
   "metadata": {},
   "outputs": [
    {
     "data": {
      "text/plain": [
       "(51, 6)"
      ]
     },
     "execution_count": 50,
     "metadata": {},
     "output_type": "execute_result"
    }
   ],
   "source": [
    "data.shape"
   ]
  },
  {
   "cell_type": "code",
   "execution_count": 51,
   "metadata": {},
   "outputs": [
    {
     "data": {
      "text/plain": [
       "<bound method NDFrame.describe of                      Undergraduate Major  Starting Median Salary  \\\n",
       "0                             Accounting                 46000.0   \n",
       "1                  Aerospace Engineering                 57700.0   \n",
       "2                            Agriculture                 42600.0   \n",
       "3                           Anthropology                 36800.0   \n",
       "4                           Architecture                 41600.0   \n",
       "5                            Art History                 35800.0   \n",
       "6                                Biology                 38800.0   \n",
       "7                    Business Management                 43000.0   \n",
       "8                   Chemical Engineering                 63200.0   \n",
       "9                              Chemistry                 42600.0   \n",
       "10                     Civil Engineering                 53900.0   \n",
       "11                        Communications                 38100.0   \n",
       "12                  Computer Engineering                 61400.0   \n",
       "13                      Computer Science                 55900.0   \n",
       "14                          Construction                 53700.0   \n",
       "15                      Criminal Justice                 35000.0   \n",
       "16                                 Drama                 35900.0   \n",
       "17                             Economics                 50100.0   \n",
       "18                             Education                 34900.0   \n",
       "19                Electrical Engineering                 60900.0   \n",
       "20                               English                 38000.0   \n",
       "21                                  Film                 37900.0   \n",
       "22                               Finance                 47900.0   \n",
       "23                              Forestry                 39100.0   \n",
       "24                             Geography                 41200.0   \n",
       "25                               Geology                 43500.0   \n",
       "26                        Graphic Design                 35700.0   \n",
       "27            Health Care Administration                 38800.0   \n",
       "28                               History                 39200.0   \n",
       "29                 Hospitality & Tourism                 37800.0   \n",
       "30                Industrial Engineering                 57700.0   \n",
       "31           Information Technology (IT)                 49100.0   \n",
       "32                       Interior Design                 36100.0   \n",
       "33               International Relations                 40900.0   \n",
       "34                            Journalism                 35600.0   \n",
       "35  Management Information Systems (MIS)                 49200.0   \n",
       "36                             Marketing                 40800.0   \n",
       "37                                  Math                 45400.0   \n",
       "38                Mechanical Engineering                 57900.0   \n",
       "39                                 Music                 35900.0   \n",
       "40                               Nursing                 54200.0   \n",
       "41                             Nutrition                 39900.0   \n",
       "42                            Philosophy                 39900.0   \n",
       "43                   Physician Assistant                 74300.0   \n",
       "44                               Physics                 50300.0   \n",
       "45                     Political Science                 40800.0   \n",
       "46                            Psychology                 35900.0   \n",
       "47                              Religion                 34100.0   \n",
       "48                             Sociology                 36500.0   \n",
       "49                               Spanish                 34000.0   \n",
       "50                 Source: PayScale Inc.                     NaN   \n",
       "\n",
       "    Mid-Career Median Salary  Mid-Career 10th Percentile Salary  \\\n",
       "0                    77100.0                            42200.0   \n",
       "1                   101000.0                            64300.0   \n",
       "2                    71900.0                            36300.0   \n",
       "3                    61500.0                            33800.0   \n",
       "4                    76800.0                            50600.0   \n",
       "5                    64900.0                            28800.0   \n",
       "6                    64800.0                            36900.0   \n",
       "7                    72100.0                            38800.0   \n",
       "8                   107000.0                            71900.0   \n",
       "9                    79900.0                            45300.0   \n",
       "10                   90500.0                            63400.0   \n",
       "11                   70000.0                            37500.0   \n",
       "12                  105000.0                            66100.0   \n",
       "13                   95500.0                            56000.0   \n",
       "14                   88900.0                            56300.0   \n",
       "15                   56300.0                            32200.0   \n",
       "16                   56900.0                            36700.0   \n",
       "17                   98600.0                            50600.0   \n",
       "18                   52000.0                            29300.0   \n",
       "19                  103000.0                            69300.0   \n",
       "20                   64700.0                            33400.0   \n",
       "21                   68500.0                            33900.0   \n",
       "22                   88300.0                            47200.0   \n",
       "23                   62600.0                            41000.0   \n",
       "24                   65500.0                            40000.0   \n",
       "25                   79500.0                            45000.0   \n",
       "26                   59800.0                            36000.0   \n",
       "27                   60600.0                            34600.0   \n",
       "28                   71000.0                            37000.0   \n",
       "29                   57500.0                            35500.0   \n",
       "30                   94700.0                            57100.0   \n",
       "31                   74800.0                            44500.0   \n",
       "32                   53200.0                            35700.0   \n",
       "33                   80900.0                            38200.0   \n",
       "34                   66700.0                            38400.0   \n",
       "35                   82300.0                            45300.0   \n",
       "36                   79600.0                            42100.0   \n",
       "37                   92400.0                            45200.0   \n",
       "38                   93600.0                            63700.0   \n",
       "39                   55000.0                            26700.0   \n",
       "40                   67000.0                            47600.0   \n",
       "41                   55300.0                            33900.0   \n",
       "42                   81200.0                            35500.0   \n",
       "43                   91700.0                            66400.0   \n",
       "44                   97300.0                            56000.0   \n",
       "45                   78200.0                            41200.0   \n",
       "46                   60400.0                            31600.0   \n",
       "47                   52000.0                            29700.0   \n",
       "48                   58200.0                            30700.0   \n",
       "49                   53100.0                            31000.0   \n",
       "50                       NaN                                NaN   \n",
       "\n",
       "    Mid-Career 90th Percentile Salary     Group  \n",
       "0                            152000.0  Business  \n",
       "1                            161000.0      STEM  \n",
       "2                            150000.0  Business  \n",
       "3                            138000.0      HASS  \n",
       "4                            136000.0  Business  \n",
       "5                            125000.0      HASS  \n",
       "6                            135000.0      STEM  \n",
       "7                            147000.0  Business  \n",
       "8                            194000.0      STEM  \n",
       "9                            148000.0      STEM  \n",
       "10                           148000.0      STEM  \n",
       "11                           143000.0      HASS  \n",
       "12                           162000.0      STEM  \n",
       "13                           154000.0      STEM  \n",
       "14                           171000.0  Business  \n",
       "15                           107000.0      HASS  \n",
       "16                           153000.0      HASS  \n",
       "17                           210000.0  Business  \n",
       "18                           102000.0      HASS  \n",
       "19                           168000.0      STEM  \n",
       "20                           133000.0      HASS  \n",
       "21                           136000.0      HASS  \n",
       "22                           195000.0  Business  \n",
       "23                           111000.0  Business  \n",
       "24                           132000.0      HASS  \n",
       "25                           156000.0      STEM  \n",
       "26                           112000.0      HASS  \n",
       "27                           101000.0  Business  \n",
       "28                           149000.0      HASS  \n",
       "29                           124000.0  Business  \n",
       "30                           173000.0      STEM  \n",
       "31                           129000.0      STEM  \n",
       "32                           107000.0      HASS  \n",
       "33                           157000.0      HASS  \n",
       "34                           145000.0      HASS  \n",
       "35                           146000.0      STEM  \n",
       "36                           175000.0  Business  \n",
       "37                           183000.0      STEM  \n",
       "38                           163000.0      STEM  \n",
       "39                           134000.0      HASS  \n",
       "40                            98300.0  Business  \n",
       "41                            99200.0      HASS  \n",
       "42                           168000.0      HASS  \n",
       "43                           124000.0      STEM  \n",
       "44                           178000.0      STEM  \n",
       "45                           168000.0      HASS  \n",
       "46                           127000.0      HASS  \n",
       "47                            96400.0      HASS  \n",
       "48                           118000.0      HASS  \n",
       "49                            96400.0      HASS  \n",
       "50                                NaN       NaN  >"
      ]
     },
     "execution_count": 51,
     "metadata": {},
     "output_type": "execute_result"
    }
   ],
   "source": [
    "data.describe"
   ]
  },
  {
   "cell_type": "code",
   "execution_count": 52,
   "metadata": {},
   "outputs": [
    {
     "data": {
      "text/plain": [
       "Undergraduate Major  Starting Median Salary  Mid-Career Median Salary  Mid-Career 10th Percentile Salary  Mid-Career 90th Percentile Salary  Group\n",
       "False                False                   False                     False                              False                              False    50\n",
       "                     True                    True                      True                               True                               True      1\n",
       "Name: count, dtype: int64"
      ]
     },
     "execution_count": 52,
     "metadata": {},
     "output_type": "execute_result"
    }
   ],
   "source": [
    "data.isnull().value_counts()"
   ]
  },
  {
   "cell_type": "code",
   "execution_count": 53,
   "metadata": {},
   "outputs": [],
   "source": [
    "clean_data = data.dropna()"
   ]
  },
  {
   "cell_type": "code",
   "execution_count": 54,
   "metadata": {},
   "outputs": [
    {
     "data": {
      "text/plain": [
       "Undergraduate Major                  Physician Assistant\n",
       "Starting Median Salary                           74300.0\n",
       "Mid-Career Median Salary                         91700.0\n",
       "Mid-Career 10th Percentile Salary                66400.0\n",
       "Mid-Career 90th Percentile Salary               124000.0\n",
       "Group                                               STEM\n",
       "Name: 43, dtype: object"
      ]
     },
     "execution_count": 54,
     "metadata": {},
     "output_type": "execute_result"
    }
   ],
   "source": [
    "clean_data['Starting Median Salary'].idxmax()\n",
    "clean_data.loc[43]"
   ]
  },
  {
   "cell_type": "code",
   "execution_count": 55,
   "metadata": {},
   "outputs": [
    {
     "data": {
      "text/plain": [
       "'Chemical Engineering'"
      ]
     },
     "execution_count": 55,
     "metadata": {},
     "output_type": "execute_result"
    }
   ],
   "source": [
    "clean_data['Mid-Career 10th Percentile Salary'].idxmax()\n",
    "clean_data['Undergraduate Major'][8]\n"
   ]
  },
  {
   "cell_type": "code",
   "execution_count": 56,
   "metadata": {},
   "outputs": [
    {
     "data": {
      "text/html": [
       "<div>\n",
       "<style scoped>\n",
       "    .dataframe tbody tr th:only-of-type {\n",
       "        vertical-align: middle;\n",
       "    }\n",
       "\n",
       "    .dataframe tbody tr th {\n",
       "        vertical-align: top;\n",
       "    }\n",
       "\n",
       "    .dataframe thead th {\n",
       "        text-align: right;\n",
       "    }\n",
       "</style>\n",
       "<table border=\"1\" class=\"dataframe\">\n",
       "  <thead>\n",
       "    <tr style=\"text-align: right;\">\n",
       "      <th></th>\n",
       "      <th>Undergraduate Major</th>\n",
       "      <th>Starting Median Salary</th>\n",
       "      <th>Mid-Career Median Salary</th>\n",
       "      <th>Mid-Career 10th Percentile Salary</th>\n",
       "      <th>Mid-Career 90th Percentile Salary</th>\n",
       "    </tr>\n",
       "    <tr>\n",
       "      <th>Group</th>\n",
       "      <th></th>\n",
       "      <th></th>\n",
       "      <th></th>\n",
       "      <th></th>\n",
       "      <th></th>\n",
       "    </tr>\n",
       "  </thead>\n",
       "  <tbody>\n",
       "    <tr>\n",
       "      <th>Business</th>\n",
       "      <td>12</td>\n",
       "      <td>12</td>\n",
       "      <td>12</td>\n",
       "      <td>12</td>\n",
       "      <td>12</td>\n",
       "    </tr>\n",
       "    <tr>\n",
       "      <th>HASS</th>\n",
       "      <td>22</td>\n",
       "      <td>22</td>\n",
       "      <td>22</td>\n",
       "      <td>22</td>\n",
       "      <td>22</td>\n",
       "    </tr>\n",
       "    <tr>\n",
       "      <th>STEM</th>\n",
       "      <td>16</td>\n",
       "      <td>16</td>\n",
       "      <td>16</td>\n",
       "      <td>16</td>\n",
       "      <td>16</td>\n",
       "    </tr>\n",
       "  </tbody>\n",
       "</table>\n",
       "</div>"
      ],
      "text/plain": [
       "          Undergraduate Major  Starting Median Salary  \\\n",
       "Group                                                   \n",
       "Business                   12                      12   \n",
       "HASS                       22                      22   \n",
       "STEM                       16                      16   \n",
       "\n",
       "          Mid-Career Median Salary  Mid-Career 10th Percentile Salary  \\\n",
       "Group                                                                   \n",
       "Business                        12                                 12   \n",
       "HASS                            22                                 22   \n",
       "STEM                            16                                 16   \n",
       "\n",
       "          Mid-Career 90th Percentile Salary  \n",
       "Group                                        \n",
       "Business                                 12  \n",
       "HASS                                     22  \n",
       "STEM                                     16  "
      ]
     },
     "execution_count": 56,
     "metadata": {},
     "output_type": "execute_result"
    }
   ],
   "source": [
    "clean_data_count = clean_data.groupby('Group').count()\n",
    "clean_data_count"
   ]
  }
 ],
 "metadata": {
  "kernelspec": {
   "display_name": "DataScience",
   "language": "python",
   "name": "python3"
  },
  "language_info": {
   "codemirror_mode": {
    "name": "ipython",
    "version": 3
   },
   "file_extension": ".py",
   "mimetype": "text/x-python",
   "name": "python",
   "nbconvert_exporter": "python",
   "pygments_lexer": "ipython3",
   "version": "3.11.9"
  }
 },
 "nbformat": 4,
 "nbformat_minor": 2
}
