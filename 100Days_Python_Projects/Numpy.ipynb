{
 "cells": [
  {
   "cell_type": "code",
   "execution_count": 2,
   "metadata": {},
   "outputs": [],
   "source": [
    "import numpy as np"
   ]
  },
  {
   "cell_type": "markdown",
   "metadata": {},
   "source": [
    "1-Dimension"
   ]
  },
  {
   "cell_type": "code",
   "execution_count": 9,
   "metadata": {},
   "outputs": [
    {
     "name": "stdout",
     "output_type": "stream",
     "text": [
      "The shape of the array: (6,)\n",
      "The same way of accesing element by index: 3.4\n",
      "How many dimension: 1\n"
     ]
    }
   ],
   "source": [
    "array = np.array([1.1, 2.9, 3.4, 9.2, 7.5, 9.1])\n",
    "print(f'The shape of the array: {array.shape}')\n",
    "print