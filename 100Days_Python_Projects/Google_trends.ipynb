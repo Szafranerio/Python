{
 "cells": [
  {
   "cell_type": "code",
   "execution_count": 130,
   "metadata": {},
   "outputs": [],
   "source": [
    "import pandas as pd \n",
    "import matplotlib.pyplot as plt\n",
    "import matplotlib.dates as mdates"
   ]
  },
  {
   "cell_type": "code",
   "execution_count": 131,
   "metadata": {},
   "outputs": [
    {
     "name": "stdout",
     "output_type": "stream",
     "text": [
      "The shape of set is (124, 3)\n",
      "The size of set is 372\n",
      "The columns names are Index(['MONTH', 'TSLA_WEB_SEARCH', 'TSLA_USD_CLOSE'], dtype='object')\n",
      "The largest value of web searches is 31\n",
      "The lowest value of web searches is 2\n"
     ]
    }
   ],
   "source": [
    "df_tesla = pd.read_csv('./data/Google_Trends_TimeSeries/TESLA Search Trend vs Price.csv')\n",
    "df_tesla.head()\n",
    "print(f'The shape of set is {df_tesla.shape}')\n",
    "print(f'The size of set is {df_tesla.size}')\n",
    "print(f'The columns names are {df_tesla.columns}')\n",
    "print(f'The largest value of web searches is {df_tesla.TSLA_WEB_SEARCH.max()}')\n",
    "print(f'The lowest value of web searches is {df_tesla.TSLA_WEB_SEARCH.min()}')\n"
   ]
  },
  {
   "cell_type": "code",
   "execution_count": 132,
   "metadata": {},
   "outputs": [
    {
     "name": "stdout",
     "output_type": "stream",
     "text": [
      "The shape of set is (181, 3)\n",
      "The size of set is 543\n",
      "The columns names are Index(['MONTH', 'UE_BENEFITS_WEB_SEARCH', 'UNRATE'], dtype='object')\n",
      "The largest value of web searches is 100\n",
      "The lowest value of web searches is 14\n"
     ]
    }
   ],
   "source": [
    "df_unemployment = pd.read_csv('./data/Google_Trends_TimeSeries/UE Benefits Search vs UE Rate 2004-19.csv')\n",
    "print(f'The shape of set is {df_unemployment.shape}')\n",
    "print(f'The size of set is {df_unemployment.size}')\n",
    "print(f'The columns names are {df_unemployment.columns}')\n",
    "print(f'The largest value of web searches is {df_unemployment.UE_BENEFITS_WEB_SEARCH.max()}')\n",
    "print(f'The lowest value of web searches is {df_unemployment.UE_BENEFITS_WEB_SEARCH.min()}')\n"
   ]
  },
  {
   "cell_type": "code",
   "execution_count": 133,
   "metadata": {},
   "outputs": [
    {
     "name": "stdout",
     "output_type": "stream",
     "text": [
      "The shape of set is (2204, 3)\n",
      "The size of set is 6612\n",
      "The columns names are Index(['DATE', 'CLOSE', 'VOLUME'], dtype='object')\n",
      "The largest value of close value is 19497.400391\n",
      "The lowest value of close value is 178.102997\n"
     ]
    }
   ],
   "source": [
    "df_bitcoin = pd.read_csv('./data/Google_Trends_TimeSeries/Daily Bitcoin Price.csv')\n",
    "print(f'The shape of set is {df_bitcoin.shape}')\n",
    "print(f'The size of set is {df_bitcoin.size}')\n",
    "print(f'The columns names are {df_bitcoin.columns}')\n",
    "print(f'The largest value of close value is {df_bitcoin.CLOSE.max()}')\n",
    "print(f'The lowest value of close value is {df_bitcoin.CLOSE.min()}')"
   ]
  },
  {
   "cell_type": "code",
   "execution_count": 134,
   "metadata": {},
   "outputs": [
    {
     "name": "stdout",
     "output_type": "stream",
     "text": [
      "The shape of set is (73, 2)\n",
      "The size of set is 146\n",
      "The columns names are Index(['MONTH', 'BTC_NEWS_SEARCH'], dtype='object')\n",
      "The largest value of close value is 100\n",
      "The lowest value of close value is 3\n"
     ]
    }
   ],
   "source": [
    "df_bitcoin_search = pd.read_csv('./data/Google_Trends_TimeSeries/Bitcoin Search Trend.csv')\n",
    "print(f'The shape of set is {df_bitcoin_search.shape}')\n",
    "print(f'The size of set is {df_bitcoin_search.size}')\n",
    "print(f'The columns names are {df_bitcoin_search.columns}')\n",
    "print(f'The largest value of close value is {df_bitcoin_search.BTC_NEWS_SEARCH.max()}')\n",
    "print(f'The lowest value of close value is {df_bitcoin_search.BTC_NEWS_SEARCH.min()}')"
   ]
  },
  {
   "cell_type": "markdown",
   "metadata": {},
   "source": [
    "Missing values"
   ]
  },
  {
   "cell_type": "code",
   "execution_count": 135,
   "metadata": {},
   "outputs": [
    {
     "name": "stdout",
     "output_type": "stream",
     "text": [
      "Missing values for Tesla: False\n",
      "Missing values for Unemployemnt: False\n",
      "Missing values for Bitcoin price: True\n",
      "Missing values for Bitcoin search: False\n"
     ]
    }
   ],
   "source": [
    "print(f'Missing values for Tesla: {df_tesla.isna().values.any()}')\n",
    "print(f'Missing values for Unemployemnt: {df_unemployment.isna().values.any()}')\n",
    "print(f'Missing values for Bitcoin price: {df_bitcoin.isna().values.any()}')\n",
    "print(f'Missing values for Bitcoin search: {df_bitcoin_search.isna().values.any()}')"
   ]
  },
  {
   "cell_type": "code",
   "execution_count": 136,
   "metadata": {},
   "outputs": [],
   "source": [
    "df_bitcoin = df_bitcoin.dropna()"
   ]
  },
  {
   "cell_type": "markdown",
   "metadata": {},
   "source": [
    "String to datetime"
   ]
  },
  {
   "cell_type": "code",
   "execution_count": 137,
   "metadata": {},
   "outputs": [],
   "source": [
    "df_tesla.MONTH = pd.to_datetime(df_tesla.MONTH)\n",
    "df_unemployment.MONTH = pd.to_datetime(df_unemployment.MONTH)\n",
    "df_bitcoin.DATE = pd.to_datetime(df_bitcoin.DATE)\n",
    "df_bitcoin_search.MONTH = pd.to_datetime(df_bitcoin_search.MONTH)\n"
   ]
  },
  {
   "cell_type": "code",
   "execution_count": 138,
   "metadata": {},
   "outputs": [
    {
     "data": {
      "text/html": [
       "<div>\n",
       "<style scoped>\n",
       "    .dataframe tbody tr th:only-of-type {\n",
       "        vertical-align: middle;\n",
       "    }\n",
       "\n",
       "    .dataframe tbody tr th {\n",
       "        vertical-align: top;\n",
       "    }\n",
       "\n",
       "    .dataframe thead th {\n",
       "        text-align: right;\n",
       "    }\n",
       "</style>\n",
       "<table border=\"1\" class=\"dataframe\">\n",
       "  <thead>\n",
       "    <tr style=\"text-align: right;\">\n",
       "      <th></th>\n",
       "      <th>CLOSE</th>\n",
       "      <th>VOLUME</th>\n",
       "    </tr>\n",
       "    <tr>\n",
       "      <th>DATE</th>\n",
       "      <th></th>\n",
       "      <th></th>\n",
       "    </tr>\n",
       "  </thead>\n",
       "  <tbody>\n",
       "    <tr>\n",
       "      <th>2014-09-30</th>\n",
       "      <td>407.182428</td>\n",
       "      <td>2.934864e+07</td>\n",
       "    </tr>\n",
       "    <tr>\n",
       "      <th>2014-10-31</th>\n",
       "      <td>364.148873</td>\n",
       "      <td>2.912885e+07</td>\n",
       "    </tr>\n",
       "    <tr>\n",
       "      <th>2014-11-30</th>\n",
       "      <td>366.099799</td>\n",
       "      <td>2.199111e+07</td>\n",
       "    </tr>\n",
       "    <tr>\n",
       "      <th>2014-12-31</th>\n",
       "      <td>341.267871</td>\n",
       "      <td>1.784201e+07</td>\n",
       "    </tr>\n",
       "    <tr>\n",
